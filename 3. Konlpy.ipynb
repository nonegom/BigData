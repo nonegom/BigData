{
 "cells": [
  {
   "cell_type": "code",
   "execution_count": 15,
   "metadata": {},
   "outputs": [],
   "source": [
    "from konlpy.tag import Okt\n",
    "from konlpy.tag import Hannanum\n",
    "from konlpy.tag import Kkma\n",
    "\n",
    "from collections import Counter"
   ]
  },
  {
   "cell_type": "code",
   "execution_count": 12,
   "metadata": {},
   "outputs": [
    {
     "name": "stdout",
     "output_type": "stream",
     "text": [
      "['열심히', '코딩', '한', '당신', ',', '연휴', '에는', '여행', '을', '가봐요']\n",
      "[('열심히', 'Adverb'), ('코딩', 'Noun'), ('한', 'Josa'), ('당신', 'Noun'), (',', 'Punctuation'), ('연휴', 'Noun'), ('에는', 'Josa'), ('여행', 'Noun'), ('을', 'Josa'), ('가봐요', 'Verb')]\n",
      "['코딩', '당신', '연휴', '여행']\n"
     ]
    }
   ],
   "source": [
    "tagger = Okt()\n",
    "text = \"열심히 코딩한 당신, 연휴에는 여행을 가봐요\"\n",
    "print(tagger.morphs(text))\n",
    "\n",
    "print(tagger.pos(text))\n",
    "print(tagger.nouns(text))"
   ]
  },
  {
   "cell_type": "code",
   "execution_count": 13,
   "metadata": {},
   "outputs": [
    {
     "name": "stdout",
     "output_type": "stream",
     "text": [
      "['열심히', '코딩', '하', 'ㄴ', '당신', ',', '연휴', '에는', '여행', '을', '가', '아', '보', '아']\n",
      "[('열심히', 'M'), ('코딩', 'N'), ('하', 'X'), ('ㄴ', 'E'), ('당신', 'N'), (',', 'S'), ('연휴', 'N'), ('에는', 'J'), ('여행', 'N'), ('을', 'J'), ('가', 'P'), ('아', 'E'), ('보', 'P'), ('아', 'E')]\n",
      "['코딩', '당신', '연휴', '여행']\n"
     ]
    }
   ],
   "source": [
    "tagger = Hannanum()\n",
    "text = \"열심히 코딩한 당신, 연휴에는 여행을 가봐요\"\n",
    "print(tagger.morphs(text))\n",
    "\n",
    "print(tagger.pos(text))\n",
    "print(tagger.nouns(text))"
   ]
  },
  {
   "cell_type": "code",
   "execution_count": 14,
   "metadata": {},
   "outputs": [
    {
     "name": "stdout",
     "output_type": "stream",
     "text": [
      "['열심히', '코딩', '하', 'ㄴ', '당신', ',', '연휴', '에', '는', '여행', '을', '가보', '아요']\n",
      "[('열심히', 'MAG'), ('코딩', 'NNG'), ('하', 'XSV'), ('ㄴ', 'ETD'), ('당신', 'NP'), (',', 'SP'), ('연휴', 'NNG'), ('에', 'JKM'), ('는', 'JX'), ('여행', 'NNG'), ('을', 'JKO'), ('가보', 'VV'), ('아요', 'EFN')]\n",
      "['코딩', '당신', '연휴', '여행']\n"
     ]
    }
   ],
   "source": [
    "tagger = Kkma()\n",
    "text = \"열심히 코딩한 당신, 연휴에는 여행을 가봐요\"\n",
    "print(tagger.morphs(text))\n",
    "\n",
    "print(tagger.pos(text))\n",
    "print(tagger.nouns(text))"
   ]
  },
  {
   "cell_type": "markdown",
   "metadata": {},
   "source": [
    "### 정제와 정규화"
   ]
  },
  {
   "cell_type": "code",
   "execution_count": 17,
   "metadata": {},
   "outputs": [
    {
     "name": "stdout",
     "output_type": "stream",
     "text": [
      "[('은', 3), ('대한민국', 2), ('.', 2), ('주권', 2), ('국민', 2)]\n"
     ]
    }
   ],
   "source": [
    "tagger = Hannanum()\n",
    "text = \"대한민국은 민주공화국이다. 대한민국의 주권은 국민에게 있고, 국민은 그 대표자나 국민투표에 의하여 주권을 행사한다.\"\n",
    "result = tagger.morphs(text)\n",
    "\n",
    "c = Counter(result)\n",
    "print(c.most_common(5))"
   ]
  },
  {
   "cell_type": "markdown",
   "metadata": {},
   "source": [
    "### 불용어 제거"
   ]
  },
  {
   "cell_type": "code",
   "execution_count": 18,
   "metadata": {},
   "outputs": [],
   "source": [
    "stop_words = [\"은\", \".\", \"이\", \"다\", \"의\", \"에게\", \"있\", \"고\", \"그\", \"에\", \"어\", \"을\", \"하\", \"ㄴ다\", \",\"]\n",
    "result = [x for x in result if x not in stop_words]"
   ]
  },
  {
   "cell_type": "code",
   "execution_count": 19,
   "metadata": {
    "collapsed": true
   },
   "outputs": [
    {
     "data": {
      "text/plain": [
       "['대한민국',\n",
       " '민주공화국',\n",
       " '대한민국',\n",
       " '주권',\n",
       " '국민',\n",
       " '국민',\n",
       " '대표자',\n",
       " '나',\n",
       " '국민투표',\n",
       " '의하',\n",
       " '주권',\n",
       " '행사']"
      ]
     },
     "execution_count": 19,
     "metadata": {},
     "output_type": "execute_result"
    }
   ],
   "source": [
    "result"
   ]
  },
  {
   "cell_type": "markdown",
   "metadata": {},
   "source": [
    "## 어근 동일화"
   ]
  },
  {
   "cell_type": "code",
   "execution_count": 20,
   "metadata": {},
   "outputs": [
    {
     "name": "stdout",
     "output_type": "stream",
     "text": [
      "['한글', '자연어', '처리', '는', '재밌다', '.', '이제', '부터', '열심히', '해야지', '.']\n",
      "['한글', '자연어', '처리', '는', '재밌다', '.', '이제', '부터', '열심히', '하다', '.']\n"
     ]
    }
   ],
   "source": [
    "from konlpy.tag import Okt\n",
    "tagger = Okt()\n",
    "text = \"한글 자연어 처리는 재밌다. 이제부터 열심히 해야지.\"\n",
    "\n",
    "print(tagger.morphs(text))\n",
    "print(tagger.morphs(text, stem=True))"
   ]
  },
  {
   "cell_type": "markdown",
   "metadata": {},
   "source": [
    "### 어간 추출_전처리 코드"
   ]
  },
  {
   "cell_type": "code",
   "execution_count": 21,
   "metadata": {},
   "outputs": [
    {
     "name": "stdout",
     "output_type": "stream",
     "text": [
      "['봄', '찾아오다', '따뜻하다', '신제품', '소식']\n"
     ]
    }
   ],
   "source": [
    "from konlpy.tag import Okt\n",
    "\n",
    "document = \"봄과 함께 찾아온 따뜻한 신제품 소식\"\n",
    "tagger = Okt()\n",
    "\n",
    "words = tagger.pos(document, stem= True)\n",
    "\n",
    "clean_words = []\n",
    "for word in words:\n",
    "    if word[1] in [\"Noun\", \"Verb\", \"Adjective\"]:\n",
    "        clean_words.append(word[0])\n",
    "print(clean_words)"
   ]
  },
  {
   "cell_type": "markdown",
   "metadata": {},
   "source": [
    "#### 명사만 추출"
   ]
  },
  {
   "cell_type": "code",
   "execution_count": null,
   "metadata": {},
   "outputs": [],
   "source": [
    "clean_words = tagger.nouns(document) #명사 추출\n",
    "print(clean_words)"
   ]
  },
  {
   "cell_type": "markdown",
   "metadata": {},
   "source": [
    "## 정규표현식"
   ]
  },
  {
   "cell_type": "code",
   "execution_count": 23,
   "metadata": {
    "collapsed": true
   },
   "outputs": [
    {
     "name": "stdout",
     "output_type": "stream",
     "text": [
      "[('독서', 'Noun'), ('의', 'Josa'), ('위기', 'Noun'), ('출판', 'Noun'), ('계', 'Suffix'), ('의', 'Josa'), ('불황', 'Noun'), ('얘기', 'Noun'), ('가', 'Josa'), ('나온', 'Verb'), ('지', 'Verb'), ('오래', 'Adverb'), ('됐지만', 'Verb'), ('사정', 'Noun'), ('이', 'Josa'), ('나아졌다는', 'Verb'), ('소식', 'Noun'), ('은', 'Josa'), ('들리지', 'Verb'), ('않는다', 'Verb'), ('요즘', 'Noun'), ('종이', 'Noun'), ('책', 'Noun'), ('은', 'Josa'), ('만', 'Modifier'), ('권', 'Noun'), ('정도', 'Noun'), ('만', 'Josa'), ('팔리면', 'Verb'), ('베스트셀러', 'Noun'), ('목록', 'Noun'), ('에', 'Josa'), ('오른다고', 'Verb'), ('한다', 'Verb'), ('하지만', 'Conjunction'), ('이', 'Noun'), ('와는', 'Josa'), ('분위기', 'Noun'), ('가', 'Josa'), ('사뭇', 'Noun'), ('다른', 'Noun'), ('곳', 'Noun'), ('이', 'Josa'), ('있다', 'Adjective'), ('스마트폰', 'Noun'), ('이나', 'Josa'), ('로', 'Noun'), ('읽는', 'Verb'), ('웹', 'Noun'), ('소설', 'Noun'), ('이다', 'Josa'), ('인기', 'Noun'), ('웹', 'Noun'), ('소설', 'Noun'), ('은', 'Josa'), ('독자', 'Noun'), ('수가', 'Noun'), ('백만', 'Noun'), ('명', 'Suffix'), ('을', 'Josa'), ('가볍게', 'Adjective'), ('넘어선다', 'Verb'), ('웹', 'Noun'), ('소설', 'Noun'), ('은', 'Josa'), ('웹', 'Noun'), ('에서', 'Josa'), ('처음', 'Noun'), ('공개', 'Noun'), ('되는', 'Verb'), ('소설', 'Noun'), ('이다', 'Josa'), ('기존', 'Noun'), ('에', 'Josa'), ('출판', 'Noun'), ('된', 'Verb'), ('소설', 'Noun'), ('을', 'Josa'), ('웹', 'Noun'), ('에', 'Josa'), ('게재', 'Noun'), ('하는', 'Verb'), ('경우', 'Noun'), ('를', 'Josa'), ('웹', 'Noun'), ('소설', 'Noun'), ('이라고', 'Josa'), ('하지는', 'Verb'), ('않는다', 'Verb'), ('웹', 'Noun'), ('소설', 'Noun'), ('은', 'Josa'), ('처음', 'Noun'), ('부터', 'Josa'), ('웹', 'Noun'), ('에서의', 'Josa'), ('연재', 'Noun'), ('를', 'Josa'), ('겨냥', 'Noun'), ('하고', 'Josa'), ('창작', 'Noun'), ('되는', 'Verb'), ('것', 'Noun'), ('이다', 'Josa'), ('짧은', 'Adjective'), ('시간', 'Noun'), ('에', 'Josa'), ('가볍게', 'Adjective'), ('읽기가', 'Verb'), ('좋도록', 'Adjective'), ('나뉘어', 'Verb'), ('연재', 'Noun'), ('되는', 'Verb'), ('스낵', 'Noun'), ('컬처', 'Noun'), ('의', 'Noun'), ('성격', 'Noun'), ('이', 'Josa'), ('강하다', 'Adjective'), ('그래서', 'Adverb'), ('웹', 'Noun'), ('소설', 'Noun'), ('은', 'Josa'), ('연재', 'Noun'), ('매', 'Noun'), ('회', 'Noun'), ('마다', 'Josa'), ('긴장감', 'Noun'), ('과', 'Josa'), ('흥미', 'Noun'), ('를', 'Josa'), ('잃지', 'Verb'), ('않고', 'Verb'), ('스토리', 'Noun'), ('를', 'Josa'), ('이', 'Determiner'), ('어가', 'Noun'), ('는', 'Josa'), ('게', 'Noun'), ('중요하다', 'Adjective'), ('인물', 'Noun'), ('캐릭터', 'Noun'), ('와', 'Josa'), ('대화', 'Noun'), ('중심', 'Noun'), ('의', 'Josa'), ('빠른', 'Adjective'), ('전개', 'Noun'), ('가', 'Josa'), ('독자', 'Noun'), ('들', 'Suffix'), ('의', 'Josa'), ('호응', 'Noun'), ('을', 'Josa'), ('얻기', 'Verb'), ('쉽다', 'Verb'), ('진입', 'Noun'), ('장벽', 'Noun'), ('없어', 'Adjective'), ('작가', 'Noun'), ('수', 'Noun'), ('빠르게', 'Adjective'), ('늘어나', 'Verb'), ('웹', 'Noun'), ('소설', 'Noun'), ('작가', 'Noun'), ('가', 'Josa'), ('되는', 'Verb'), ('데', 'Noun'), ('는', 'Josa'), ('진입', 'Noun'), ('장벽', 'Noun'), ('이', 'Josa'), ('없다', 'Adjective'), ('누구', 'Noun'), ('나', 'Josa'), ('무료', 'Noun'), ('웹', 'Noun'), ('소설', 'Noun'), ('플랫폼', 'Noun'), ('에', 'Josa'), ('자신', 'Noun'), ('의', 'Josa'), ('소설', 'Noun'), ('을', 'Josa'), ('연재', 'Noun'), ('할', 'Verb'), ('수', 'Noun'), ('있다는', 'Adjective'), ('의미', 'Noun'), ('다', 'Josa'), ('무협', 'Noun'), ('판타지', 'Noun'), ('전문', 'Noun'), ('플랫폼', 'Noun'), ('인', 'Josa'), ('문', 'Modifier'), ('피아', 'Noun'), ('의', 'Noun'), ('김환철', 'Noun'), ('대표', 'Noun'), ('필명', 'Noun'), ('금강', 'Noun'), ('는', 'Verb'), ('커트라인', 'Noun'), ('을', 'Josa'), ('둬서', 'Verb'), ('괜찮은', 'Adjective'), ('것', 'Noun'), ('만', 'Josa'), ('올리자는', 'Verb'), ('의견', 'Noun'), ('도', 'Josa'), ('있었지만', 'Adjective'), ('그러면', 'Adverb'), ('출판사', 'Noun'), ('와', 'Josa'), ('다를', 'Adjective'), ('게', 'Noun'), ('무엇', 'Noun'), ('인가', 'Josa'), ('모두', 'Noun'), ('가', 'Josa'), ('올리고', 'Verb'), ('독자', 'Noun'), ('가', 'Josa'), ('바로', 'Noun'), ('평가', 'Noun'), ('하도록', 'Verb'), ('했다', 'Verb'), ('고', 'Noun'), ('말', 'Noun'), ('했다', 'Verb'), ('독자', 'Noun'), ('의', 'Josa'), ('선택', 'Noun'), ('을', 'Josa'), ('받아', 'Verb'), ('인기', 'Noun'), ('를', 'Josa'), ('얻으면', 'Verb'), ('유료', 'Noun'), ('판매', 'Noun'), ('를', 'Josa'), ('통해', 'Noun'), ('작가', 'Noun'), ('로서', 'Noun'), ('수입', 'Noun'), ('을', 'Josa'), ('낼', 'Noun'), ('수', 'Noun'), ('있다', 'Adjective'), ('웹', 'Noun'), ('소설', 'Noun'), ('에서는', 'Josa'), ('생산자', 'Noun'), ('와', 'Josa'), ('소비자', 'Noun'), ('의', 'Josa'), ('경계', 'Noun'), ('가', 'Josa'), ('허물', 'Noun'), ('어', 'Suffix'), ('지고', 'Noun'), ('있다', 'Adjective'), ('그만큼', 'Adverb'), ('작가', 'Noun'), ('수도', 'Noun'), ('빠르게', 'Adjective'), ('늘', 'Noun'), ('고', 'Josa'), ('있다', 'Adjective'), ('문', 'Modifier'), ('피아', 'Noun'), ('만', 'Noun'), ('해도', 'Noun'), ('만', 'Modifier'), ('명의', 'Noun'), ('작가', 'Noun'), ('가', 'Josa'), ('활동', 'Noun'), ('하고', 'Josa'), ('있고', 'Adjective'), ('국내', 'Noun'), ('전체', 'Noun'), ('적', 'Suffix'), ('으로는', 'Josa'), ('웹', 'Noun'), ('소설', 'Noun'), ('작가', 'Noun'), ('의', 'Josa'), ('수가', 'Noun'), ('만', 'Modifier'), ('명', 'Noun'), ('이', 'Josa'), ('넘을', 'Verb'), ('것', 'Noun'), ('으로', 'Josa'), ('추정', 'Noun'), ('된다', 'Verb'), ('이처럼', 'Noun'), ('수십만', 'Modifier'), ('작가', 'Noun'), ('와', 'Josa'), ('수백만', 'Noun'), ('독자', 'Noun'), ('가', 'Josa'), ('모여', 'Verb'), ('함께', 'Adverb'), ('만드는', 'Verb'), ('웹', 'Noun'), ('소설', 'Noun'), ('생태계', 'Noun'), ('에는', 'Josa'), ('용광로', 'Noun'), ('와', 'Josa'), ('같은', 'Adjective'), ('에너지', 'Noun'), ('가', 'Josa'), ('넘친다', 'Adjective'), ('진입', 'Noun'), ('장벽', 'Noun'), ('이', 'Josa'), ('없는', 'Adjective'), ('대신', 'Noun'), ('경쟁', 'Noun'), ('은', 'Josa'), ('어느', 'Adverb'), ('곳', 'Noun'), ('보다도', 'Josa'), ('치열하다', 'Adjective'), ('작가', 'Noun'), ('들', 'Suffix'), ('은', 'Josa'), ('매회', 'Adverb'), ('연재', 'Noun'), ('할', 'Verb'), ('때', 'Noun'), ('마다', 'Josa'), ('조', 'Modifier'), ('회수', 'Noun'), ('와', 'Josa'), ('독자', 'Noun'), ('의', 'Josa'), ('댓글', 'Noun'), ('을', 'Josa'), ('살피면서', 'Verb'), ('진검', 'Noun'), ('승부', 'Noun'), ('를', 'Josa'), ('펼친다', 'Verb'), ('김환철', 'Noun'), ('문', 'Modifier'), ('피아', 'Noun'), ('대표', 'Noun'), ('는', 'Josa'), ('매일', 'Noun'), ('매일', 'Noun'), ('이', 'Josa'), ('전쟁', 'Noun'), ('같다', 'Adjective'), ('그런', 'Adjective'), ('극심한', 'Adjective'), ('경쟁', 'Noun'), ('을', 'Josa'), ('뚫고', 'Verb'), ('살아남은', 'Verb'), ('작가', 'Noun'), ('들', 'Suffix'), ('은', 'Josa'), ('글', 'Noun'), ('을', 'Josa'), ('잘', 'Verb'), ('쓸', 'Verb'), ('수', 'Noun'), ('밖에', 'Josa'), ('없다', 'Adjective'), ('고', 'Noun'), ('말', 'Noun'), ('했다', 'Verb'), ('환생', 'Noun'), ('회귀', 'Noun'), ('가', 'Josa'), ('넘치는', 'Adjective'), ('까닭', 'Noun'), ('은', 'Josa'), ('작가', 'Noun'), ('와', 'Josa'), ('독자', 'Noun'), ('의', 'Josa'), ('역', 'Noun'), ('동', 'Modifier'), ('적', 'Noun'), ('인', 'Josa'), ('상호작용', 'Noun'), ('을', 'Josa'), ('거쳐', 'Verb'), ('나오는', 'Verb'), ('웹', 'Noun'), ('소설', 'Noun'), ('은', 'Josa'), ('독자', 'Noun'), ('의', 'Josa'), ('마음', 'Noun'), ('과', 'Josa'), ('사회', 'Noun'), ('의', 'Josa'), ('분위기', 'Noun'), ('를', 'Josa'), ('섬세하게', 'Adjective'), ('반영', 'Noun'), ('한', 'Josa'), ('다', 'Adverb'), ('최근', 'Noun'), ('수년', 'Noun'), ('간', 'Suffix'), ('웹', 'Noun'), ('소설', 'Noun'), ('에서', 'Josa'), ('유난히', 'Adverb'), ('많이', 'Adverb'), ('등장', 'Noun'), ('하는', 'Verb'), ('단어', 'Noun'), ('가', 'Josa'), ('회귀', 'Noun'), ('귀환', 'Noun'), ('환생', 'Noun'), ('이다', 'Josa'), ('이번', 'Noun'), ('생', 'Noun'), ('에', 'Josa'), ('실패한', 'Adjective'), ('사람', 'Noun'), ('이', 'Josa'), ('현재', 'Noun'), ('의', 'Josa'), ('기억', 'Noun'), ('을', 'Josa'), ('갖고', 'Verb'), ('과거', 'Noun'), ('로', 'Josa'), ('돌아가서', 'Verb'), ('실수', 'Noun'), ('를', 'Josa'), ('바로잡고', 'Verb'), ('시원하게', 'Adjective'), ('복수', 'Noun'), ('를', 'Josa'), ('하는', 'Verb'), ('스토리', 'Noun'), ('다', 'Josa'), ('네이버', 'Noun'), ('나', 'Josa'), ('카카오페이지', 'Noun'), ('조아라', 'Adjective'), ('문', 'Modifier'), ('피아', 'Noun'), ('등', 'Noun'), ('여러', 'Noun'), ('웹', 'Noun'), ('소설', 'Noun'), ('플랫폼', 'Noun'), ('에서', 'Josa'), ('최고', 'Noun'), ('의', 'Josa'), ('인기', 'Noun'), ('를', 'Josa'), ('얻은', 'Verb'), ('작품', 'Noun'), ('의', 'Josa'), ('상당수', 'Noun'), ('가', 'Josa'), ('이런', 'Adjective'), ('스토리', 'Noun'), ('의', 'Josa'), ('틀', 'Noun'), ('을', 'Josa'), ('갖고', 'Verb'), ('있다', 'Adjective'), ('김환철', 'Noun'), ('문', 'Modifier'), ('피아', 'Noun'), ('대표', 'Noun'), ('는', 'Josa'), ('길게', 'Adjective'), ('보면', 'Verb'), ('년', 'Noun'), ('정도', 'Noun'), ('된', 'Verb'), ('트렌드', 'Noun'), ('인데', 'Josa'), ('이제', 'Noun'), ('는', 'Josa'), ('대세', 'Noun'), ('가', 'Josa'), ('되어서', 'Verb'), ('수많은', 'Adjective'), ('작품', 'Noun'), ('에서', 'Josa'), ('환생', 'Noun'), ('과', 'Josa'), ('회귀', 'Noun'), ('가', 'Josa'), ('일어나고', 'Noun'), ('있다', 'Adjective'), ('면서', 'Noun'), ('갈수록', 'Noun'), ('각박하고', 'Adjective'), ('힘들어지는', 'Adjective'), ('세상', 'Noun'), ('젊은', 'Adjective'), ('세대', 'Noun'), ('의', 'Josa'), ('좌절', 'Noun'), ('이', 'Josa'), ('빨리', 'Adverb'), ('강해지고', 'Adjective'), ('쉽게', 'Verb'), ('성공하는', 'Adjective'), ('판타지', 'Noun'), ('로', 'Josa'), ('투영', 'Noun'), ('이', 'Josa'), ('되는', 'Verb'), ('것', 'Noun'), ('이라고', 'Josa'), ('진단', 'Noun'), ('했다', 'Verb'), ('이진수', 'Noun'), ('카카오페이지', 'Noun'), ('대표', 'Noun'), ('는', 'Josa'), ('웹', 'Noun'), ('소설', 'Noun'), ('이나', 'Josa'), ('웹툰', 'Noun'), ('만큼', 'Noun'), ('우리', 'Noun'), ('사회', 'Noun'), ('곳곳', 'Noun'), ('을', 'Josa'), ('섬세하고', 'Adjective'), ('다양하게', 'Adjective'), ('표현', 'Noun'), ('하고', 'Josa'), ('있는', 'Adjective'), ('매체', 'Noun'), ('가', 'Josa'), ('없다', 'Adjective'), ('면서', 'Noun'), ('대한민국', 'Noun'), ('의', 'Josa'), ('기성', 'Noun'), ('세대', 'Noun'), ('들', 'Suffix'), ('이', 'Josa'), ('지금', 'Noun'), ('의', 'Josa'), ('대와', 'Verb'), ('대를', 'Verb'), ('가장', 'Noun'), ('빠르게', 'Adjective'), ('이해', 'Noun'), ('할', 'Verb'), ('수', 'Noun'), ('있는', 'Adjective'), ('방법', 'Noun'), ('이라고', 'Josa'), ('주장', 'Noun'), ('했다', 'Verb'), ('작품', 'Noun'), ('성', 'Suffix'), ('뛰어난', 'Adjective'), ('웹', 'Noun'), ('소설', 'Noun'), ('도', 'Josa'), ('많은데', 'Adjective'), ('평론', 'Noun'), ('은', 'Josa'), ('웹', 'Noun'), ('소설', 'Noun'), ('하면', 'Verb'), ('스낵', 'Noun'), ('컬처', 'Noun'), ('상업성', 'Noun'), ('중독', 'Noun'), ('성', 'Suffix'), ('등', 'Noun'), ('을', 'Josa'), ('떠올리게', 'Verb'), ('되지만', 'Verb'), ('그런', 'Adjective'), ('가운데', 'Noun'), ('뛰어난', 'Adjective'), ('작품', 'Noun'), ('성', 'Suffix'), ('을', 'Josa'), ('함께', 'Adverb'), ('성취', 'Noun'), ('한', 'Josa'), ('명작', 'Noun'), ('들', 'Suffix'), ('도', 'Josa'), ('적지', 'Noun'), ('않게', 'Verb'), ('발견', 'Noun'), ('된다', 'Verb'), ('무협', 'Noun'), ('이나', 'Josa'), ('판타지', 'Noun'), ('스토리', 'Noun'), ('속', 'Noun'), ('에', 'Josa'), ('신화', 'Noun'), ('와', 'Josa'), ('종교', 'Noun'), ('현대', 'Noun'), ('과학', 'Noun'), ('등', 'Noun'), ('다방면', 'Noun'), ('에', 'Josa'), ('걸쳐', 'Verb'), ('해박', 'Noun'), ('한', 'Josa'), ('지식', 'Noun'), ('과', 'Josa'), ('창의', 'Noun'), ('적', 'Suffix'), ('인', 'Josa'), ('세계관', 'Noun'), ('을', 'Josa'), ('담아', 'Verb'), ('낸', 'Verb'), ('작품', 'Noun'), ('을', 'Josa'), ('만나면', 'Verb'), ('필명', 'Noun'), ('으로', 'Josa'), ('자신', 'Noun'), ('을', 'Josa'), ('감추는', 'Verb'), ('작가', 'Noun'), ('에', 'Josa'), ('대한', 'Noun'), ('궁금증', 'Noun'), ('이', 'Josa'), ('들', 'Verb'), ('기도', 'Noun'), ('한다', 'Verb'), ('이런', 'Adjective'), ('작품', 'Noun'), ('들', 'Suffix'), ('은', 'Josa'), ('매회', 'Adverb'), ('흥미', 'Noun'), ('와', 'Josa'), ('긴장감', 'Noun'), ('을', 'Josa'), ('유지', 'Noun'), ('해야', 'Verb'), ('한다는', 'Modifier'), ('웹', 'Noun'), ('소설', 'Noun'), ('의', 'Josa'), ('문법', 'Noun'), ('을', 'Josa'), ('벗어나기도', 'Verb'), ('하지만', 'Conjunction'), ('한번', 'Noun'), ('마니아', 'Noun'), ('가', 'Josa'), ('된', 'Verb'), ('독자', 'Noun'), ('들', 'Suffix'), ('은', 'Josa'), ('작가', 'Noun'), ('의', 'Josa'), ('고집', 'Noun'), ('을', 'Josa'), ('긍정', 'Noun'), ('적', 'Suffix'), ('으로', 'Josa'), ('이해', 'Noun'), ('해주는', 'Verb'), ('편이', 'Noun'), ('다', 'Josa'), ('이', 'Noun'), ('와', 'Josa'), ('관련', 'Noun'), ('해', 'Verb'), ('장강', 'Noun'), ('명', 'Suffix'), ('작가', 'Noun'), ('는', 'Josa'), ('굉장히', 'Adjective'), ('뛰어난', 'Adjective'), ('작품', 'Noun'), ('성', 'Suffix'), ('을', 'Josa'), ('보여주는', 'Verb'), ('웹', 'Noun'), ('소설', 'Noun'), ('들', 'Suffix'), ('이', 'Josa'), ('있는데', 'Adjective'), ('그', 'Noun'), ('작품', 'Noun'), ('성', 'Suffix'), ('이', 'Josa'), ('기존', 'Noun'), ('의', 'Josa'), ('문단', 'Noun'), ('에서', 'Josa'), ('얘기', 'Noun'), ('하는', 'Verb'), ('작품', 'Noun'), ('성', 'Suffix'), ('과는', 'Josa'), ('조금', 'Noun'), ('달라', 'Noun'), ('서', 'Josa'), ('이', 'Determiner'), ('걸', 'Noun'), ('설명', 'Noun'), ('할', 'Verb'), ('수', 'Noun'), ('있는', 'Adjective'), ('언어', 'Noun'), ('가', 'Josa'), ('있었으면', 'Adjective'), ('좋겠다는', 'Adjective'), ('작가', 'Noun'), ('와', 'Josa'), ('독자', 'Noun'), ('들', 'Suffix'), ('을', 'Josa'), ('봤다', 'Verb'), ('면서', 'Noun'), ('웹', 'Noun'), ('소설', 'Noun'), ('에', 'Josa'), ('대해', 'Noun'), ('서도', 'Noun'), ('평론', 'Noun'), ('이나', 'Josa'), ('분석', 'Noun'), ('이', 'Josa'), ('필요하다는', 'Adjective'), ('얘기', 'Noun'), ('인데', 'Josa'), ('아직', 'Adverb'), ('은', 'Noun'), ('비어있는', 'Verb'), ('상황', 'Noun'), ('이라고', 'Josa'), ('말', 'Noun'), ('했다', 'Verb'), ('영화', 'Noun'), ('와', 'Josa'), ('드라마', 'Noun'), ('의', 'Josa'), ('원작', 'Noun'), ('으로', 'Josa'), ('몸값', 'Noun'), ('상승', 'Noun'), ('중', 'Noun'), ('이야기', 'Noun'), ('산업', 'Noun'), ('으로서의', 'Josa'), ('웹', 'Noun'), ('소설', 'Noun'), ('의', 'Josa'), ('성장', 'Noun'), ('세는', 'Verb'), ('폭발', 'Noun'), ('적', 'Suffix'), ('이다', 'Josa'), ('지난', 'Noun'), ('년', 'Noun'), ('억원', 'Noun'), ('수준', 'Noun'), ('이던', 'Josa'), ('국내', 'Noun'), ('웹', 'Noun'), ('소설', 'Noun'), ('시장', 'Noun'), ('의', 'Josa'), ('전체', 'Noun'), ('규모', 'Noun'), ('는', 'Josa'), ('년', 'Noun'), ('억원', 'Noun'), ('으로', 'Josa'), ('급상승', 'Noun'), ('세', 'Noun'), ('를', 'Josa'), ('보였다', 'Verb'), ('수십만', 'Modifier'), ('수백만', 'Noun'), ('명의', 'Noun'), ('검증', 'Noun'), ('을', 'Josa'), ('거친', 'Verb'), ('웹', 'Noun'), ('소설', 'Noun'), ('은', 'Josa'), ('영화', 'Noun'), ('와', 'Josa'), ('드라마', 'Noun'), ('의', 'Josa'), ('원작', 'Noun'), ('으로서', 'Josa'), ('갈수록', 'Noun'), ('몸값', 'Noun'), ('이', 'Josa'), ('올라가고', 'Verb'), ('있다', 'Adjective'), ('이진수', 'Noun'), ('카카오페이지', 'Noun'), ('대표', 'Noun'), ('는', 'Josa'), ('천문학', 'Noun'), ('적', 'Suffix'), ('인', 'Josa'), ('제작비', 'Noun'), ('라는', 'Josa'), ('리스크', 'Noun'), ('를', 'Josa'), ('안고', 'Noun'), ('있는', 'Adjective'), ('영상', 'Noun'), ('시장', 'Noun'), ('에서', 'Josa'), ('이미', 'Adverb'), ('검증', 'Noun'), ('된', 'Verb'), ('시나리오', 'Noun'), ('와', 'Josa'), ('그', 'Noun'), ('이야기', 'Noun'), ('를', 'Josa'), ('좋아하는', 'Adjective'), ('수십만', 'Modifier'), ('수백만', 'Noun'), ('명의', 'Noun'), ('열성', 'Noun'), ('독자', 'Noun'), ('층', 'Noun'), ('이', 'Josa'), ('있는', 'Adjective'), ('경우', 'Noun'), ('에는', 'Josa'), ('당연히', 'Adjective'), ('영상', 'Noun'), ('시장', 'Noun'), ('에서', 'Josa'), ('리스크', 'Noun'), ('를', 'Josa'), ('많이', 'Adverb'), ('줄일', 'Verb'), ('수', 'Noun'), ('있는', 'Adjective'), ('요인', 'Noun'), ('이', 'Josa'), ('된다', 'Verb'), ('고', 'Noun'), ('말', 'Noun'), ('했다', 'Verb'), ('웹', 'Noun'), ('소설', 'Noun'), ('과', 'Josa'), ('드라마', 'Noun'), ('의', 'Josa'), ('선', 'Noun'), ('순환', 'Noun'), ('구조', 'Noun'), ('를', 'Josa'), ('보여준', 'Verb'), ('최근', 'Noun'), ('의', 'Josa'), ('사례', 'Noun'), ('가', 'Josa'), ('김', 'Noun'), ('비서', 'Noun'), ('가', 'Josa'), ('왜', 'Noun'), ('그럴까', 'Adjective'), ('이다', 'Josa'), ('카카오페이지', 'Noun'), ('에서', 'Josa'), ('엄청난', 'Adjective'), ('독자', 'Noun'), ('를', 'Josa'), ('모은', 'Verb'), ('이', 'Noun'), ('웹', 'Noun'), ('소설', 'Noun'), ('은', 'Josa'), ('드라마', 'Noun'), ('로', 'Josa'), ('제작', 'Noun'), ('되어', 'Verb'), ('높은', 'Adjective'), ('시청률', 'Noun'), ('을', 'Josa'), ('기록', 'Noun'), ('했고', 'Verb'), ('이는', 'Verb'), ('다시', 'Noun'), ('원작', 'Noun'), ('웹', 'Noun'), ('소설', 'Noun'), ('과', 'Josa'), ('웹툰', 'Noun'), ('의', 'Josa'), ('인기', 'Noun'), ('상승', 'Noun'), ('으로', 'Josa'), ('이어졌다', 'Verb'), ('정경윤', 'Noun'), ('작가', 'Noun'), ('는', 'Josa'), ('부산', 'Noun'), ('에서', 'Josa'), ('약사', 'Noun'), ('를', 'Josa'), ('하면서', 'Verb'), ('틈틈이', 'Noun'), ('이', 'Noun'), ('소설', 'Noun'), ('을', 'Josa'), ('썼다', 'Verb'), ('힘들지', 'Adjective'), ('않았느냐는', 'Verb'), ('기자', 'Noun'), ('의', 'Josa'), ('질문', 'Noun'), ('에', 'Josa'), ('정', 'Noun'), ('작가', 'Noun'), ('는', 'Josa'), ('약국', 'Noun'), ('일', 'Noun'), ('을', 'Josa'), ('하다', 'Verb'), ('보면', 'Verb'), ('몸', 'Noun'), ('도', 'Josa'), ('지치고', 'Verb'), ('피곤한데', 'Adjective'), ('소설', 'Noun'), ('쓰는', 'Verb'), ('건', 'Noun'), ('전혀', 'Noun'), ('피곤하지', 'Adjective'), ('않고', 'Verb'), ('재미있었다', 'Adjective'), ('며', 'Noun'), ('나중', 'Noun'), ('에는', 'Josa'), ('정말', 'Noun'), ('미쳐서', 'Adjective'), ('밥', 'Noun'), ('먹는', 'Verb'), ('시간', 'Noun'), ('도', 'Josa'), ('자는', 'Verb'), ('시간', 'Noun'), ('도', 'Josa'), ('쉬는', 'Verb'), ('시간', 'Noun'), ('도', 'Josa'), ('다', 'Adverb'), ('줄', 'Noun'), ('여서', 'Josa'), ('전력', 'Noun'), ('을', 'Josa'), ('다해', 'Noun'), ('서', 'Josa'), ('썼는데', 'Verb'), ('그게', 'Noun'), ('취미', 'Noun'), ('이자', 'Noun'), ('마음', 'Noun'), ('의', 'Josa'), ('치유', 'Noun'), ('가', 'Josa'), ('됐다', 'Verb'), ('고', 'Noun'), ('말', 'Noun'), ('했다', 'Verb'), ('또', 'Noun'), ('선배', 'Noun'), ('작가', 'Noun'), ('로서', 'Noun'), ('작가', 'Noun'), ('지망', 'Noun'), ('생', 'Noun'), ('들', 'Suffix'), ('에게', 'Josa'), ('조언', 'Noun'), ('을', 'Josa'), ('해달라는', 'Verb'), ('주문', 'Noun'), ('에', 'Josa'), ('대해', 'Noun'), ('서는', 'Verb'), ('아무리', 'Adverb'), ('시장', 'Noun'), ('이', 'Josa'), ('커졌어도', 'Verb'), ('좋아하는', 'Adjective'), ('마음', 'Noun'), ('없이', 'Adverb'), ('그냥', 'Noun'), ('생업', 'Noun'), ('으로', 'Josa'), ('하기에는', 'Verb'), ('너무', 'Adverb'), ('어려운', 'Adjective'), ('일인', 'Noun'), ('것', 'Noun'), ('같다', 'Adjective'), ('너무', 'Adverb'), ('조급해하지', 'Adjective'), ('말고', 'Josa'), ('즐기면서', 'Verb'), ('천천히', 'Adverb'), ('여유', 'Noun'), ('있게', 'Adjective'), ('썼으면', 'Verb'), ('좋겠다', 'Adjective'), ('고', 'Noun'), ('말', 'Noun'), ('했다', 'Verb'), ('한국', 'Noun'), ('콘텐츠', 'Noun'), ('진흥', 'Noun'), ('원', 'Suffix'), ('조사', 'Noun'), ('에', 'Josa'), ('따르면', 'Verb'), ('웹', 'Noun'), ('소설', 'Noun'), ('작가', 'Noun'), ('의', 'Josa'), ('평균', 'Noun'), ('수입', 'Noun'), ('은', 'Josa'), ('년', 'Noun'), ('기준', 'Noun'), ('으로', 'Josa'), ('만원', 'Noun'), ('으로', 'Josa'), ('나타났다', 'Verb'), ('연', 'Noun'), ('수입', 'Noun'), ('이', 'Josa'), ('억대', 'Noun'), ('에', 'Josa'), ('이르는', 'Verb'), ('작가', 'Noun'), ('도', 'Josa'), ('많고', 'Adjective'), ('정상', 'Noun'), ('급', 'Suffix'), ('인기', 'Noun'), ('작가', 'Noun'), ('들', 'Suffix'), ('의', 'Josa'), ('경우', 'Noun'), ('는', 'Josa'), ('억원', 'Noun'), ('을', 'Josa'), ('상회', 'Noun'), ('한다고', 'Verb'), ('한다', 'Verb'), ('하지만', 'Conjunction'), ('대다수', 'Noun'), ('작가', 'Noun'), ('는', 'Josa'), ('수입', 'Noun'), ('이', 'Josa'), ('많지', 'Adjective'), ('않다', 'Verb'), ('작가', 'Noun'), ('명', 'Noun'), ('중', 'Noun'), ('명', 'Noun'), ('가까이', 'Noun'), ('가', 'Josa'), ('연', 'Noun'), ('수입', 'Noun'), ('천만원', 'Noun'), ('미만', 'Noun'), ('으로', 'Josa'), ('조사', 'Noun'), ('됐다', 'Verb'), ('웹', 'Noun'), ('소설', 'Noun'), ('은', 'Josa'), ('웹툰', 'Noun'), ('과', 'Josa'), ('함께', 'Adverb'), ('차세대', 'Noun'), ('한류', 'Noun'), ('의', 'Josa'), ('주역', 'Noun'), ('으로서도', 'Josa'), ('주목', 'Noun'), ('된다', 'Verb'), ('네이버', 'Noun'), ('와', 'Josa'), ('카카오페이지', 'Noun'), ('는', 'Josa'), ('해외', 'Noun'), ('웹툰', 'Noun'), ('시장', 'Noun'), ('에', 'Josa'), ('진출', 'Noun'), ('했고', 'Verb'), ('문', 'Modifier'), ('피아', 'Noun'), ('도', 'Josa'), ('해외진출', 'Noun'), ('을', 'Josa'), ('모색', 'Noun'), ('하고', 'Josa'), ('있다', 'Adjective'), ('해외', 'Noun'), ('시장', 'Noun'), ('을', 'Josa'), ('분석', 'Noun'), ('한', 'Josa'), ('전문가', 'Noun'), ('들', 'Suffix'), ('은', 'Josa'), ('우리', 'Noun'), ('작가', 'Noun'), ('들', 'Suffix'), ('의', 'Josa'), ('창의성', 'Noun'), ('과', 'Josa'), ('스토리', 'Noun'), ('가', 'Josa'), ('해외', 'Noun'), ('시장', 'Noun'), ('에서도', 'Josa'), ('충분한', 'Adjective'), ('경쟁력', 'Noun'), ('을', 'Josa'), ('갖고', 'Verb'), ('있다고', 'Adjective'), ('본다', 'Verb'), ('이렇게', 'Adverb'), ('웹', 'Noun'), ('소설', 'Noun'), ('은', 'Josa'), ('막대', 'Noun'), ('한', 'Josa'), ('에너지', 'Noun'), ('를', 'Josa'), ('품고', 'Verb'), ('빠르게', 'Adjective'), ('영역', 'Noun'), ('을', 'Josa'), ('넓히고', 'Verb'), ('있다', 'Adjective'), ('하지만', 'Conjunction'), ('그', 'Noun'), ('에', 'Josa'), ('비', 'Noun'), ('해서', 'Verb'), ('우리', 'Noun'), ('사회', 'Noun'), ('의', 'Josa'), ('담론', 'Noun'), ('은', 'Josa'), ('초기', 'Noun'), ('단계', 'Noun'), ('를', 'Josa'), ('벗어나지', 'Verb'), ('못', 'Noun'), ('하고', 'Josa'), ('있다', 'Adjective'), ('웹', 'Noun'), ('소설', 'Noun'), ('에', 'Josa'), ('대한', 'Noun'), ('진지한', 'Adjective'), ('담론', 'Noun'), ('형성', 'Noun'), ('을', 'Josa'), ('기대하며', 'Adjective'), ('장강', 'Noun'), ('명', 'Suffix'), ('작가', 'Noun'), ('는', 'Josa'), ('우리', 'Noun'), ('사회', 'Noun'), ('에서', 'Josa'), ('웹', 'Noun'), ('소설', 'Noun'), ('을', 'Josa'), ('얘기', 'Noun'), ('하는', 'Verb'), ('맥락', 'Noun'), ('은', 'Josa'), ('대부분', 'Noun'), ('시장', 'Noun'), ('규모', 'Noun'), ('나', 'Josa'), ('작가', 'Noun'), ('의', 'Josa'), ('수입', 'Noun'), ('같은', 'Adjective'), ('데', 'Noun'), ('머물러', 'Verb'), ('있고', 'Adjective'), ('웹', 'Noun'), ('소설', 'Noun'), ('의', 'Josa'), ('새로운', 'Adjective'), ('작품', 'Noun'), ('성과', 'Noun'), ('시', 'Modifier'), ('대', 'Modifier'), ('감각', 'Noun'), ('을', 'Josa'), ('포착', 'Noun'), ('하려는', 'Verb'), ('노력', 'Noun'), ('은', 'Josa'), ('굉장히', 'Adjective'), ('드물다', 'Adjective'), ('면서', 'Noun'), ('웹', 'Noun'), ('소설', 'Noun'), ('영역', 'Noun'), ('에', 'Josa'), ('형성', 'Noun'), ('된', 'Verb'), ('엄청난', 'Adjective'), ('기운', 'Noun'), ('을', 'Josa'), ('좋은', 'Adjective'), ('방향', 'Noun'), ('으로', 'Josa'), ('이끌기', 'Verb'), ('위해', 'Noun'), ('기존', 'Noun'), ('문학계', 'Noun'), ('와', 'Josa'), ('공공', 'Modifier'), ('부문', 'Noun'), ('독자', 'Noun'), ('들', 'Suffix'), ('이', 'Josa'), ('모두', 'Noun'), ('관심', 'Noun'), ('을', 'Josa'), ('가질', 'Verb'), ('때', 'Noun'), ('라고', 'Josa'), ('말', 'Noun'), ('했다', 'Verb'), ('웹', 'Noun'), ('소설', 'Noun'), ('생태계', 'Noun'), ('에서는', 'Josa'), ('사회', 'Noun'), ('적', 'Suffix'), ('담론', 'Noun'), ('의', 'Josa'), ('형성', 'Noun'), ('방식', 'Noun'), ('도', 'Josa'), ('기존', 'Noun'), ('의', 'Josa'), ('출판', 'Noun'), ('문학계', 'Noun'), ('와', 'Josa'), ('다를', 'Adjective'), ('수', 'Noun'), ('있다', 'Adjective'), ('생산자', 'Noun'), ('와', 'Josa'), ('소비자', 'Noun'), ('의', 'Josa'), ('경계', 'Noun'), ('가', 'Josa'), ('허물', 'Noun'), ('어진', 'Noun'), ('만큼', 'Noun'), ('비평', 'Noun'), ('의', 'Josa'), ('영역', 'Noun'), ('도', 'Josa'), ('열려', 'Verb'), ('있다', 'Adjective'), ('웹', 'Noun'), ('소설', 'Noun'), ('의', 'Josa'), ('끓어', 'Verb'), ('넘치는', 'Adjective'), ('에너지', 'Noun'), ('가', 'Josa'), ('우리', 'Noun'), ('문화', 'Noun'), ('전반', 'Noun'), ('에', 'Josa'), ('가져올', 'Verb'), ('파급', 'Noun'), ('효과', 'Noun'), ('를', 'Josa'), ('감안', 'Noun'), ('한다면', 'Verb'), ('플랫폼', 'Noun'), ('업체', 'Noun'), ('나', 'Josa'), ('공공', 'Noun'), ('부문', 'Noun'), ('에서도', 'Josa'), ('진지한', 'Adjective'), ('담론', 'Noun'), ('이', 'Josa'), ('형성', 'Noun'), ('되는', 'Verb'), ('공간', 'Noun'), ('을', 'Josa'), ('마련', 'Noun'), ('하는', 'Verb'), ('데', 'Noun'), ('더', 'Noun'), ('많은', 'Adjective'), ('관심', 'Noun'), ('을', 'Josa'), ('기울여야', 'Verb'), ('할', 'Verb'), ('것', 'Noun'), ('으로', 'Josa'), ('보인다', 'Verb'), ('출처', 'Noun'), ('뉴스', 'Noun'), ('원본', 'Noun'), ('링크', 'Noun')]\n"
     ]
    }
   ],
   "source": [
    "from konlpy.tag import Okt\n",
    "import re\n",
    "\n",
    "# 분석할 텍스트 읽어오기\n",
    "with open(\"./Data/news.txt\", \"r\", encoding=\"utf-8\") as f:\n",
    "    content = f.read()\n",
    "\n",
    "# 불필요한 심볼 없애기\n",
    "p = re.compile(\"[\\Wa-zA-Z0-9_]+\")\n",
    "content = re.sub(p, \" \", content)\n",
    "\n",
    "# 형태소 분석 및 단어 추출\n",
    "tagger = Okt()\n",
    "morphs = tagger.pos(content)\n",
    "print(morphs)"
   ]
  }
 ],
 "metadata": {
  "kernelspec": {
   "display_name": "Python 3",
   "language": "python",
   "name": "python3"
  },
  "language_info": {
   "codemirror_mode": {
    "name": "ipython",
    "version": 3
   },
   "file_extension": ".py",
   "mimetype": "text/x-python",
   "name": "python",
   "nbconvert_exporter": "python",
   "pygments_lexer": "ipython3",
   "version": "3.8.5"
  }
 },
 "nbformat": 4,
 "nbformat_minor": 4
}
