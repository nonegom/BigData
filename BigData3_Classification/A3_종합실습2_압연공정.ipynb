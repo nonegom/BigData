{
 "cells": [
  {
   "cell_type": "code",
   "execution_count": 1,
   "metadata": {},
   "outputs": [],
   "source": [
    "import pandas as pd\n",
    "import numpy as np\n",
    "\n",
    "# 데이터 시각화 패키지\n",
    "import matplotlib\n",
    "import matplotlib.pyplot as plt\n",
    "import seaborn as sns\n",
    "\n",
    "from statsmodels.api import add_constant\n",
    "\n",
    "from sklearn.svm import SVC \n",
    "\n",
    "# 모델 전처리\n",
    "from sklearn.model_selection import train_test_split\n",
    "from sklearn.preprocessing import StandardScaler\n",
    "from sklearn.model_selection import GridSearchCV\n",
    "\n",
    "\n",
    "# grhpviz\n",
    "from sklearn.tree import export_graphviz\n",
    "import graphviz\n",
    "\n",
    "# 로지스틱 회귀\n",
    "from statsmodels.api import Logit\n",
    "from sklearn.metrics import accuracy_score\n",
    "\n",
    "# 의사결정나무\n",
    "from sklearn.tree import DecisionTreeClassifier\n",
    "\n",
    "\n",
    "# 랜덤포레스트\n",
    "from sklearn.ensemble import RandomForestClassifier\n",
    "\n",
    "# 그레디언트 부스팅\n",
    "from sklearn.ensemble import GradientBoostingClassifier\n",
    "\n",
    "# 모델 성능 평가\n",
    "from sklearn.metrics import confusion_matrix\n",
    "\n",
    "# 주피터 노트북 사용시 그래프 자동 출력 옵션\n",
    "%matplotlib inline\n",
    "matplotlib.rc('font', family = \"NanumGothic\")\n",
    "plt.rc('font', family = \"NanumGothic\")\n",
    "plt.rcParams[\"font.family\"] = 'NanumGothic'\n",
    "plt.rcParams['axes.unicode_minus'] = False"
   ]
  },
  {
   "cell_type": "code",
   "execution_count": 2,
   "metadata": {},
   "outputs": [],
   "source": [
    "df_raw = pd.read_csv(\"Data/SCALE불량.csv\", encoding=\"cp949\")"
   ]
  },
  {
   "cell_type": "code",
   "execution_count": 3,
   "metadata": {},
   "outputs": [
    {
     "name": "stdout",
     "output_type": "stream",
     "text": [
      "<class 'pandas.core.frame.DataFrame'>\n",
      "RangeIndex: 720 entries, 0 to 719\n",
      "Data columns (total 21 columns):\n",
      " #   Column             Non-Null Count  Dtype  \n",
      "---  ------             --------------  -----  \n",
      " 0   PLATE_NO           720 non-null    object \n",
      " 1   ROLLING_DATE       720 non-null    object \n",
      " 2   SCALE              720 non-null    object \n",
      " 3   SPEC               720 non-null    object \n",
      " 4   STEEL_KIND         720 non-null    object \n",
      " 5   PT_THK             720 non-null    float64\n",
      " 6   PT_WDTH            720 non-null    int64  \n",
      " 7   PT_LTH             720 non-null    int64  \n",
      " 8   PT_WGT             720 non-null    int64  \n",
      " 9   FUR_NO             720 non-null    object \n",
      " 10  FUR_NO_ROW         720 non-null    int64  \n",
      " 11  FUR_HZ_TEMP        720 non-null    int64  \n",
      " 12  FUR_HZ_TIME        720 non-null    int64  \n",
      " 13  FUR_SZ_TEMP        720 non-null    int64  \n",
      " 14  FUR_SZ_TIME        720 non-null    int64  \n",
      " 15  FUR_TIME           720 non-null    int64  \n",
      " 16  FUR_EXTEMP         720 non-null    int64  \n",
      " 17  ROLLING_TEMP_T5    720 non-null    int64  \n",
      " 18  HSB                720 non-null    object \n",
      " 19  ROLLING_DESCALING  720 non-null    int64  \n",
      " 20  WORK_GR            720 non-null    object \n",
      "dtypes: float64(1), int64(12), object(8)\n",
      "memory usage: 118.2+ KB\n"
     ]
    }
   ],
   "source": [
    "df_raw.info()"
   ]
  },
  {
   "cell_type": "markdown",
   "metadata": {},
   "source": [
    "## 1. 데이터 분석, 전처리\n",
    "- 결측치 확인\n",
    "- 필요없는 데이터 분리 및 목표변수/설명변수 분리\n",
    "- 이상치 제거\n",
    "- 변수 커스터마이징"
   ]
  },
  {
   "cell_type": "markdown",
   "metadata": {},
   "source": [
    "### 결측치 확인\n"
   ]
  },
  {
   "cell_type": "code",
   "execution_count": 4,
   "metadata": {},
   "outputs": [
    {
     "data": {
      "text/plain": [
       "PLATE_NO             0\n",
       "ROLLING_DATE         0\n",
       "SCALE                0\n",
       "SPEC                 0\n",
       "STEEL_KIND           0\n",
       "PT_THK               0\n",
       "PT_WDTH              0\n",
       "PT_LTH               0\n",
       "PT_WGT               0\n",
       "FUR_NO               0\n",
       "FUR_NO_ROW           0\n",
       "FUR_HZ_TEMP          0\n",
       "FUR_HZ_TIME          0\n",
       "FUR_SZ_TEMP          0\n",
       "FUR_SZ_TIME          0\n",
       "FUR_TIME             0\n",
       "FUR_EXTEMP           0\n",
       "ROLLING_TEMP_T5      0\n",
       "HSB                  0\n",
       "ROLLING_DESCALING    0\n",
       "WORK_GR              0\n",
       "dtype: int64"
      ]
     },
     "execution_count": 4,
     "metadata": {},
     "output_type": "execute_result"
    }
   ],
   "source": [
    "df_raw.isnull().sum()"
   ]
  },
  {
   "cell_type": "markdown",
   "metadata": {},
   "source": [
    "### 날짜 데이트, 철판번호 제거"
   ]
  },
  {
   "cell_type": "code",
   "execution_count": 5,
   "metadata": {},
   "outputs": [
    {
     "data": {
      "text/html": [
       "<div>\n",
       "<style scoped>\n",
       "    .dataframe tbody tr th:only-of-type {\n",
       "        vertical-align: middle;\n",
       "    }\n",
       "\n",
       "    .dataframe tbody tr th {\n",
       "        vertical-align: top;\n",
       "    }\n",
       "\n",
       "    .dataframe thead th {\n",
       "        text-align: right;\n",
       "    }\n",
       "</style>\n",
       "<table border=\"1\" class=\"dataframe\">\n",
       "  <thead>\n",
       "    <tr style=\"text-align: right;\">\n",
       "      <th></th>\n",
       "      <th>SCALE</th>\n",
       "      <th>SPEC</th>\n",
       "      <th>STEEL_KIND</th>\n",
       "      <th>PT_THK</th>\n",
       "      <th>PT_WDTH</th>\n",
       "      <th>PT_LTH</th>\n",
       "      <th>PT_WGT</th>\n",
       "      <th>FUR_NO</th>\n",
       "      <th>FUR_NO_ROW</th>\n",
       "      <th>FUR_HZ_TEMP</th>\n",
       "      <th>FUR_HZ_TIME</th>\n",
       "      <th>FUR_SZ_TEMP</th>\n",
       "      <th>FUR_SZ_TIME</th>\n",
       "      <th>FUR_TIME</th>\n",
       "      <th>FUR_EXTEMP</th>\n",
       "      <th>ROLLING_TEMP_T5</th>\n",
       "      <th>HSB</th>\n",
       "      <th>ROLLING_DESCALING</th>\n",
       "      <th>WORK_GR</th>\n",
       "    </tr>\n",
       "  </thead>\n",
       "  <tbody>\n",
       "    <tr>\n",
       "      <th>0</th>\n",
       "      <td>양품</td>\n",
       "      <td>AB/EH32-TM</td>\n",
       "      <td>T1</td>\n",
       "      <td>32.25</td>\n",
       "      <td>3707</td>\n",
       "      <td>15109</td>\n",
       "      <td>14180</td>\n",
       "      <td>1호기</td>\n",
       "      <td>1</td>\n",
       "      <td>1144</td>\n",
       "      <td>116</td>\n",
       "      <td>1133</td>\n",
       "      <td>59</td>\n",
       "      <td>282</td>\n",
       "      <td>1133</td>\n",
       "      <td>934</td>\n",
       "      <td>적용</td>\n",
       "      <td>8</td>\n",
       "      <td>2조</td>\n",
       "    </tr>\n",
       "    <tr>\n",
       "      <th>1</th>\n",
       "      <td>양품</td>\n",
       "      <td>AB/EH32-TM</td>\n",
       "      <td>T1</td>\n",
       "      <td>32.25</td>\n",
       "      <td>3707</td>\n",
       "      <td>15109</td>\n",
       "      <td>14180</td>\n",
       "      <td>1호기</td>\n",
       "      <td>2</td>\n",
       "      <td>1144</td>\n",
       "      <td>122</td>\n",
       "      <td>1135</td>\n",
       "      <td>53</td>\n",
       "      <td>283</td>\n",
       "      <td>1135</td>\n",
       "      <td>937</td>\n",
       "      <td>적용</td>\n",
       "      <td>8</td>\n",
       "      <td>2조</td>\n",
       "    </tr>\n",
       "    <tr>\n",
       "      <th>2</th>\n",
       "      <td>양품</td>\n",
       "      <td>NV-E36-TM</td>\n",
       "      <td>T8</td>\n",
       "      <td>33.27</td>\n",
       "      <td>3619</td>\n",
       "      <td>19181</td>\n",
       "      <td>18130</td>\n",
       "      <td>2호기</td>\n",
       "      <td>1</td>\n",
       "      <td>1129</td>\n",
       "      <td>116</td>\n",
       "      <td>1121</td>\n",
       "      <td>55</td>\n",
       "      <td>282</td>\n",
       "      <td>1121</td>\n",
       "      <td>889</td>\n",
       "      <td>적용</td>\n",
       "      <td>8</td>\n",
       "      <td>3조</td>\n",
       "    </tr>\n",
       "    <tr>\n",
       "      <th>3</th>\n",
       "      <td>양품</td>\n",
       "      <td>NV-E36-TM</td>\n",
       "      <td>T8</td>\n",
       "      <td>33.27</td>\n",
       "      <td>3619</td>\n",
       "      <td>19181</td>\n",
       "      <td>18130</td>\n",
       "      <td>2호기</td>\n",
       "      <td>2</td>\n",
       "      <td>1152</td>\n",
       "      <td>125</td>\n",
       "      <td>1127</td>\n",
       "      <td>68</td>\n",
       "      <td>316</td>\n",
       "      <td>1127</td>\n",
       "      <td>885</td>\n",
       "      <td>적용</td>\n",
       "      <td>8</td>\n",
       "      <td>3조</td>\n",
       "    </tr>\n",
       "    <tr>\n",
       "      <th>4</th>\n",
       "      <td>양품</td>\n",
       "      <td>BV-EH36-TM</td>\n",
       "      <td>T8</td>\n",
       "      <td>38.33</td>\n",
       "      <td>3098</td>\n",
       "      <td>13334</td>\n",
       "      <td>12430</td>\n",
       "      <td>3호기</td>\n",
       "      <td>1</td>\n",
       "      <td>1140</td>\n",
       "      <td>134</td>\n",
       "      <td>1128</td>\n",
       "      <td>48</td>\n",
       "      <td>314</td>\n",
       "      <td>1128</td>\n",
       "      <td>873</td>\n",
       "      <td>적용</td>\n",
       "      <td>8</td>\n",
       "      <td>1조</td>\n",
       "    </tr>\n",
       "  </tbody>\n",
       "</table>\n",
       "</div>"
      ],
      "text/plain": [
       "  SCALE        SPEC STEEL_KIND  PT_THK  PT_WDTH  PT_LTH  PT_WGT FUR_NO  \\\n",
       "0    양품  AB/EH32-TM         T1   32.25     3707   15109   14180    1호기   \n",
       "1    양품  AB/EH32-TM         T1   32.25     3707   15109   14180    1호기   \n",
       "2    양품   NV-E36-TM         T8   33.27     3619   19181   18130    2호기   \n",
       "3    양품   NV-E36-TM         T8   33.27     3619   19181   18130    2호기   \n",
       "4    양품  BV-EH36-TM         T8   38.33     3098   13334   12430    3호기   \n",
       "\n",
       "   FUR_NO_ROW  FUR_HZ_TEMP  FUR_HZ_TIME  FUR_SZ_TEMP  FUR_SZ_TIME  FUR_TIME  \\\n",
       "0           1         1144          116         1133           59       282   \n",
       "1           2         1144          122         1135           53       283   \n",
       "2           1         1129          116         1121           55       282   \n",
       "3           2         1152          125         1127           68       316   \n",
       "4           1         1140          134         1128           48       314   \n",
       "\n",
       "   FUR_EXTEMP  ROLLING_TEMP_T5 HSB  ROLLING_DESCALING WORK_GR  \n",
       "0        1133              934  적용                  8      2조  \n",
       "1        1135              937  적용                  8      2조  \n",
       "2        1121              889  적용                  8      3조  \n",
       "3        1127              885  적용                  8      3조  \n",
       "4        1128              873  적용                  8      1조  "
      ]
     },
     "execution_count": 5,
     "metadata": {},
     "output_type": "execute_result"
    }
   ],
   "source": [
    "df_raw.drop([\"PLATE_NO\", \"ROLLING_DATE\"], axis=1, inplace=True)\n",
    "df_raw.head()"
   ]
  },
  {
   "cell_type": "markdown",
   "metadata": {},
   "source": [
    "### 변수 커스터 마이징\n",
    "- \"STEEL_KIND\"의 경우 T변수와 C변수로 나눌 수 있을 것으로 보여진다."
   ]
  },
  {
   "cell_type": "code",
   "execution_count": 103,
   "metadata": {},
   "outputs": [
    {
     "data": {
      "text/plain": [
       "array(['T', 'C'], dtype=object)"
      ]
     },
     "execution_count": 103,
     "metadata": {},
     "output_type": "execute_result"
    }
   ],
   "source": [
    "df_raw[\"STEEL_KIND\"].unique()"
   ]
  },
  {
   "cell_type": "code",
   "execution_count": 7,
   "metadata": {},
   "outputs": [],
   "source": [
    "df_raw[\"STEEL_KIND\"] = df_raw[\"STEEL_KIND\"].str[:1]"
   ]
  },
  {
   "cell_type": "code",
   "execution_count": 8,
   "metadata": {},
   "outputs": [
    {
     "data": {
      "text/html": [
       "<div>\n",
       "<style scoped>\n",
       "    .dataframe tbody tr th:only-of-type {\n",
       "        vertical-align: middle;\n",
       "    }\n",
       "\n",
       "    .dataframe tbody tr th {\n",
       "        vertical-align: top;\n",
       "    }\n",
       "\n",
       "    .dataframe thead th {\n",
       "        text-align: right;\n",
       "    }\n",
       "</style>\n",
       "<table border=\"1\" class=\"dataframe\">\n",
       "  <thead>\n",
       "    <tr style=\"text-align: right;\">\n",
       "      <th></th>\n",
       "      <th>SCALE</th>\n",
       "      <th>SPEC</th>\n",
       "      <th>STEEL_KIND</th>\n",
       "      <th>PT_THK</th>\n",
       "      <th>PT_WDTH</th>\n",
       "      <th>PT_LTH</th>\n",
       "      <th>PT_WGT</th>\n",
       "      <th>FUR_NO</th>\n",
       "      <th>FUR_NO_ROW</th>\n",
       "      <th>FUR_HZ_TEMP</th>\n",
       "      <th>FUR_HZ_TIME</th>\n",
       "      <th>FUR_SZ_TEMP</th>\n",
       "      <th>FUR_SZ_TIME</th>\n",
       "      <th>FUR_TIME</th>\n",
       "      <th>FUR_EXTEMP</th>\n",
       "      <th>ROLLING_TEMP_T5</th>\n",
       "      <th>HSB</th>\n",
       "      <th>ROLLING_DESCALING</th>\n",
       "      <th>WORK_GR</th>\n",
       "    </tr>\n",
       "  </thead>\n",
       "  <tbody>\n",
       "    <tr>\n",
       "      <th>0</th>\n",
       "      <td>양품</td>\n",
       "      <td>AB/EH32-TM</td>\n",
       "      <td>T</td>\n",
       "      <td>32.25</td>\n",
       "      <td>3707</td>\n",
       "      <td>15109</td>\n",
       "      <td>14180</td>\n",
       "      <td>1호기</td>\n",
       "      <td>1</td>\n",
       "      <td>1144</td>\n",
       "      <td>116</td>\n",
       "      <td>1133</td>\n",
       "      <td>59</td>\n",
       "      <td>282</td>\n",
       "      <td>1133</td>\n",
       "      <td>934</td>\n",
       "      <td>적용</td>\n",
       "      <td>8</td>\n",
       "      <td>2조</td>\n",
       "    </tr>\n",
       "    <tr>\n",
       "      <th>1</th>\n",
       "      <td>양품</td>\n",
       "      <td>AB/EH32-TM</td>\n",
       "      <td>T</td>\n",
       "      <td>32.25</td>\n",
       "      <td>3707</td>\n",
       "      <td>15109</td>\n",
       "      <td>14180</td>\n",
       "      <td>1호기</td>\n",
       "      <td>2</td>\n",
       "      <td>1144</td>\n",
       "      <td>122</td>\n",
       "      <td>1135</td>\n",
       "      <td>53</td>\n",
       "      <td>283</td>\n",
       "      <td>1135</td>\n",
       "      <td>937</td>\n",
       "      <td>적용</td>\n",
       "      <td>8</td>\n",
       "      <td>2조</td>\n",
       "    </tr>\n",
       "    <tr>\n",
       "      <th>2</th>\n",
       "      <td>양품</td>\n",
       "      <td>NV-E36-TM</td>\n",
       "      <td>T</td>\n",
       "      <td>33.27</td>\n",
       "      <td>3619</td>\n",
       "      <td>19181</td>\n",
       "      <td>18130</td>\n",
       "      <td>2호기</td>\n",
       "      <td>1</td>\n",
       "      <td>1129</td>\n",
       "      <td>116</td>\n",
       "      <td>1121</td>\n",
       "      <td>55</td>\n",
       "      <td>282</td>\n",
       "      <td>1121</td>\n",
       "      <td>889</td>\n",
       "      <td>적용</td>\n",
       "      <td>8</td>\n",
       "      <td>3조</td>\n",
       "    </tr>\n",
       "    <tr>\n",
       "      <th>3</th>\n",
       "      <td>양품</td>\n",
       "      <td>NV-E36-TM</td>\n",
       "      <td>T</td>\n",
       "      <td>33.27</td>\n",
       "      <td>3619</td>\n",
       "      <td>19181</td>\n",
       "      <td>18130</td>\n",
       "      <td>2호기</td>\n",
       "      <td>2</td>\n",
       "      <td>1152</td>\n",
       "      <td>125</td>\n",
       "      <td>1127</td>\n",
       "      <td>68</td>\n",
       "      <td>316</td>\n",
       "      <td>1127</td>\n",
       "      <td>885</td>\n",
       "      <td>적용</td>\n",
       "      <td>8</td>\n",
       "      <td>3조</td>\n",
       "    </tr>\n",
       "    <tr>\n",
       "      <th>4</th>\n",
       "      <td>양품</td>\n",
       "      <td>BV-EH36-TM</td>\n",
       "      <td>T</td>\n",
       "      <td>38.33</td>\n",
       "      <td>3098</td>\n",
       "      <td>13334</td>\n",
       "      <td>12430</td>\n",
       "      <td>3호기</td>\n",
       "      <td>1</td>\n",
       "      <td>1140</td>\n",
       "      <td>134</td>\n",
       "      <td>1128</td>\n",
       "      <td>48</td>\n",
       "      <td>314</td>\n",
       "      <td>1128</td>\n",
       "      <td>873</td>\n",
       "      <td>적용</td>\n",
       "      <td>8</td>\n",
       "      <td>1조</td>\n",
       "    </tr>\n",
       "  </tbody>\n",
       "</table>\n",
       "</div>"
      ],
      "text/plain": [
       "  SCALE        SPEC STEEL_KIND  PT_THK  PT_WDTH  PT_LTH  PT_WGT FUR_NO  \\\n",
       "0    양품  AB/EH32-TM          T   32.25     3707   15109   14180    1호기   \n",
       "1    양품  AB/EH32-TM          T   32.25     3707   15109   14180    1호기   \n",
       "2    양품   NV-E36-TM          T   33.27     3619   19181   18130    2호기   \n",
       "3    양품   NV-E36-TM          T   33.27     3619   19181   18130    2호기   \n",
       "4    양품  BV-EH36-TM          T   38.33     3098   13334   12430    3호기   \n",
       "\n",
       "   FUR_NO_ROW  FUR_HZ_TEMP  FUR_HZ_TIME  FUR_SZ_TEMP  FUR_SZ_TIME  FUR_TIME  \\\n",
       "0           1         1144          116         1133           59       282   \n",
       "1           2         1144          122         1135           53       283   \n",
       "2           1         1129          116         1121           55       282   \n",
       "3           2         1152          125         1127           68       316   \n",
       "4           1         1140          134         1128           48       314   \n",
       "\n",
       "   FUR_EXTEMP  ROLLING_TEMP_T5 HSB  ROLLING_DESCALING WORK_GR  \n",
       "0        1133              934  적용                  8      2조  \n",
       "1        1135              937  적용                  8      2조  \n",
       "2        1121              889  적용                  8      3조  \n",
       "3        1127              885  적용                  8      3조  \n",
       "4        1128              873  적용                  8      1조  "
      ]
     },
     "execution_count": 8,
     "metadata": {},
     "output_type": "execute_result"
    }
   ],
   "source": [
    "df_raw.head()"
   ]
  },
  {
   "cell_type": "markdown",
   "metadata": {},
   "source": [
    "### 이상치 제거\n",
    "- 하단 탐색적 분석 진행도중 ROLLING_TEMP_T5의 이상치 확인\n",
    "- 0 데이터가 나오는 것으로 보임으로 해당 데이터 삭제를 함"
   ]
  },
  {
   "cell_type": "code",
   "execution_count": 9,
   "metadata": {},
   "outputs": [
    {
     "data": {
      "text/plain": [
       "<AxesSubplot:>"
      ]
     },
     "execution_count": 9,
     "metadata": {},
     "output_type": "execute_result"
    },
    {
     "data": {
      "image/png": "[encoded data removed]",
      "text/plain": [
       "<Figure size 1080x720 with 1 Axes>"
      ]
     },
     "metadata": {
      "needs_background": "light"
     },
     "output_type": "display_data"
    }
   ],
   "source": [
    "df_raw[[\"ROLLING_TEMP_T5\"]].boxplot(figsize = (15, 10))"
   ]
  },
  {
   "cell_type": "code",
   "execution_count": 10,
   "metadata": {},
   "outputs": [
    {
     "data": {
      "text/html": [
       "<div>\n",
       "<style scoped>\n",
       "    .dataframe tbody tr th:only-of-type {\n",
       "        vertical-align: middle;\n",
       "    }\n",
       "\n",
       "    .dataframe tbody tr th {\n",
       "        vertical-align: top;\n",
       "    }\n",
       "\n",
       "    .dataframe thead th {\n",
       "        text-align: right;\n",
       "    }\n",
       "</style>\n",
       "<table border=\"1\" class=\"dataframe\">\n",
       "  <thead>\n",
       "    <tr style=\"text-align: right;\">\n",
       "      <th></th>\n",
       "      <th>SCALE</th>\n",
       "      <th>SPEC</th>\n",
       "      <th>STEEL_KIND</th>\n",
       "      <th>PT_THK</th>\n",
       "      <th>PT_WDTH</th>\n",
       "      <th>PT_LTH</th>\n",
       "      <th>PT_WGT</th>\n",
       "      <th>FUR_NO</th>\n",
       "      <th>FUR_NO_ROW</th>\n",
       "      <th>FUR_HZ_TEMP</th>\n",
       "      <th>FUR_HZ_TIME</th>\n",
       "      <th>FUR_SZ_TEMP</th>\n",
       "      <th>FUR_SZ_TIME</th>\n",
       "      <th>FUR_TIME</th>\n",
       "      <th>FUR_EXTEMP</th>\n",
       "      <th>ROLLING_TEMP_T5</th>\n",
       "      <th>HSB</th>\n",
       "      <th>ROLLING_DESCALING</th>\n",
       "      <th>WORK_GR</th>\n",
       "    </tr>\n",
       "  </thead>\n",
       "  <tbody>\n",
       "    <tr>\n",
       "      <th>41</th>\n",
       "      <td>양품</td>\n",
       "      <td>GL-E36-TM</td>\n",
       "      <td>T</td>\n",
       "      <td>55.51</td>\n",
       "      <td>3765</td>\n",
       "      <td>11398</td>\n",
       "      <td>37400</td>\n",
       "      <td>3호기</td>\n",
       "      <td>2</td>\n",
       "      <td>1132</td>\n",
       "      <td>95</td>\n",
       "      <td>1128</td>\n",
       "      <td>80</td>\n",
       "      <td>341</td>\n",
       "      <td>1128</td>\n",
       "      <td>0</td>\n",
       "      <td>적용</td>\n",
       "      <td>6</td>\n",
       "      <td>1조</td>\n",
       "    </tr>\n",
       "    <tr>\n",
       "      <th>184</th>\n",
       "      <td>양품</td>\n",
       "      <td>JS-SM490YB</td>\n",
       "      <td>C</td>\n",
       "      <td>16.09</td>\n",
       "      <td>2221</td>\n",
       "      <td>43596</td>\n",
       "      <td>61150</td>\n",
       "      <td>3호기</td>\n",
       "      <td>1</td>\n",
       "      <td>1169</td>\n",
       "      <td>64</td>\n",
       "      <td>1164</td>\n",
       "      <td>61</td>\n",
       "      <td>308</td>\n",
       "      <td>1164</td>\n",
       "      <td>0</td>\n",
       "      <td>적용</td>\n",
       "      <td>10</td>\n",
       "      <td>3조</td>\n",
       "    </tr>\n",
       "    <tr>\n",
       "      <th>185</th>\n",
       "      <td>양품</td>\n",
       "      <td>JS-SM490YB</td>\n",
       "      <td>C</td>\n",
       "      <td>16.09</td>\n",
       "      <td>2221</td>\n",
       "      <td>43596</td>\n",
       "      <td>61150</td>\n",
       "      <td>3호기</td>\n",
       "      <td>2</td>\n",
       "      <td>1163</td>\n",
       "      <td>57</td>\n",
       "      <td>1166</td>\n",
       "      <td>67</td>\n",
       "      <td>303</td>\n",
       "      <td>1166</td>\n",
       "      <td>0</td>\n",
       "      <td>적용</td>\n",
       "      <td>10</td>\n",
       "      <td>4조</td>\n",
       "    </tr>\n",
       "    <tr>\n",
       "      <th>494</th>\n",
       "      <td>양품</td>\n",
       "      <td>PILAC-BT33</td>\n",
       "      <td>T</td>\n",
       "      <td>80.82</td>\n",
       "      <td>2085</td>\n",
       "      <td>12919</td>\n",
       "      <td>17090</td>\n",
       "      <td>2호기</td>\n",
       "      <td>1</td>\n",
       "      <td>1133</td>\n",
       "      <td>89</td>\n",
       "      <td>1122</td>\n",
       "      <td>59</td>\n",
       "      <td>378</td>\n",
       "      <td>1122</td>\n",
       "      <td>0</td>\n",
       "      <td>적용</td>\n",
       "      <td>6</td>\n",
       "      <td>2조</td>\n",
       "    </tr>\n",
       "    <tr>\n",
       "      <th>495</th>\n",
       "      <td>양품</td>\n",
       "      <td>PILAC-BT33</td>\n",
       "      <td>T</td>\n",
       "      <td>80.82</td>\n",
       "      <td>2085</td>\n",
       "      <td>13176</td>\n",
       "      <td>17430</td>\n",
       "      <td>1호기</td>\n",
       "      <td>2</td>\n",
       "      <td>1130</td>\n",
       "      <td>92</td>\n",
       "      <td>1124</td>\n",
       "      <td>61</td>\n",
       "      <td>362</td>\n",
       "      <td>1124</td>\n",
       "      <td>0</td>\n",
       "      <td>적용</td>\n",
       "      <td>6</td>\n",
       "      <td>3조</td>\n",
       "    </tr>\n",
       "    <tr>\n",
       "      <th>496</th>\n",
       "      <td>양품</td>\n",
       "      <td>NV-D32-TM</td>\n",
       "      <td>T</td>\n",
       "      <td>40.35</td>\n",
       "      <td>2497</td>\n",
       "      <td>23592</td>\n",
       "      <td>37320</td>\n",
       "      <td>3호기</td>\n",
       "      <td>1</td>\n",
       "      <td>1119</td>\n",
       "      <td>109</td>\n",
       "      <td>1117</td>\n",
       "      <td>76</td>\n",
       "      <td>383</td>\n",
       "      <td>1117</td>\n",
       "      <td>0</td>\n",
       "      <td>적용</td>\n",
       "      <td>6</td>\n",
       "      <td>3조</td>\n",
       "    </tr>\n",
       "  </tbody>\n",
       "</table>\n",
       "</div>"
      ],
      "text/plain": [
       "    SCALE        SPEC STEEL_KIND  PT_THK  PT_WDTH  PT_LTH  PT_WGT FUR_NO  \\\n",
       "41     양품   GL-E36-TM          T   55.51     3765   11398   37400    3호기   \n",
       "184    양품  JS-SM490YB          C   16.09     2221   43596   61150    3호기   \n",
       "185    양품  JS-SM490YB          C   16.09     2221   43596   61150    3호기   \n",
       "494    양품  PILAC-BT33          T   80.82     2085   12919   17090    2호기   \n",
       "495    양품  PILAC-BT33          T   80.82     2085   13176   17430    1호기   \n",
       "496    양품   NV-D32-TM          T   40.35     2497   23592   37320    3호기   \n",
       "\n",
       "     FUR_NO_ROW  FUR_HZ_TEMP  FUR_HZ_TIME  FUR_SZ_TEMP  FUR_SZ_TIME  FUR_TIME  \\\n",
       "41            2         1132           95         1128           80       341   \n",
       "184           1         1169           64         1164           61       308   \n",
       "185           2         1163           57         1166           67       303   \n",
       "494           1         1133           89         1122           59       378   \n",
       "495           2         1130           92         1124           61       362   \n",
       "496           1         1119          109         1117           76       383   \n",
       "\n",
       "     FUR_EXTEMP  ROLLING_TEMP_T5 HSB  ROLLING_DESCALING WORK_GR  \n",
       "41         1128                0  적용                  6      1조  \n",
       "184        1164                0  적용                 10      3조  \n",
       "185        1166                0  적용                 10      4조  \n",
       "494        1122                0  적용                  6      2조  \n",
       "495        1124                0  적용                  6      3조  \n",
       "496        1117                0  적용                  6      3조  "
      ]
     },
     "execution_count": 10,
     "metadata": {},
     "output_type": "execute_result"
    }
   ],
   "source": [
    "df_raw[\"ROLLING_TEMP_T5\"].unique\n",
    "df_raw[df_raw[\"ROLLING_TEMP_T5\"] == 0]"
   ]
  },
  {
   "cell_type": "code",
   "execution_count": 11,
   "metadata": {},
   "outputs": [],
   "source": [
    "drop_idx = df_raw[df_raw[\"ROLLING_TEMP_T5\"] == 0].index"
   ]
  },
  {
   "cell_type": "code",
   "execution_count": 12,
   "metadata": {},
   "outputs": [
    {
     "data": {
      "text/plain": [
       "Int64Index([41, 184, 185, 494, 495, 496], dtype='int64')"
      ]
     },
     "execution_count": 12,
     "metadata": {},
     "output_type": "execute_result"
    }
   ],
   "source": [
    "drop_idx"
   ]
  },
  {
   "cell_type": "code",
   "execution_count": 13,
   "metadata": {},
   "outputs": [],
   "source": [
    "df_raw.drop(drop_idx, inplace=True)"
   ]
  },
  {
   "cell_type": "code",
   "execution_count": 14,
   "metadata": {},
   "outputs": [
    {
     "name": "stdout",
     "output_type": "stream",
     "text": [
      "<class 'pandas.core.frame.DataFrame'>\n",
      "Int64Index: 714 entries, 0 to 719\n",
      "Data columns (total 19 columns):\n",
      " #   Column             Non-Null Count  Dtype  \n",
      "---  ------             --------------  -----  \n",
      " 0   SCALE              714 non-null    object \n",
      " 1   SPEC               714 non-null    object \n",
      " 2   STEEL_KIND         714 non-null    object \n",
      " 3   PT_THK             714 non-null    float64\n",
      " 4   PT_WDTH            714 non-null    int64  \n",
      " 5   PT_LTH             714 non-null    int64  \n",
      " 6   PT_WGT             714 non-null    int64  \n",
      " 7   FUR_NO             714 non-null    object \n",
      " 8   FUR_NO_ROW         714 non-null    int64  \n",
      " 9   FUR_HZ_TEMP        714 non-null    int64  \n",
      " 10  FUR_HZ_TIME        714 non-null    int64  \n",
      " 11  FUR_SZ_TEMP        714 non-null    int64  \n",
      " 12  FUR_SZ_TIME        714 non-null    int64  \n",
      " 13  FUR_TIME           714 non-null    int64  \n",
      " 14  FUR_EXTEMP         714 non-null    int64  \n",
      " 15  ROLLING_TEMP_T5    714 non-null    int64  \n",
      " 16  HSB                714 non-null    object \n",
      " 17  ROLLING_DESCALING  714 non-null    int64  \n",
      " 18  WORK_GR            714 non-null    object \n",
      "dtypes: float64(1), int64(12), object(6)\n",
      "memory usage: 111.6+ KB\n"
     ]
    }
   ],
   "source": [
    "df_raw.info()"
   ]
  },
  {
   "cell_type": "markdown",
   "metadata": {},
   "source": [
    "- 이상치를 가지고 있는 6개의 데이터 삭제"
   ]
  },
  {
   "cell_type": "markdown",
   "metadata": {},
   "source": [
    "### 히스토그램 - 양품/불량 기준(연속형 데이터)"
   ]
  },
  {
   "cell_type": "code",
   "execution_count": 15,
   "metadata": {},
   "outputs": [],
   "source": [
    "def fun_plot_hist(data, var):\n",
    "    plt.hist(data[data[\"SCALE\"] == \"양품\"][var], label = \"양품\", alpha = 0.5)\n",
    "    plt.hist(data[data[\"SCALE\"] == \"불량\"][var], label = \"불량\", alpha = 0.5)\n",
    "    plt.title(var)\n",
    "    plt.legend()"
   ]
  },
  {
   "cell_type": "markdown",
   "metadata": {},
   "source": [
    "### 빈도분석, 카이제곱 검정 (범주형데이터)"
   ]
  },
  {
   "cell_type": "code",
   "execution_count": 16,
   "metadata": {},
   "outputs": [],
   "source": [
    "def fun_print_crosstab(data, var):\n",
    "    return pd.crosstab(data[\"SCALE\"], data[var], margins=True)"
   ]
  },
  {
   "cell_type": "markdown",
   "metadata": {},
   "source": [
    "### plate 관련"
   ]
  },
  {
   "cell_type": "code",
   "execution_count": 17,
   "metadata": {
    "scrolled": true
   },
   "outputs": [
    {
     "data": {
      "image/png": "[encoded data removed]",
      "text/plain": [
       "<Figure size 432x288 with 4 Axes>"
      ]
     },
     "metadata": {
      "needs_background": "light"
     },
     "output_type": "display_data"
    }
   ],
   "source": [
    "plt.subplot(2, 2, 1)\n",
    "fun_plot_hist(df_raw, \"PT_THK\")\n",
    "plt.subplot(2, 2, 2)\n",
    "fun_plot_hist(df_raw, \"PT_WDTH\")\n",
    "plt.subplot(2, 2, 3)\n",
    "fun_plot_hist(df_raw, \"PT_LTH\")\n",
    "plt.subplot(2, 2, 4)\n",
    "fun_plot_hist(df_raw, \"PT_WGT\")\n",
    "\n",
    "plt.tight_layout()"
   ]
  },
  {
   "cell_type": "markdown",
   "metadata": {},
   "source": [
    "#### plate 두께"
   ]
  },
  {
   "cell_type": "code",
   "execution_count": 18,
   "metadata": {},
   "outputs": [
    {
     "data": {
      "image/png": "[encoded data removed]",
      "text/plain": [
       "<Figure size 432x288 with 1 Axes>"
      ]
     },
     "metadata": {
      "needs_background": "light"
     },
     "output_type": "display_data"
    }
   ],
   "source": [
    "fun_plot_hist(df_raw, \"PT_THK\")"
   ]
  },
  {
   "cell_type": "markdown",
   "metadata": {},
   "source": [
    "#### plate 폭"
   ]
  },
  {
   "cell_type": "code",
   "execution_count": 19,
   "metadata": {},
   "outputs": [
    {
     "data": {
      "image/png": "[encoded data removed]",
      "text/plain": [
       "<Figure size 432x288 with 1 Axes>"
      ]
     },
     "metadata": {
      "needs_background": "light"
     },
     "output_type": "display_data"
    }
   ],
   "source": [
    "fun_plot_hist(df_raw, \"PT_WDTH\")"
   ]
  },
  {
   "cell_type": "markdown",
   "metadata": {},
   "source": [
    "#### plate 길이"
   ]
  },
  {
   "cell_type": "code",
   "execution_count": 20,
   "metadata": {},
   "outputs": [
    {
     "data": {
      "image/png": "[encoded data removed]",
      "text/plain": [
       "<Figure size 432x288 with 1 Axes>"
      ]
     },
     "metadata": {
      "needs_background": "light"
     },
     "output_type": "display_data"
    }
   ],
   "source": [
    "fun_plot_hist(df_raw, \"PT_LTH\")"
   ]
  },
  {
   "cell_type": "markdown",
   "metadata": {},
   "source": [
    "#### plate 중량"
   ]
  },
  {
   "cell_type": "code",
   "execution_count": 21,
   "metadata": {},
   "outputs": [
    {
     "data": {
      "image/png": "[encoded data removed]",
      "text/plain": [
       "<Figure size 432x288 with 1 Axes>"
      ]
     },
     "metadata": {
      "needs_background": "light"
     },
     "output_type": "display_data"
    }
   ],
   "source": [
    "fun_plot_hist(df_raw, \"PT_WGT\")"
   ]
  },
  {
   "cell_type": "markdown",
   "metadata": {},
   "source": [
    "### 가열로 관련"
   ]
  },
  {
   "cell_type": "markdown",
   "metadata": {},
   "source": [
    "#### 가열로 호기"
   ]
  },
  {
   "cell_type": "code",
   "execution_count": 22,
   "metadata": {},
   "outputs": [
    {
     "data": {
      "image/png": "[encoded data removed]",
      "text/plain": [
       "<Figure size 432x288 with 6 Axes>"
      ]
     },
     "metadata": {
      "needs_background": "light"
     },
     "output_type": "display_data"
    }
   ],
   "source": [
    "plt.subplot(2, 3, 1)\n",
    "fun_plot_hist(df_raw, \"FUR_NO_ROW\")\n",
    "plt.subplot(2, 3, 2)\n",
    "fun_plot_hist(df_raw, \"FUR_HZ_TEMP\")\n",
    "plt.subplot(2, 3, 3)\n",
    "fun_plot_hist(df_raw, \"FUR_HZ_TIME\")\n",
    "plt.subplot(2, 3, 4)\n",
    "fun_plot_hist(df_raw, \"FUR_SZ_TIME\")\n",
    "plt.subplot(2, 3, 5)\n",
    "fun_plot_hist(df_raw, \"FUR_TIME\")\n",
    "plt.subplot(2, 3, 6)\n",
    "fun_plot_hist(df_raw, \"ROLLING_TEMP_T5\")\n",
    "\n",
    "plt.tight_layout()"
   ]
  },
  {
   "cell_type": "markdown",
   "metadata": {},
   "source": [
    "#### 가열로 작업순번(범주형)"
   ]
  },
  {
   "cell_type": "code",
   "execution_count": 23,
   "metadata": {},
   "outputs": [
    {
     "data": {
      "text/html": [
       "<div>\n",
       "<style scoped>\n",
       "    .dataframe tbody tr th:only-of-type {\n",
       "        vertical-align: middle;\n",
       "    }\n",
       "\n",
       "    .dataframe tbody tr th {\n",
       "        vertical-align: top;\n",
       "    }\n",
       "\n",
       "    .dataframe thead th {\n",
       "        text-align: right;\n",
       "    }\n",
       "</style>\n",
       "<table border=\"1\" class=\"dataframe\">\n",
       "  <thead>\n",
       "    <tr style=\"text-align: right;\">\n",
       "      <th>FUR_NO_ROW</th>\n",
       "      <th>1</th>\n",
       "      <th>2</th>\n",
       "      <th>All</th>\n",
       "    </tr>\n",
       "    <tr>\n",
       "      <th>SCALE</th>\n",
       "      <th></th>\n",
       "      <th></th>\n",
       "      <th></th>\n",
       "    </tr>\n",
       "  </thead>\n",
       "  <tbody>\n",
       "    <tr>\n",
       "      <th>불량</th>\n",
       "      <td>120</td>\n",
       "      <td>111</td>\n",
       "      <td>231</td>\n",
       "    </tr>\n",
       "    <tr>\n",
       "      <th>양품</th>\n",
       "      <td>239</td>\n",
       "      <td>244</td>\n",
       "      <td>483</td>\n",
       "    </tr>\n",
       "    <tr>\n",
       "      <th>All</th>\n",
       "      <td>359</td>\n",
       "      <td>355</td>\n",
       "      <td>714</td>\n",
       "    </tr>\n",
       "  </tbody>\n",
       "</table>\n",
       "</div>"
      ],
      "text/plain": [
       "FUR_NO_ROW    1    2  All\n",
       "SCALE                    \n",
       "불량          120  111  231\n",
       "양품          239  244  483\n",
       "All         359  355  714"
      ]
     },
     "execution_count": 23,
     "metadata": {},
     "output_type": "execute_result"
    }
   ],
   "source": [
    "fun_print_crosstab(df_raw, \"FUR_NO_ROW\")"
   ]
  },
  {
   "cell_type": "markdown",
   "metadata": {},
   "source": [
    "#### 가열로 가열대 온도"
   ]
  },
  {
   "cell_type": "code",
   "execution_count": 24,
   "metadata": {},
   "outputs": [
    {
     "data": {
      "image/png": "[encoded data removed]",
      "text/plain": [
       "<Figure size 432x288 with 1 Axes>"
      ]
     },
     "metadata": {
      "needs_background": "light"
     },
     "output_type": "display_data"
    }
   ],
   "source": [
    "fun_plot_hist(df_raw, \"FUR_HZ_TEMP\")"
   ]
  },
  {
   "cell_type": "markdown",
   "metadata": {},
   "source": [
    "#### 가열로 가열대 시간"
   ]
  },
  {
   "cell_type": "code",
   "execution_count": 25,
   "metadata": {},
   "outputs": [
    {
     "data": {
      "image/png": "[encoded data removed]",
      "text/plain": [
       "<Figure size 432x288 with 1 Axes>"
      ]
     },
     "metadata": {
      "needs_background": "light"
     },
     "output_type": "display_data"
    }
   ],
   "source": [
    "fun_plot_hist(df_raw, \"FUR_HZ_TIME\")"
   ]
  },
  {
   "cell_type": "markdown",
   "metadata": {},
   "source": [
    "#### 가열로 균열대 온도"
   ]
  },
  {
   "cell_type": "code",
   "execution_count": 26,
   "metadata": {},
   "outputs": [
    {
     "data": {
      "image/png": "[encoded data removed]",
      "text/plain": [
       "<Figure size 432x288 with 1 Axes>"
      ]
     },
     "metadata": {
      "needs_background": "light"
     },
     "output_type": "display_data"
    }
   ],
   "source": [
    "fun_plot_hist(df_raw, \"FUR_SZ_TEMP\")"
   ]
  },
  {
   "cell_type": "markdown",
   "metadata": {},
   "source": [
    "#### 가열로 균열대 시간"
   ]
  },
  {
   "cell_type": "code",
   "execution_count": 27,
   "metadata": {},
   "outputs": [
    {
     "data": {
      "image/png": "[encoded data removed]",
      "text/plain": [
       "<Figure size 432x288 with 1 Axes>"
      ]
     },
     "metadata": {
      "needs_background": "light"
     },
     "output_type": "display_data"
    }
   ],
   "source": [
    "fun_plot_hist(df_raw, \"FUR_SZ_TIME\")"
   ]
  },
  {
   "cell_type": "markdown",
   "metadata": {},
   "source": [
    "#### 가열로 시간"
   ]
  },
  {
   "cell_type": "code",
   "execution_count": 28,
   "metadata": {},
   "outputs": [
    {
     "data": {
      "image/png": "[encoded data removed]",
      "text/plain": [
       "<Figure size 432x288 with 1 Axes>"
      ]
     },
     "metadata": {
      "needs_background": "light"
     },
     "output_type": "display_data"
    }
   ],
   "source": [
    "fun_plot_hist(df_raw, \"FUR_TIME\")"
   ]
  },
  {
   "cell_type": "markdown",
   "metadata": {},
   "source": [
    "### 가열로 추출 온도 vs 가열로 균열대 온도"
   ]
  },
  {
   "cell_type": "code",
   "execution_count": 29,
   "metadata": {},
   "outputs": [
    {
     "data": {
      "image/png": "[encoded data removed]",
      "text/plain": [
       "<Figure size 432x288 with 2 Axes>"
      ]
     },
     "metadata": {
      "needs_background": "light"
     },
     "output_type": "display_data"
    }
   ],
   "source": [
    "plt.subplot(1, 2, 1)\n",
    "fun_plot_hist(df_raw, \"FUR_SZ_TEMP\")\n",
    "plt.subplot(1, 2, 2)\n",
    "fun_plot_hist(df_raw, \"FUR_EXTEMP\")"
   ]
  },
  {
   "cell_type": "markdown",
   "metadata": {},
   "source": [
    "### 추출 및 압연"
   ]
  },
  {
   "cell_type": "markdown",
   "metadata": {},
   "source": [
    "#### 추출 온도"
   ]
  },
  {
   "cell_type": "code",
   "execution_count": 30,
   "metadata": {},
   "outputs": [
    {
     "data": {
      "image/png": "[encoded data removed]",
      "text/plain": [
       "<Figure size 432x288 with 1 Axes>"
      ]
     },
     "metadata": {
      "needs_background": "light"
     },
     "output_type": "display_data"
    }
   ],
   "source": [
    "fun_plot_hist(df_raw, \"FUR_EXTEMP\")"
   ]
  },
  {
   "cell_type": "markdown",
   "metadata": {},
   "source": [
    "### 압연 온도"
   ]
  },
  {
   "cell_type": "code",
   "execution_count": 31,
   "metadata": {},
   "outputs": [
    {
     "data": {
      "image/png": "[encoded data removed]",
      "text/plain": [
       "<Figure size 432x288 with 1 Axes>"
      ]
     },
     "metadata": {
      "needs_background": "light"
     },
     "output_type": "display_data"
    }
   ],
   "source": [
    "fun_plot_hist(df_raw, \"ROLLING_TEMP_T5\")"
   ]
  },
  {
   "cell_type": "markdown",
   "metadata": {},
   "source": [
    "- 압연 온도에서 이상치가 발생하는 것으로 보여 해당 이상치에 대해 사전 처리를 진행해야겠다.\n",
    "- 진행한 후 데이터에 이상치가 없어보임을 확인함."
   ]
  },
  {
   "cell_type": "markdown",
   "metadata": {},
   "source": [
    "#### WORK_GR"
   ]
  },
  {
   "cell_type": "code",
   "execution_count": 32,
   "metadata": {},
   "outputs": [
    {
     "data": {
      "text/html": [
       "<div>\n",
       "<style scoped>\n",
       "    .dataframe tbody tr th:only-of-type {\n",
       "        vertical-align: middle;\n",
       "    }\n",
       "\n",
       "    .dataframe tbody tr th {\n",
       "        vertical-align: top;\n",
       "    }\n",
       "\n",
       "    .dataframe thead th {\n",
       "        text-align: right;\n",
       "    }\n",
       "</style>\n",
       "<table border=\"1\" class=\"dataframe\">\n",
       "  <thead>\n",
       "    <tr style=\"text-align: right;\">\n",
       "      <th>WORK_GR</th>\n",
       "      <th>1조</th>\n",
       "      <th>2조</th>\n",
       "      <th>3조</th>\n",
       "      <th>4조</th>\n",
       "      <th>All</th>\n",
       "    </tr>\n",
       "    <tr>\n",
       "      <th>SCALE</th>\n",
       "      <th></th>\n",
       "      <th></th>\n",
       "      <th></th>\n",
       "      <th></th>\n",
       "      <th></th>\n",
       "    </tr>\n",
       "  </thead>\n",
       "  <tbody>\n",
       "    <tr>\n",
       "      <th>불량</th>\n",
       "      <td>67</td>\n",
       "      <td>45</td>\n",
       "      <td>54</td>\n",
       "      <td>65</td>\n",
       "      <td>231</td>\n",
       "    </tr>\n",
       "    <tr>\n",
       "      <th>양품</th>\n",
       "      <td>121</td>\n",
       "      <td>119</td>\n",
       "      <td>115</td>\n",
       "      <td>128</td>\n",
       "      <td>483</td>\n",
       "    </tr>\n",
       "    <tr>\n",
       "      <th>All</th>\n",
       "      <td>188</td>\n",
       "      <td>164</td>\n",
       "      <td>169</td>\n",
       "      <td>193</td>\n",
       "      <td>714</td>\n",
       "    </tr>\n",
       "  </tbody>\n",
       "</table>\n",
       "</div>"
      ],
      "text/plain": [
       "WORK_GR   1조   2조   3조   4조  All\n",
       "SCALE                           \n",
       "불량        67   45   54   65  231\n",
       "양품       121  119  115  128  483\n",
       "All      188  164  169  193  714"
      ]
     },
     "execution_count": 32,
     "metadata": {},
     "output_type": "execute_result"
    }
   ],
   "source": [
    "fun_print_crosstab(df_raw, \"WORK_GR\")"
   ]
  },
  {
   "cell_type": "markdown",
   "metadata": {},
   "source": [
    "- 조별로 양품과 불량률에 차이가 크게 없어 보이기에 이번 분석에서는 사용하지 않도록 하겠다."
   ]
  },
  {
   "cell_type": "markdown",
   "metadata": {},
   "source": [
    "#### FUR_NO_ROW: 가열로 작업 순번"
   ]
  },
  {
   "cell_type": "code",
   "execution_count": 33,
   "metadata": {},
   "outputs": [
    {
     "data": {
      "text/html": [
       "<div>\n",
       "<style scoped>\n",
       "    .dataframe tbody tr th:only-of-type {\n",
       "        vertical-align: middle;\n",
       "    }\n",
       "\n",
       "    .dataframe tbody tr th {\n",
       "        vertical-align: top;\n",
       "    }\n",
       "\n",
       "    .dataframe thead th {\n",
       "        text-align: right;\n",
       "    }\n",
       "</style>\n",
       "<table border=\"1\" class=\"dataframe\">\n",
       "  <thead>\n",
       "    <tr style=\"text-align: right;\">\n",
       "      <th>FUR_NO_ROW</th>\n",
       "      <th>1</th>\n",
       "      <th>2</th>\n",
       "      <th>All</th>\n",
       "    </tr>\n",
       "    <tr>\n",
       "      <th>SCALE</th>\n",
       "      <th></th>\n",
       "      <th></th>\n",
       "      <th></th>\n",
       "    </tr>\n",
       "  </thead>\n",
       "  <tbody>\n",
       "    <tr>\n",
       "      <th>불량</th>\n",
       "      <td>120</td>\n",
       "      <td>111</td>\n",
       "      <td>231</td>\n",
       "    </tr>\n",
       "    <tr>\n",
       "      <th>양품</th>\n",
       "      <td>239</td>\n",
       "      <td>244</td>\n",
       "      <td>483</td>\n",
       "    </tr>\n",
       "    <tr>\n",
       "      <th>All</th>\n",
       "      <td>359</td>\n",
       "      <td>355</td>\n",
       "      <td>714</td>\n",
       "    </tr>\n",
       "  </tbody>\n",
       "</table>\n",
       "</div>"
      ],
      "text/plain": [
       "FUR_NO_ROW    1    2  All\n",
       "SCALE                    \n",
       "불량          120  111  231\n",
       "양품          239  244  483\n",
       "All         359  355  714"
      ]
     },
     "execution_count": 33,
     "metadata": {},
     "output_type": "execute_result"
    }
   ],
   "source": [
    "fun_print_crosstab(df_raw, \"FUR_NO_ROW\")"
   ]
  },
  {
   "cell_type": "markdown",
   "metadata": {},
   "source": [
    "- 가열로 작업 순번도 비율이 동등하게 나오기에 SCALE불량과 연관이 없다고 판단된다. 따라서  유의미한 결과가 나오지 않을 것으로 판단되어 분석에서 제외한다."
   ]
  },
  {
   "cell_type": "markdown",
   "metadata": {},
   "source": [
    "#### HSB(HSB적용 유무 1-적용, 2-미적용)"
   ]
  },
  {
   "cell_type": "code",
   "execution_count": 34,
   "metadata": {},
   "outputs": [
    {
     "data": {
      "text/html": [
       "<div>\n",
       "<style scoped>\n",
       "    .dataframe tbody tr th:only-of-type {\n",
       "        vertical-align: middle;\n",
       "    }\n",
       "\n",
       "    .dataframe tbody tr th {\n",
       "        vertical-align: top;\n",
       "    }\n",
       "\n",
       "    .dataframe thead th {\n",
       "        text-align: right;\n",
       "    }\n",
       "</style>\n",
       "<table border=\"1\" class=\"dataframe\">\n",
       "  <thead>\n",
       "    <tr style=\"text-align: right;\">\n",
       "      <th>HSB</th>\n",
       "      <th>미적용</th>\n",
       "      <th>적용</th>\n",
       "      <th>All</th>\n",
       "    </tr>\n",
       "    <tr>\n",
       "      <th>SCALE</th>\n",
       "      <th></th>\n",
       "      <th></th>\n",
       "      <th></th>\n",
       "    </tr>\n",
       "  </thead>\n",
       "  <tbody>\n",
       "    <tr>\n",
       "      <th>불량</th>\n",
       "      <td>33</td>\n",
       "      <td>198</td>\n",
       "      <td>231</td>\n",
       "    </tr>\n",
       "    <tr>\n",
       "      <th>양품</th>\n",
       "      <td>0</td>\n",
       "      <td>483</td>\n",
       "      <td>483</td>\n",
       "    </tr>\n",
       "    <tr>\n",
       "      <th>All</th>\n",
       "      <td>33</td>\n",
       "      <td>681</td>\n",
       "      <td>714</td>\n",
       "    </tr>\n",
       "  </tbody>\n",
       "</table>\n",
       "</div>"
      ],
      "text/plain": [
       "HSB    미적용   적용  All\n",
       "SCALE               \n",
       "불량      33  198  231\n",
       "양품       0  483  483\n",
       "All     33  681  714"
      ]
     },
     "execution_count": 34,
     "metadata": {},
     "output_type": "execute_result"
    }
   ],
   "source": [
    "fun_print_crosstab(df_raw, \"HSB\")"
   ]
  },
  {
   "cell_type": "markdown",
   "metadata": {},
   "source": [
    "- HSB적용 유무와 관련해서 미적용시 모두 불량임을 확인할 수 있었다.\n",
    "- HSB 적용여부는 SCALE불량과 연관이 있다고 가정한 상태에서 HSB를 적용했음에도 불량이 나오는 데이터에 대해서만 모델링을 진행해볼 계획이다."
   ]
  },
  {
   "cell_type": "markdown",
   "metadata": {},
   "source": [
    "#### STEEL_KIND"
   ]
  },
  {
   "cell_type": "code",
   "execution_count": 35,
   "metadata": {},
   "outputs": [
    {
     "data": {
      "text/html": [
       "<div>\n",
       "<style scoped>\n",
       "    .dataframe tbody tr th:only-of-type {\n",
       "        vertical-align: middle;\n",
       "    }\n",
       "\n",
       "    .dataframe tbody tr th {\n",
       "        vertical-align: top;\n",
       "    }\n",
       "\n",
       "    .dataframe thead th {\n",
       "        text-align: right;\n",
       "    }\n",
       "</style>\n",
       "<table border=\"1\" class=\"dataframe\">\n",
       "  <thead>\n",
       "    <tr style=\"text-align: right;\">\n",
       "      <th>STEEL_KIND</th>\n",
       "      <th>C</th>\n",
       "      <th>T</th>\n",
       "      <th>All</th>\n",
       "    </tr>\n",
       "    <tr>\n",
       "      <th>SCALE</th>\n",
       "      <th></th>\n",
       "      <th></th>\n",
       "      <th></th>\n",
       "    </tr>\n",
       "  </thead>\n",
       "  <tbody>\n",
       "    <tr>\n",
       "      <th>불량</th>\n",
       "      <td>214</td>\n",
       "      <td>17</td>\n",
       "      <td>231</td>\n",
       "    </tr>\n",
       "    <tr>\n",
       "      <th>양품</th>\n",
       "      <td>295</td>\n",
       "      <td>188</td>\n",
       "      <td>483</td>\n",
       "    </tr>\n",
       "    <tr>\n",
       "      <th>All</th>\n",
       "      <td>509</td>\n",
       "      <td>205</td>\n",
       "      <td>714</td>\n",
       "    </tr>\n",
       "  </tbody>\n",
       "</table>\n",
       "</div>"
      ],
      "text/plain": [
       "STEEL_KIND    C    T  All\n",
       "SCALE                    \n",
       "불량          214   17  231\n",
       "양품          295  188  483\n",
       "All         509  205  714"
      ]
     },
     "execution_count": 35,
     "metadata": {},
     "output_type": "execute_result"
    }
   ],
   "source": [
    "fun_print_crosstab(df_raw, \"STEEL_KIND\")"
   ]
  },
  {
   "cell_type": "markdown",
   "metadata": {},
   "source": [
    "- STEEL_KIND로 나눴을 때 T종보다 C종에서 상당히 높은 불량율을 보여주는 것을 확인했다.\n",
    "- 이에 따라 STEEL_KIND별로 나눠서 분석을 진행해볼 때, C강종만 따로 나눠서 분석을 진행해볼 계획이다."
   ]
  },
  {
   "cell_type": "markdown",
   "metadata": {},
   "source": [
    "### SPEC\n",
    "- 67가지의 Column으로 보류"
   ]
  },
  {
   "cell_type": "code",
   "execution_count": 36,
   "metadata": {},
   "outputs": [
    {
     "data": {
      "text/html": [
       "<div>\n",
       "<style scoped>\n",
       "    .dataframe tbody tr th:only-of-type {\n",
       "        vertical-align: middle;\n",
       "    }\n",
       "\n",
       "    .dataframe tbody tr th {\n",
       "        vertical-align: top;\n",
       "    }\n",
       "\n",
       "    .dataframe thead th {\n",
       "        text-align: right;\n",
       "    }\n",
       "</style>\n",
       "<table border=\"1\" class=\"dataframe\">\n",
       "  <thead>\n",
       "    <tr style=\"text-align: right;\">\n",
       "      <th>SPEC</th>\n",
       "      <th>A131-DH36TM</th>\n",
       "      <th>A283-C</th>\n",
       "      <th>A516-60</th>\n",
       "      <th>A709-36</th>\n",
       "      <th>AB/A</th>\n",
       "      <th>AB/AH32</th>\n",
       "      <th>AB/B</th>\n",
       "      <th>AB/EH32-TM</th>\n",
       "      <th>AB/EH36-TM</th>\n",
       "      <th>API-2W-50T</th>\n",
       "      <th>...</th>\n",
       "      <th>NV-A36-TM</th>\n",
       "      <th>NV-B</th>\n",
       "      <th>NV-D32-TM</th>\n",
       "      <th>NV-D36-TM</th>\n",
       "      <th>NV-E32-TM</th>\n",
       "      <th>NV-E36-TM</th>\n",
       "      <th>PILAC-BT33</th>\n",
       "      <th>SA283-C</th>\n",
       "      <th>V42JBN3</th>\n",
       "      <th>All</th>\n",
       "    </tr>\n",
       "    <tr>\n",
       "      <th>SCALE</th>\n",
       "      <th></th>\n",
       "      <th></th>\n",
       "      <th></th>\n",
       "      <th></th>\n",
       "      <th></th>\n",
       "      <th></th>\n",
       "      <th></th>\n",
       "      <th></th>\n",
       "      <th></th>\n",
       "      <th></th>\n",
       "      <th></th>\n",
       "      <th></th>\n",
       "      <th></th>\n",
       "      <th></th>\n",
       "      <th></th>\n",
       "      <th></th>\n",
       "      <th></th>\n",
       "      <th></th>\n",
       "      <th></th>\n",
       "      <th></th>\n",
       "      <th></th>\n",
       "    </tr>\n",
       "  </thead>\n",
       "  <tbody>\n",
       "    <tr>\n",
       "      <th>불량</th>\n",
       "      <td>1</td>\n",
       "      <td>5</td>\n",
       "      <td>1</td>\n",
       "      <td>0</td>\n",
       "      <td>4</td>\n",
       "      <td>1</td>\n",
       "      <td>3</td>\n",
       "      <td>0</td>\n",
       "      <td>1</td>\n",
       "      <td>0</td>\n",
       "      <td>...</td>\n",
       "      <td>0</td>\n",
       "      <td>2</td>\n",
       "      <td>0</td>\n",
       "      <td>1</td>\n",
       "      <td>0</td>\n",
       "      <td>0</td>\n",
       "      <td>2</td>\n",
       "      <td>10</td>\n",
       "      <td>1</td>\n",
       "      <td>231</td>\n",
       "    </tr>\n",
       "    <tr>\n",
       "      <th>양품</th>\n",
       "      <td>0</td>\n",
       "      <td>1</td>\n",
       "      <td>1</td>\n",
       "      <td>1</td>\n",
       "      <td>3</td>\n",
       "      <td>4</td>\n",
       "      <td>3</td>\n",
       "      <td>2</td>\n",
       "      <td>16</td>\n",
       "      <td>2</td>\n",
       "      <td>...</td>\n",
       "      <td>2</td>\n",
       "      <td>1</td>\n",
       "      <td>3</td>\n",
       "      <td>4</td>\n",
       "      <td>2</td>\n",
       "      <td>5</td>\n",
       "      <td>36</td>\n",
       "      <td>11</td>\n",
       "      <td>3</td>\n",
       "      <td>483</td>\n",
       "    </tr>\n",
       "    <tr>\n",
       "      <th>All</th>\n",
       "      <td>1</td>\n",
       "      <td>6</td>\n",
       "      <td>2</td>\n",
       "      <td>1</td>\n",
       "      <td>7</td>\n",
       "      <td>5</td>\n",
       "      <td>6</td>\n",
       "      <td>2</td>\n",
       "      <td>17</td>\n",
       "      <td>2</td>\n",
       "      <td>...</td>\n",
       "      <td>2</td>\n",
       "      <td>3</td>\n",
       "      <td>3</td>\n",
       "      <td>5</td>\n",
       "      <td>2</td>\n",
       "      <td>5</td>\n",
       "      <td>38</td>\n",
       "      <td>21</td>\n",
       "      <td>4</td>\n",
       "      <td>714</td>\n",
       "    </tr>\n",
       "  </tbody>\n",
       "</table>\n",
       "<p>3 rows × 67 columns</p>\n",
       "</div>"
      ],
      "text/plain": [
       "SPEC   A131-DH36TM  A283-C  A516-60  A709-36  AB/A  AB/AH32  AB/B  AB/EH32-TM  \\\n",
       "SCALE                                                                           \n",
       "불량               1       5        1        0     4        1     3           0   \n",
       "양품               0       1        1        1     3        4     3           2   \n",
       "All              1       6        2        1     7        5     6           2   \n",
       "\n",
       "SPEC   AB/EH36-TM  API-2W-50T  ...  NV-A36-TM  NV-B  NV-D32-TM  NV-D36-TM  \\\n",
       "SCALE                          ...                                          \n",
       "불량              1           0  ...          0     2          0          1   \n",
       "양품             16           2  ...          2     1          3          4   \n",
       "All            17           2  ...          2     3          3          5   \n",
       "\n",
       "SPEC   NV-E32-TM  NV-E36-TM  PILAC-BT33  SA283-C  V42JBN3  All  \n",
       "SCALE                                                           \n",
       "불량             0          0           2       10        1  231  \n",
       "양품             2          5          36       11        3  483  \n",
       "All            2          5          38       21        4  714  \n",
       "\n",
       "[3 rows x 67 columns]"
      ]
     },
     "execution_count": 36,
     "metadata": {},
     "output_type": "execute_result"
    }
   ],
   "source": [
    "fun_print_crosstab(df_raw, \"SPEC\")"
   ]
  },
  {
   "cell_type": "markdown",
   "metadata": {},
   "source": [
    "- SPEC의 경우 분석이 쉽지 않아 보이고, SPEC별로 불량률을 계산해도 데이터가 한계가 있어보이기에, SPEC 변수는 분석에서 제외하도록 하겠다."
   ]
  },
  {
   "cell_type": "markdown",
   "metadata": {},
   "source": [
    "## 탐색적 기법 정리\n",
    "- 목표변수: SCALE\n",
    "- 설명변수: STEEL_KIND, PT_THICK, PT_WIDTH, PT_LENGTH, PT_WEIGHT, FUR_HZ_TEMP, FUR_HZ_TIME, FUR_SZ_TEMP, FUR_SZ_TIME, FUR_TIME, FUR_EXTEMP, ROLLING_TEMP_T5, HSB, ROLLING_DESCALING\n",
    "\n",
    "\n",
    "- 목표변수 1개, 설명변수 13개를 이용하도록 하겠다."
   ]
  },
  {
   "cell_type": "code",
   "execution_count": 37,
   "metadata": {},
   "outputs": [],
   "source": [
    "df_raw_final = df_raw.drop([\"SPEC\", \"FUR_NO\", \"FUR_NO_ROW\", \"WORK_GR\"], axis=1)"
   ]
  },
  {
   "cell_type": "code",
   "execution_count": 38,
   "metadata": {},
   "outputs": [
    {
     "name": "stdout",
     "output_type": "stream",
     "text": [
      "<class 'pandas.core.frame.DataFrame'>\n",
      "Int64Index: 714 entries, 0 to 719\n",
      "Data columns (total 15 columns):\n",
      " #   Column             Non-Null Count  Dtype  \n",
      "---  ------             --------------  -----  \n",
      " 0   SCALE              714 non-null    object \n",
      " 1   STEEL_KIND         714 non-null    object \n",
      " 2   PT_THK             714 non-null    float64\n",
      " 3   PT_WDTH            714 non-null    int64  \n",
      " 4   PT_LTH             714 non-null    int64  \n",
      " 5   PT_WGT             714 non-null    int64  \n",
      " 6   FUR_HZ_TEMP        714 non-null    int64  \n",
      " 7   FUR_HZ_TIME        714 non-null    int64  \n",
      " 8   FUR_SZ_TEMP        714 non-null    int64  \n",
      " 9   FUR_SZ_TIME        714 non-null    int64  \n",
      " 10  FUR_TIME           714 non-null    int64  \n",
      " 11  FUR_EXTEMP         714 non-null    int64  \n",
      " 12  ROLLING_TEMP_T5    714 non-null    int64  \n",
      " 13  HSB                714 non-null    object \n",
      " 14  ROLLING_DESCALING  714 non-null    int64  \n",
      "dtypes: float64(1), int64(11), object(3)\n",
      "memory usage: 89.2+ KB\n"
     ]
    }
   ],
   "source": [
    "df_raw_final.info()"
   ]
  },
  {
   "cell_type": "markdown",
   "metadata": {},
   "source": [
    "### 최종 분석 대상 데이터 도출\n",
    "- HSB데이터를 미적용한 데이터의 경우 모두 불량으로 나왔기에 HSB를 핵심인자로 선정한 후, HSB를 적용한 데이터로만 분석을 진행하도록 하겠다."
   ]
  },
  {
   "cell_type": "code",
   "execution_count": 39,
   "metadata": {},
   "outputs": [
    {
     "data": {
      "text/plain": [
       "Int64Index([ 71,  79,  85, 112, 163, 246, 250, 290, 303, 327, 330, 341, 361,\n",
       "            363, 379, 388, 393, 403, 438, 446, 468, 492, 505, 514, 535, 551,\n",
       "            565, 591, 592, 608, 621, 683, 700],\n",
       "           dtype='int64')"
      ]
     },
     "execution_count": 39,
     "metadata": {},
     "output_type": "execute_result"
    }
   ],
   "source": [
    "df_raw[df_raw_final[\"HSB\"]==\"미적용\"].index"
   ]
  },
  {
   "cell_type": "code",
   "execution_count": 40,
   "metadata": {},
   "outputs": [],
   "source": [
    "df_raw_final = df_raw_final.drop(df_raw[df_raw_final[\"HSB\"]==\"미적용\"].index, inplace=False)"
   ]
  },
  {
   "cell_type": "code",
   "execution_count": 41,
   "metadata": {},
   "outputs": [],
   "source": [
    "df_raw_final.drop(\"HSB\", axis=1, inplace = True)"
   ]
  },
  {
   "cell_type": "code",
   "execution_count": 42,
   "metadata": {},
   "outputs": [
    {
     "data": {
      "text/plain": [
       "Index(['SCALE', 'STEEL_KIND', 'PT_THK', 'PT_WDTH', 'PT_LTH', 'PT_WGT',\n",
       "       'FUR_HZ_TEMP', 'FUR_HZ_TIME', 'FUR_SZ_TEMP', 'FUR_SZ_TIME', 'FUR_TIME',\n",
       "       'FUR_EXTEMP', 'ROLLING_TEMP_T5', 'ROLLING_DESCALING'],\n",
       "      dtype='object')"
      ]
     },
     "execution_count": 42,
     "metadata": {},
     "output_type": "execute_result"
    }
   ],
   "source": [
    "df_raw_final.columns"
   ]
  },
  {
   "cell_type": "markdown",
   "metadata": {},
   "source": [
    "- 목표변수: 1, 설명변수: 12"
   ]
  },
  {
   "cell_type": "markdown",
   "metadata": {},
   "source": [
    "### 목표변수 형변환"
   ]
  },
  {
   "cell_type": "code",
   "execution_count": 43,
   "metadata": {},
   "outputs": [],
   "source": [
    "df_raw_final[\"SCALE\"] = np.where(df_raw_final[\"SCALE\"] == \"불량\", 1, 0)"
   ]
  },
  {
   "cell_type": "code",
   "execution_count": 44,
   "metadata": {},
   "outputs": [
    {
     "data": {
      "text/html": [
       "<div>\n",
       "<style scoped>\n",
       "    .dataframe tbody tr th:only-of-type {\n",
       "        vertical-align: middle;\n",
       "    }\n",
       "\n",
       "    .dataframe tbody tr th {\n",
       "        vertical-align: top;\n",
       "    }\n",
       "\n",
       "    .dataframe thead th {\n",
       "        text-align: right;\n",
       "    }\n",
       "</style>\n",
       "<table border=\"1\" class=\"dataframe\">\n",
       "  <thead>\n",
       "    <tr style=\"text-align: right;\">\n",
       "      <th></th>\n",
       "      <th>SCALE</th>\n",
       "      <th>STEEL_KIND</th>\n",
       "      <th>PT_THK</th>\n",
       "      <th>PT_WDTH</th>\n",
       "      <th>PT_LTH</th>\n",
       "      <th>PT_WGT</th>\n",
       "      <th>FUR_HZ_TEMP</th>\n",
       "      <th>FUR_HZ_TIME</th>\n",
       "      <th>FUR_SZ_TEMP</th>\n",
       "      <th>FUR_SZ_TIME</th>\n",
       "      <th>FUR_TIME</th>\n",
       "      <th>FUR_EXTEMP</th>\n",
       "      <th>ROLLING_TEMP_T5</th>\n",
       "      <th>ROLLING_DESCALING</th>\n",
       "    </tr>\n",
       "  </thead>\n",
       "  <tbody>\n",
       "    <tr>\n",
       "      <th>0</th>\n",
       "      <td>0</td>\n",
       "      <td>T</td>\n",
       "      <td>32.25</td>\n",
       "      <td>3707</td>\n",
       "      <td>15109</td>\n",
       "      <td>14180</td>\n",
       "      <td>1144</td>\n",
       "      <td>116</td>\n",
       "      <td>1133</td>\n",
       "      <td>59</td>\n",
       "      <td>282</td>\n",
       "      <td>1133</td>\n",
       "      <td>934</td>\n",
       "      <td>8</td>\n",
       "    </tr>\n",
       "    <tr>\n",
       "      <th>1</th>\n",
       "      <td>0</td>\n",
       "      <td>T</td>\n",
       "      <td>32.25</td>\n",
       "      <td>3707</td>\n",
       "      <td>15109</td>\n",
       "      <td>14180</td>\n",
       "      <td>1144</td>\n",
       "      <td>122</td>\n",
       "      <td>1135</td>\n",
       "      <td>53</td>\n",
       "      <td>283</td>\n",
       "      <td>1135</td>\n",
       "      <td>937</td>\n",
       "      <td>8</td>\n",
       "    </tr>\n",
       "    <tr>\n",
       "      <th>2</th>\n",
       "      <td>0</td>\n",
       "      <td>T</td>\n",
       "      <td>33.27</td>\n",
       "      <td>3619</td>\n",
       "      <td>19181</td>\n",
       "      <td>18130</td>\n",
       "      <td>1129</td>\n",
       "      <td>116</td>\n",
       "      <td>1121</td>\n",
       "      <td>55</td>\n",
       "      <td>282</td>\n",
       "      <td>1121</td>\n",
       "      <td>889</td>\n",
       "      <td>8</td>\n",
       "    </tr>\n",
       "    <tr>\n",
       "      <th>3</th>\n",
       "      <td>0</td>\n",
       "      <td>T</td>\n",
       "      <td>33.27</td>\n",
       "      <td>3619</td>\n",
       "      <td>19181</td>\n",
       "      <td>18130</td>\n",
       "      <td>1152</td>\n",
       "      <td>125</td>\n",
       "      <td>1127</td>\n",
       "      <td>68</td>\n",
       "      <td>316</td>\n",
       "      <td>1127</td>\n",
       "      <td>885</td>\n",
       "      <td>8</td>\n",
       "    </tr>\n",
       "    <tr>\n",
       "      <th>4</th>\n",
       "      <td>0</td>\n",
       "      <td>T</td>\n",
       "      <td>38.33</td>\n",
       "      <td>3098</td>\n",
       "      <td>13334</td>\n",
       "      <td>12430</td>\n",
       "      <td>1140</td>\n",
       "      <td>134</td>\n",
       "      <td>1128</td>\n",
       "      <td>48</td>\n",
       "      <td>314</td>\n",
       "      <td>1128</td>\n",
       "      <td>873</td>\n",
       "      <td>8</td>\n",
       "    </tr>\n",
       "  </tbody>\n",
       "</table>\n",
       "</div>"
      ],
      "text/plain": [
       "   SCALE STEEL_KIND  PT_THK  PT_WDTH  PT_LTH  PT_WGT  FUR_HZ_TEMP  \\\n",
       "0      0          T   32.25     3707   15109   14180         1144   \n",
       "1      0          T   32.25     3707   15109   14180         1144   \n",
       "2      0          T   33.27     3619   19181   18130         1129   \n",
       "3      0          T   33.27     3619   19181   18130         1152   \n",
       "4      0          T   38.33     3098   13334   12430         1140   \n",
       "\n",
       "   FUR_HZ_TIME  FUR_SZ_TEMP  FUR_SZ_TIME  FUR_TIME  FUR_EXTEMP  \\\n",
       "0          116         1133           59       282        1133   \n",
       "1          122         1135           53       283        1135   \n",
       "2          116         1121           55       282        1121   \n",
       "3          125         1127           68       316        1127   \n",
       "4          134         1128           48       314        1128   \n",
       "\n",
       "   ROLLING_TEMP_T5  ROLLING_DESCALING  \n",
       "0              934                  8  \n",
       "1              937                  8  \n",
       "2              889                  8  \n",
       "3              885                  8  \n",
       "4              873                  8  "
      ]
     },
     "execution_count": 44,
     "metadata": {},
     "output_type": "execute_result"
    }
   ],
   "source": [
    "df_raw_final.head()"
   ]
  },
  {
   "cell_type": "code",
   "execution_count": 45,
   "metadata": {},
   "outputs": [
    {
     "data": {
      "text/plain": [
       "483"
      ]
     },
     "execution_count": 45,
     "metadata": {},
     "output_type": "execute_result"
    }
   ],
   "source": [
    "(df_raw_final[\"SCALE\"] == 0).sum()"
   ]
  },
  {
   "cell_type": "markdown",
   "metadata": {},
   "source": [
    "## 2. 모델링 기법"
   ]
  },
  {
   "cell_type": "markdown",
   "metadata": {},
   "source": [
    "※ 변수 중요도에 집중하면서 모델링 기법을 활용해 볼 계획이다.  \n",
    "※ 모델링을 진행하면서 STEEL_KIND를 통해 별도로 데이터를 뽑아 진행해볼 계획이다."
   ]
  },
  {
   "cell_type": "markdown",
   "metadata": {},
   "source": [
    "# 1. 로지스틱 회귀분석"
   ]
  },
  {
   "cell_type": "markdown",
   "metadata": {},
   "source": [
    "### 데이터 분할"
   ]
  },
  {
   "cell_type": "code",
   "execution_count": 46,
   "metadata": {},
   "outputs": [
    {
     "name": "stdout",
     "output_type": "stream",
     "text": [
      "train data size: (476, 14)\n",
      "Test data size: (205, 14)\n"
     ]
    }
   ],
   "source": [
    "df_train, df_test = train_test_split(df_raw_final,\n",
    "                                     test_size =0.3, random_state=1234)\n",
    "\n",
    "print(\"train data size: {}\".format(df_train.shape))\n",
    "print(\"Test data size: {}\".format(df_test.shape))"
   ]
  },
  {
   "cell_type": "code",
   "execution_count": 47,
   "metadata": {},
   "outputs": [
    {
     "data": {
      "text/plain": [
       "707    0\n",
       "513    0\n",
       "179    1\n",
       "436    0\n",
       "491    0\n",
       "      ..\n",
       "703    0\n",
       "391    1\n",
       "212    1\n",
       "54     0\n",
       "306    0\n",
       "Name: SCALE, Length: 476, dtype: int64"
      ]
     },
     "execution_count": 47,
     "metadata": {},
     "output_type": "execute_result"
    }
   ],
   "source": [
    "df_train[\"SCALE\"]"
   ]
  },
  {
   "cell_type": "code",
   "execution_count": 48,
   "metadata": {},
   "outputs": [
    {
     "data": {
      "text/html": [
       "<div>\n",
       "<style scoped>\n",
       "    .dataframe tbody tr th:only-of-type {\n",
       "        vertical-align: middle;\n",
       "    }\n",
       "\n",
       "    .dataframe tbody tr th {\n",
       "        vertical-align: top;\n",
       "    }\n",
       "\n",
       "    .dataframe thead th {\n",
       "        text-align: right;\n",
       "    }\n",
       "</style>\n",
       "<table border=\"1\" class=\"dataframe\">\n",
       "  <thead>\n",
       "    <tr style=\"text-align: right;\">\n",
       "      <th></th>\n",
       "      <th>SCALE</th>\n",
       "      <th>STEEL_KIND</th>\n",
       "      <th>PT_THK</th>\n",
       "      <th>PT_WDTH</th>\n",
       "      <th>PT_LTH</th>\n",
       "      <th>PT_WGT</th>\n",
       "      <th>FUR_HZ_TEMP</th>\n",
       "      <th>FUR_HZ_TIME</th>\n",
       "      <th>FUR_SZ_TEMP</th>\n",
       "      <th>FUR_SZ_TIME</th>\n",
       "      <th>FUR_TIME</th>\n",
       "      <th>FUR_EXTEMP</th>\n",
       "      <th>ROLLING_TEMP_T5</th>\n",
       "      <th>ROLLING_DESCALING</th>\n",
       "    </tr>\n",
       "  </thead>\n",
       "  <tbody>\n",
       "    <tr>\n",
       "      <th>707</th>\n",
       "      <td>0</td>\n",
       "      <td>C</td>\n",
       "      <td>12.05</td>\n",
       "      <td>3088</td>\n",
       "      <td>50530</td>\n",
       "      <td>14760</td>\n",
       "      <td>1183</td>\n",
       "      <td>66</td>\n",
       "      <td>1166</td>\n",
       "      <td>68</td>\n",
       "      <td>257</td>\n",
       "      <td>1166</td>\n",
       "      <td>896</td>\n",
       "      <td>10</td>\n",
       "    </tr>\n",
       "    <tr>\n",
       "      <th>513</th>\n",
       "      <td>0</td>\n",
       "      <td>T</td>\n",
       "      <td>75.74</td>\n",
       "      <td>1840</td>\n",
       "      <td>16672</td>\n",
       "      <td>36480</td>\n",
       "      <td>1124</td>\n",
       "      <td>77</td>\n",
       "      <td>1127</td>\n",
       "      <td>143</td>\n",
       "      <td>342</td>\n",
       "      <td>1127</td>\n",
       "      <td>811</td>\n",
       "      <td>6</td>\n",
       "    </tr>\n",
       "    <tr>\n",
       "      <th>179</th>\n",
       "      <td>1</td>\n",
       "      <td>C</td>\n",
       "      <td>19.12</td>\n",
       "      <td>2102</td>\n",
       "      <td>43709</td>\n",
       "      <td>41370</td>\n",
       "      <td>1147</td>\n",
       "      <td>56</td>\n",
       "      <td>1161</td>\n",
       "      <td>73</td>\n",
       "      <td>324</td>\n",
       "      <td>1161</td>\n",
       "      <td>1017</td>\n",
       "      <td>10</td>\n",
       "    </tr>\n",
       "    <tr>\n",
       "      <th>436</th>\n",
       "      <td>0</td>\n",
       "      <td>T</td>\n",
       "      <td>40.35</td>\n",
       "      <td>2751</td>\n",
       "      <td>23376</td>\n",
       "      <td>61110</td>\n",
       "      <td>1156</td>\n",
       "      <td>77</td>\n",
       "      <td>1128</td>\n",
       "      <td>126</td>\n",
       "      <td>304</td>\n",
       "      <td>1128</td>\n",
       "      <td>816</td>\n",
       "      <td>6</td>\n",
       "    </tr>\n",
       "    <tr>\n",
       "      <th>491</th>\n",
       "      <td>0</td>\n",
       "      <td>T</td>\n",
       "      <td>75.33</td>\n",
       "      <td>1840</td>\n",
       "      <td>10514</td>\n",
       "      <td>11440</td>\n",
       "      <td>1140</td>\n",
       "      <td>139</td>\n",
       "      <td>1123</td>\n",
       "      <td>72</td>\n",
       "      <td>390</td>\n",
       "      <td>1123</td>\n",
       "      <td>876</td>\n",
       "      <td>6</td>\n",
       "    </tr>\n",
       "  </tbody>\n",
       "</table>\n",
       "</div>"
      ],
      "text/plain": [
       "     SCALE STEEL_KIND  PT_THK  PT_WDTH  PT_LTH  PT_WGT  FUR_HZ_TEMP  \\\n",
       "707      0          C   12.05     3088   50530   14760         1183   \n",
       "513      0          T   75.74     1840   16672   36480         1124   \n",
       "179      1          C   19.12     2102   43709   41370         1147   \n",
       "436      0          T   40.35     2751   23376   61110         1156   \n",
       "491      0          T   75.33     1840   10514   11440         1140   \n",
       "\n",
       "     FUR_HZ_TIME  FUR_SZ_TEMP  FUR_SZ_TIME  FUR_TIME  FUR_EXTEMP  \\\n",
       "707           66         1166           68       257        1166   \n",
       "513           77         1127          143       342        1127   \n",
       "179           56         1161           73       324        1161   \n",
       "436           77         1128          126       304        1128   \n",
       "491          139         1123           72       390        1123   \n",
       "\n",
       "     ROLLING_TEMP_T5  ROLLING_DESCALING  \n",
       "707              896                 10  \n",
       "513              811                  6  \n",
       "179             1017                 10  \n",
       "436              816                  6  \n",
       "491              876                  6  "
      ]
     },
     "execution_count": 48,
     "metadata": {},
     "output_type": "execute_result"
    }
   ],
   "source": [
    "df_train.head()"
   ]
  },
  {
   "cell_type": "code",
   "execution_count": 56,
   "metadata": {},
   "outputs": [
    {
     "name": "stdout",
     "output_type": "stream",
     "text": [
      "Optimization terminated successfully.\n",
      "         Current function value: 0.282572\n",
      "         Iterations 8\n",
      "                           Logit Regression Results                           \n",
      "==============================================================================\n",
      "Dep. Variable:                  SCALE   No. Observations:                  476\n",
      "Model:                          Logit   Df Residuals:                      465\n",
      "Method:                           MLE   Df Model:                           10\n",
      "Date:                Mon, 08 Mar 2021   Pseudo R-squ.:                  0.5181\n",
      "Time:                        20:21:27   Log-Likelihood:                -134.50\n",
      "converged:                       True   LL-Null:                       -279.09\n",
      "Covariance Type:            nonrobust   LLR p-value:                 3.012e-56\n",
      "======================================================================================\n",
      "                         coef    std err          z      P>|z|      [0.025      0.975]\n",
      "--------------------------------------------------------------------------------------\n",
      "Intercept           -128.1562     24.873     -5.152      0.000    -176.907     -79.406\n",
      "C(STEEL_KIND)[T.T]     0.5792      1.267      0.457      0.648      -1.904       3.062\n",
      "PT_THK                -0.0263      0.029     -0.894      0.371      -0.084       0.031\n",
      "PT_WDTH               -0.0010      0.000     -2.079      0.038      -0.002    -5.5e-05\n",
      "PT_LTH             -4.309e-05   2.95e-05     -1.459      0.145      -0.000    1.48e-05\n",
      "PT_WGT             -2.581e-06   7.23e-06     -0.357      0.721   -1.67e-05    1.16e-05\n",
      "FUR_HZ_TIME            0.0054      0.005      1.146      0.252      -0.004       0.015\n",
      "FUR_SZ_TEMP            0.0913      0.021      4.339      0.000       0.050       0.133\n",
      "FUR_TIME              -0.0026      0.005     -0.562      0.574      -0.012       0.007\n",
      "ROLLING_TEMP_T5        0.0338      0.007      4.704      0.000       0.020       0.048\n",
      "ROLLING_DESCALING     -0.6730      0.201     -3.341      0.001      -1.068      -0.278\n",
      "======================================================================================\n"
     ]
    }
   ],
   "source": [
    "log_model = Logit.from_formula(\"\"\"SCALE ~ + PT_THK \n",
    "+ PT_WDTH + PT_LTH + C(STEEL_KIND) + PT_WGT + PT_WGT\n",
    "+ FUR_HZ_TIME + FUR_SZ_TEMP + FUR_TIME  \n",
    "+ ROLLING_TEMP_T5 + ROLLING_DESCALING\"\"\", df_train)\n",
    "log_result = log_model.fit()\n",
    "\n",
    "print(log_result.summary())"
   ]
  },
  {
   "cell_type": "markdown",
   "metadata": {},
   "source": [
    "- FUR_SZ_TIME인 균열대 시간의 경우 p-value가 너무 좋지 않아 해당 변수를 제거하도록 하겠다."
   ]
  },
  {
   "cell_type": "code",
   "execution_count": 49,
   "metadata": {},
   "outputs": [],
   "source": [
    "df_raw_final.drop(\"FUR_SZ_TEMP\", axis=1, inplace = True)"
   ]
  },
  {
   "cell_type": "markdown",
   "metadata": {},
   "source": [
    "#### FUR_EXTEMP칼럼 제거\n",
    "- 탐색적 분석 및 로지스틱 회귀분석에 의거"
   ]
  },
  {
   "cell_type": "code",
   "execution_count": 50,
   "metadata": {},
   "outputs": [],
   "source": [
    "df_raw_final.drop(\"FUR_EXTEMP\", axis=1, inplace = True)"
   ]
  },
  {
   "cell_type": "markdown",
   "metadata": {},
   "source": [
    "- 초기 로지스틱 회귀가 되지 않아 어떤 문제가 있는지 확인하는 과정에서 \"FUR_EXTEMP\" 열이 에러가 생기는 경우를 발견했다.\n",
    "- 그 이유를 확인한 결과 FUR_EXTEMP를 제거하고 그래프를 그릴 수 있었다. 해당 변수는 FUR_SZ_TEMP와 같은 분포를 그리는 것을 확인할 수 있었다.\n",
    "- 따라서 해당 추출온도 칼럼을 제거하도록 하겠다."
   ]
  },
  {
   "cell_type": "markdown",
   "metadata": {},
   "source": [
    "- p-balue를 보니 안 좋게 나오는 칼럼들이 존재해서 데이터 스케일링을 통해 주요변수를 도출해보도록 하겠다."
   ]
  },
  {
   "cell_type": "code",
   "execution_count": 52,
   "metadata": {},
   "outputs": [
    {
     "data": {
      "text/plain": [
       "Index(['SCALE', 'STEEL_KIND', 'PT_THK', 'PT_WDTH', 'PT_LTH', 'PT_WGT',\n",
       "       'FUR_HZ_TEMP', 'FUR_HZ_TIME', 'FUR_SZ_TIME', 'FUR_TIME',\n",
       "       'ROLLING_TEMP_T5', 'ROLLING_DESCALING'],\n",
       "      dtype='object')"
      ]
     },
     "execution_count": 52,
     "metadata": {},
     "output_type": "execute_result"
    }
   ],
   "source": [
    "df_raw_final.columns"
   ]
  },
  {
   "cell_type": "markdown",
   "metadata": {},
   "source": [
    "### 새로운 모델로 예측값 확인"
   ]
  },
  {
   "cell_type": "code",
   "execution_count": 57,
   "metadata": {},
   "outputs": [],
   "source": [
    "y_pred = log_result.predict(df_test)"
   ]
  },
  {
   "cell_type": "code",
   "execution_count": 58,
   "metadata": {},
   "outputs": [],
   "source": [
    "y_pred_class = (y_pred > 0.5).astype(int)"
   ]
  },
  {
   "cell_type": "code",
   "execution_count": 59,
   "metadata": {},
   "outputs": [
    {
     "data": {
      "text/plain": [
       "205"
      ]
     },
     "execution_count": 59,
     "metadata": {},
     "output_type": "execute_result"
    }
   ],
   "source": [
    "y_pred_class.count()"
   ]
  },
  {
   "cell_type": "code",
   "execution_count": 60,
   "metadata": {},
   "outputs": [
    {
     "data": {
      "text/plain": [
       "(205,)"
      ]
     },
     "execution_count": 60,
     "metadata": {},
     "output_type": "execute_result"
    }
   ],
   "source": [
    "df_test[\"SCALE\"].shape"
   ]
  },
  {
   "cell_type": "code",
   "execution_count": 61,
   "metadata": {},
   "outputs": [
    {
     "name": "stdout",
     "output_type": "stream",
     "text": [
      "Accuracy:0.868\n",
      "\n",
      "Confusion Matrix: \n",
      "[[126  11]\n",
      " [ 16  52]]\n"
     ]
    }
   ],
   "source": [
    "print(\"Accuracy:{0:.3f}\\n\".format(accuracy_score(df_test[\"SCALE\"], y_pred_class)))\n",
    "print(\"Confusion Matrix: \\n{}\".format(confusion_matrix(df_test[\"SCALE\"], y_pred_class)))"
   ]
  },
  {
   "cell_type": "markdown",
   "metadata": {},
   "source": [
    "- 예측도를 확인하기 위해서 연속형 데이터를 이산형 데이터로 만들어 목표변수와 비교할 수 있어야 한다. \n",
    "- 정확도는 86.8프로 나왔다. Confusion Matrix는 엄청 좋게 나오지는 않았지만 개선방안을 도출하기에는 로지스틱 회귀모형이 선형관계를 나타낼 수 있기에 괜찮다고 생각한다."
   ]
  },
  {
   "cell_type": "markdown",
   "metadata": {},
   "source": [
    "### 데이터 스케일링"
   ]
  },
  {
   "cell_type": "code",
   "execution_count": 62,
   "metadata": {},
   "outputs": [
    {
     "data": {
      "text/html": [
       "<div>\n",
       "<style scoped>\n",
       "    .dataframe tbody tr th:only-of-type {\n",
       "        vertical-align: middle;\n",
       "    }\n",
       "\n",
       "    .dataframe tbody tr th {\n",
       "        vertical-align: top;\n",
       "    }\n",
       "\n",
       "    .dataframe thead th {\n",
       "        text-align: right;\n",
       "    }\n",
       "</style>\n",
       "<table border=\"1\" class=\"dataframe\">\n",
       "  <thead>\n",
       "    <tr style=\"text-align: right;\">\n",
       "      <th></th>\n",
       "      <th>SCALE</th>\n",
       "      <th>PT_THK</th>\n",
       "      <th>PT_WDTH</th>\n",
       "      <th>PT_LTH</th>\n",
       "      <th>PT_WGT</th>\n",
       "      <th>FUR_HZ_TEMP</th>\n",
       "      <th>FUR_HZ_TIME</th>\n",
       "      <th>FUR_SZ_TIME</th>\n",
       "      <th>FUR_TIME</th>\n",
       "      <th>ROLLING_TEMP_T5</th>\n",
       "      <th>ROLLING_DESCALING</th>\n",
       "      <th>STEEL_KIND</th>\n",
       "    </tr>\n",
       "  </thead>\n",
       "  <tbody>\n",
       "    <tr>\n",
       "      <th>0</th>\n",
       "      <td>-0.640264</td>\n",
       "      <td>0.172128</td>\n",
       "      <td>1.750079</td>\n",
       "      <td>-1.400609</td>\n",
       "      <td>-1.103183</td>\n",
       "      <td>-0.543827</td>\n",
       "      <td>0.728494</td>\n",
       "      <td>-0.542057</td>\n",
       "      <td>-0.403553</td>\n",
       "      <td>-0.125779</td>\n",
       "      <td>-0.19688</td>\n",
       "      <td>T</td>\n",
       "    </tr>\n",
       "    <tr>\n",
       "      <th>1</th>\n",
       "      <td>-0.640264</td>\n",
       "      <td>0.172128</td>\n",
       "      <td>1.750079</td>\n",
       "      <td>-1.400609</td>\n",
       "      <td>-1.103183</td>\n",
       "      <td>-0.543827</td>\n",
       "      <td>0.888227</td>\n",
       "      <td>-0.705962</td>\n",
       "      <td>-0.381367</td>\n",
       "      <td>-0.080379</td>\n",
       "      <td>-0.19688</td>\n",
       "      <td>T</td>\n",
       "    </tr>\n",
       "    <tr>\n",
       "      <th>2</th>\n",
       "      <td>-0.640264</td>\n",
       "      <td>0.226581</td>\n",
       "      <td>1.579297</td>\n",
       "      <td>-1.104231</td>\n",
       "      <td>-0.944443</td>\n",
       "      <td>-1.265656</td>\n",
       "      <td>0.728494</td>\n",
       "      <td>-0.651327</td>\n",
       "      <td>-0.403553</td>\n",
       "      <td>-0.806785</td>\n",
       "      <td>-0.19688</td>\n",
       "      <td>T</td>\n",
       "    </tr>\n",
       "    <tr>\n",
       "      <th>3</th>\n",
       "      <td>-0.640264</td>\n",
       "      <td>0.226581</td>\n",
       "      <td>1.579297</td>\n",
       "      <td>-1.104231</td>\n",
       "      <td>-0.944443</td>\n",
       "      <td>-0.158852</td>\n",
       "      <td>0.968093</td>\n",
       "      <td>-0.296200</td>\n",
       "      <td>0.350775</td>\n",
       "      <td>-0.867319</td>\n",
       "      <td>-0.19688</td>\n",
       "      <td>T</td>\n",
       "    </tr>\n",
       "    <tr>\n",
       "      <th>4</th>\n",
       "      <td>-0.640264</td>\n",
       "      <td>0.496711</td>\n",
       "      <td>0.568192</td>\n",
       "      <td>-1.529801</td>\n",
       "      <td>-1.173511</td>\n",
       "      <td>-0.736315</td>\n",
       "      <td>1.207693</td>\n",
       "      <td>-0.842549</td>\n",
       "      <td>0.306403</td>\n",
       "      <td>-1.048921</td>\n",
       "      <td>-0.19688</td>\n",
       "      <td>T</td>\n",
       "    </tr>\n",
       "  </tbody>\n",
       "</table>\n",
       "</div>"
      ],
      "text/plain": [
       "      SCALE    PT_THK   PT_WDTH    PT_LTH    PT_WGT  FUR_HZ_TEMP  FUR_HZ_TIME  \\\n",
       "0 -0.640264  0.172128  1.750079 -1.400609 -1.103183    -0.543827     0.728494   \n",
       "1 -0.640264  0.172128  1.750079 -1.400609 -1.103183    -0.543827     0.888227   \n",
       "2 -0.640264  0.226581  1.579297 -1.104231 -0.944443    -1.265656     0.728494   \n",
       "3 -0.640264  0.226581  1.579297 -1.104231 -0.944443    -0.158852     0.968093   \n",
       "4 -0.640264  0.496711  0.568192 -1.529801 -1.173511    -0.736315     1.207693   \n",
       "\n",
       "   FUR_SZ_TIME  FUR_TIME  ROLLING_TEMP_T5  ROLLING_DESCALING STEEL_KIND  \n",
       "0    -0.542057 -0.403553        -0.125779           -0.19688          T  \n",
       "1    -0.705962 -0.381367        -0.080379           -0.19688          T  \n",
       "2    -0.651327 -0.403553        -0.806785           -0.19688          T  \n",
       "3    -0.296200  0.350775        -0.867319           -0.19688          T  \n",
       "4    -0.842549  0.306403        -1.048921           -0.19688          T  "
      ]
     },
     "execution_count": 62,
     "metadata": {},
     "output_type": "execute_result"
    }
   ],
   "source": [
    "df_char = df_raw_final.select_dtypes(include=\"object\")\n",
    "df_numeric = df_raw_final.select_dtypes(exclude=\"object\")\n",
    "\n",
    "# Data Scailing\n",
    "scaler = StandardScaler()\n",
    "np_numeric_scaled = scaler.fit_transform(df_numeric)\n",
    "df_numeric_scaled = pd.DataFrame(np_numeric_scaled, columns=df_numeric.columns)\n",
    "\n",
    "# 문자데이터 + 숫자데이터\n",
    "df_scaled = pd.concat([df_numeric_scaled, df_char], axis=1)\n",
    "df_scaled.head()"
   ]
  },
  {
   "cell_type": "code",
   "execution_count": 63,
   "metadata": {},
   "outputs": [
    {
     "data": {
      "text/html": [
       "<div>\n",
       "<style scoped>\n",
       "    .dataframe tbody tr th:only-of-type {\n",
       "        vertical-align: middle;\n",
       "    }\n",
       "\n",
       "    .dataframe tbody tr th {\n",
       "        vertical-align: top;\n",
       "    }\n",
       "\n",
       "    .dataframe thead th {\n",
       "        text-align: right;\n",
       "    }\n",
       "</style>\n",
       "<table border=\"1\" class=\"dataframe\">\n",
       "  <thead>\n",
       "    <tr style=\"text-align: right;\">\n",
       "      <th></th>\n",
       "      <th>SCALE</th>\n",
       "      <th>PT_THK</th>\n",
       "      <th>PT_WDTH</th>\n",
       "      <th>PT_LTH</th>\n",
       "      <th>PT_WGT</th>\n",
       "      <th>FUR_HZ_TEMP</th>\n",
       "      <th>FUR_HZ_TIME</th>\n",
       "      <th>FUR_SZ_TIME</th>\n",
       "      <th>FUR_TIME</th>\n",
       "      <th>ROLLING_TEMP_T5</th>\n",
       "      <th>ROLLING_DESCALING</th>\n",
       "      <th>STEEL_KIND</th>\n",
       "    </tr>\n",
       "  </thead>\n",
       "  <tbody>\n",
       "    <tr>\n",
       "      <th>0</th>\n",
       "      <td>0.0</td>\n",
       "      <td>0.172128</td>\n",
       "      <td>1.750079</td>\n",
       "      <td>-1.400609</td>\n",
       "      <td>-1.103183</td>\n",
       "      <td>-0.543827</td>\n",
       "      <td>0.728494</td>\n",
       "      <td>-0.542057</td>\n",
       "      <td>-0.403553</td>\n",
       "      <td>-0.125779</td>\n",
       "      <td>-0.19688</td>\n",
       "      <td>T</td>\n",
       "    </tr>\n",
       "    <tr>\n",
       "      <th>1</th>\n",
       "      <td>0.0</td>\n",
       "      <td>0.172128</td>\n",
       "      <td>1.750079</td>\n",
       "      <td>-1.400609</td>\n",
       "      <td>-1.103183</td>\n",
       "      <td>-0.543827</td>\n",
       "      <td>0.888227</td>\n",
       "      <td>-0.705962</td>\n",
       "      <td>-0.381367</td>\n",
       "      <td>-0.080379</td>\n",
       "      <td>-0.19688</td>\n",
       "      <td>T</td>\n",
       "    </tr>\n",
       "    <tr>\n",
       "      <th>2</th>\n",
       "      <td>0.0</td>\n",
       "      <td>0.226581</td>\n",
       "      <td>1.579297</td>\n",
       "      <td>-1.104231</td>\n",
       "      <td>-0.944443</td>\n",
       "      <td>-1.265656</td>\n",
       "      <td>0.728494</td>\n",
       "      <td>-0.651327</td>\n",
       "      <td>-0.403553</td>\n",
       "      <td>-0.806785</td>\n",
       "      <td>-0.19688</td>\n",
       "      <td>T</td>\n",
       "    </tr>\n",
       "    <tr>\n",
       "      <th>3</th>\n",
       "      <td>0.0</td>\n",
       "      <td>0.226581</td>\n",
       "      <td>1.579297</td>\n",
       "      <td>-1.104231</td>\n",
       "      <td>-0.944443</td>\n",
       "      <td>-0.158852</td>\n",
       "      <td>0.968093</td>\n",
       "      <td>-0.296200</td>\n",
       "      <td>0.350775</td>\n",
       "      <td>-0.867319</td>\n",
       "      <td>-0.19688</td>\n",
       "      <td>T</td>\n",
       "    </tr>\n",
       "    <tr>\n",
       "      <th>4</th>\n",
       "      <td>0.0</td>\n",
       "      <td>0.496711</td>\n",
       "      <td>0.568192</td>\n",
       "      <td>-1.529801</td>\n",
       "      <td>-1.173511</td>\n",
       "      <td>-0.736315</td>\n",
       "      <td>1.207693</td>\n",
       "      <td>-0.842549</td>\n",
       "      <td>0.306403</td>\n",
       "      <td>-1.048921</td>\n",
       "      <td>-0.19688</td>\n",
       "      <td>T</td>\n",
       "    </tr>\n",
       "  </tbody>\n",
       "</table>\n",
       "</div>"
      ],
      "text/plain": [
       "   SCALE    PT_THK   PT_WDTH    PT_LTH    PT_WGT  FUR_HZ_TEMP  FUR_HZ_TIME  \\\n",
       "0    0.0  0.172128  1.750079 -1.400609 -1.103183    -0.543827     0.728494   \n",
       "1    0.0  0.172128  1.750079 -1.400609 -1.103183    -0.543827     0.888227   \n",
       "2    0.0  0.226581  1.579297 -1.104231 -0.944443    -1.265656     0.728494   \n",
       "3    0.0  0.226581  1.579297 -1.104231 -0.944443    -0.158852     0.968093   \n",
       "4    0.0  0.496711  0.568192 -1.529801 -1.173511    -0.736315     1.207693   \n",
       "\n",
       "   FUR_SZ_TIME  FUR_TIME  ROLLING_TEMP_T5  ROLLING_DESCALING STEEL_KIND  \n",
       "0    -0.542057 -0.403553        -0.125779           -0.19688          T  \n",
       "1    -0.705962 -0.381367        -0.080379           -0.19688          T  \n",
       "2    -0.651327 -0.403553        -0.806785           -0.19688          T  \n",
       "3    -0.296200  0.350775        -0.867319           -0.19688          T  \n",
       "4    -0.842549  0.306403        -1.048921           -0.19688          T  "
      ]
     },
     "execution_count": 63,
     "metadata": {},
     "output_type": "execute_result"
    }
   ],
   "source": [
    "df_scaled[\"SCALE\"] = df_raw_final[\"SCALE\"]\n",
    "df_scaled.head()"
   ]
  },
  {
   "cell_type": "code",
   "execution_count": 64,
   "metadata": {},
   "outputs": [
    {
     "name": "stdout",
     "output_type": "stream",
     "text": [
      "train data size: (502, 12)\n",
      "Test data size: (216, 12)\n"
     ]
    }
   ],
   "source": [
    "# 데이터 분할\n",
    "df_scaled_train, df_scaled_test = train_test_split(df_scaled,\n",
    "                                     test_size =0.3, random_state=1234)\n",
    "print(\"train data size: {}\".format(df_scaled_train.shape))\n",
    "print(\"Test data size: {}\".format(df_scaled_test.shape))"
   ]
  },
  {
   "cell_type": "code",
   "execution_count": 66,
   "metadata": {},
   "outputs": [
    {
     "name": "stdout",
     "output_type": "stream",
     "text": [
      "Optimization terminated successfully.\n",
      "         Current function value: 0.424572\n",
      "         Iterations 8\n",
      "                           Logit Regression Results                           \n",
      "==============================================================================\n",
      "Dep. Variable:                  SCALE   No. Observations:                  447\n",
      "Model:                          Logit   Df Residuals:                      436\n",
      "Method:                           MLE   Df Model:                           10\n",
      "Date:                Mon, 08 Mar 2021   Pseudo R-squ.:                  0.3189\n",
      "Time:                        20:22:57   Log-Likelihood:                -189.78\n",
      "converged:                       True   LL-Null:                       -278.65\n",
      "Covariance Type:            nonrobust   LLR p-value:                 6.913e-33\n",
      "======================================================================================\n",
      "                         coef    std err          z      P>|z|      [0.025      0.975]\n",
      "--------------------------------------------------------------------------------------\n",
      "Intercept             -0.8880      0.285     -3.116      0.002      -1.446      -0.329\n",
      "C(STEEL_KIND)[T.T]    -2.1826      0.953     -2.289      0.022      -4.051      -0.314\n",
      "PT_THK                 0.1568      0.443      0.354      0.723      -0.712       1.025\n",
      "PT_WDTH               -0.6797      0.183     -3.710      0.000      -1.039      -0.321\n",
      "PT_LTH                 0.7325      0.307      2.385      0.017       0.131       1.334\n",
      "PT_WGT                -0.1459      0.154     -0.950      0.342      -0.447       0.155\n",
      "FUR_HZ_TEMP            0.0378      0.156      0.242      0.809      -0.268       0.343\n",
      "FUR_HZ_TIME           -0.6569      0.180     -3.655      0.000      -1.009      -0.305\n",
      "FUR_TIME              -0.0869      0.168     -0.518      0.604      -0.416       0.242\n",
      "ROLLING_TEMP_T5        0.7582      0.258      2.934      0.003       0.252       1.265\n",
      "ROLLING_DESCALING     -0.4151      0.277     -1.498      0.134      -0.958       0.128\n",
      "======================================================================================\n"
     ]
    }
   ],
   "source": [
    "scaled_log_model = Logit.from_formula(\"\"\"SCALE ~ + PT_THK \n",
    "    + PT_WDTH + PT_LTH + PT_WGT + FUR_HZ_TEMP \n",
    "    + FUR_HZ_TIME + FUR_TIME \n",
    "    + ROLLING_TEMP_T5 + ROLLING_DESCALING + C(STEEL_KIND)\"\"\", df_scaled_train)\n",
    "scaled_log_result = scaled_log_model.fit()\n",
    "print(scaled_log_result.summary())"
   ]
  },
  {
   "cell_type": "markdown",
   "metadata": {},
   "source": [
    "### 변수 중요도"
   ]
  },
  {
   "cell_type": "code",
   "execution_count": 67,
   "metadata": {},
   "outputs": [
    {
     "data": {
      "text/plain": [
       "<AxesSubplot:>"
      ]
     },
     "execution_count": 67,
     "metadata": {},
     "output_type": "execute_result"
    },
    {
     "data": {
      "image/png": "[encoded data removed]",
      "text/plain": [
       "<Figure size 432x288 with 1 Axes>"
      ]
     },
     "metadata": {
      "needs_background": "light"
     },
     "output_type": "display_data"
    }
   ],
   "source": [
    "df_log_scaled_coef = pd.DataFrame({\"Coef\": scaled_log_result.params.values[1:]},\n",
    "                                  index=scaled_log_model.exog_names[1:])\n",
    "df_log_scaled_coef.plot.barh(y=\"Coef\", legend= False)"
   ]
  },
  {
   "cell_type": "markdown",
   "metadata": {},
   "source": [
    "- 강종이 C인 경우 T보다 양품인 경우가 많이 나타나는 것으로 보인다. 해당 정보는 탐색적 분석에서 C의 자료가 T의 자료보다 많기 때문에 나오는 결과라고 생각을 한다. 불량과 양의 상관관계가 있는 인자로는 PT_LTH, ROLLING_TEMP_T5, FUR_SZ_TEMP 순이었고, 강종을 제외한 PT_THK, FUR_HZ_TIME, ROLLLING_DESCAILING 순으로 음의 상관관계가 나타났다."
   ]
  },
  {
   "cell_type": "markdown",
   "metadata": {},
   "source": [
    "- 온도와 관련된 인자로는 압연온도, 가열로 균열대 온도, 가열로 가열대 온도 등이 나왔다.\n",
    "- 플레이트와 관련된 인자로는 PT_LTH와 PT_THK가 나왔다. 압연 중 DESCAILNG 횟수의 경우 횟수가 늘어나면 불량률은 줄어드는 것으로 보인다."
   ]
  },
  {
   "cell_type": "markdown",
   "metadata": {},
   "source": [
    "# 2. 의사결정나무"
   ]
  },
  {
   "cell_type": "markdown",
   "metadata": {},
   "source": [
    "### 더미변수 생성"
   ]
  },
  {
   "cell_type": "code",
   "execution_count": 74,
   "metadata": {},
   "outputs": [
    {
     "name": "stdout",
     "output_type": "stream",
     "text": [
      "<class 'pandas.core.frame.DataFrame'>\n",
      "Int64Index: 681 entries, 0 to 719\n",
      "Data columns (total 12 columns):\n",
      " #   Column             Non-Null Count  Dtype  \n",
      "---  ------             --------------  -----  \n",
      " 0   SCALE              681 non-null    int64  \n",
      " 1   STEEL_KIND         681 non-null    object \n",
      " 2   PT_THK             681 non-null    float64\n",
      " 3   PT_WDTH            681 non-null    int64  \n",
      " 4   PT_LTH             681 non-null    int64  \n",
      " 5   PT_WGT             681 non-null    int64  \n",
      " 6   FUR_HZ_TEMP        681 non-null    int64  \n",
      " 7   FUR_HZ_TIME        681 non-null    int64  \n",
      " 8   FUR_SZ_TIME        681 non-null    int64  \n",
      " 9   FUR_TIME           681 non-null    int64  \n",
      " 10  ROLLING_TEMP_T5    681 non-null    int64  \n",
      " 11  ROLLING_DESCALING  681 non-null    int64  \n",
      "dtypes: float64(1), int64(10), object(1)\n",
      "memory usage: 89.2+ KB\n"
     ]
    }
   ],
   "source": [
    "df_raw_final.info()"
   ]
  },
  {
   "cell_type": "code",
   "execution_count": 75,
   "metadata": {},
   "outputs": [
    {
     "data": {
      "text/plain": [
       "(681, 11)"
      ]
     },
     "execution_count": 75,
     "metadata": {},
     "output_type": "execute_result"
    }
   ],
   "source": [
    "# 설명변수, 목표변수 분리(split_추후 활용)\n",
    "df_raw_y = df_raw_final[\"SCALE\"]\n",
    "df_raw_x = df_raw_final.drop([\"SCALE\"], axis=1, inplace=False)\n",
    "df_raw_x.shape"
   ]
  },
  {
   "cell_type": "code",
   "execution_count": 76,
   "metadata": {},
   "outputs": [
    {
     "data": {
      "text/plain": [
       "(681, 12)"
      ]
     },
     "execution_count": 76,
     "metadata": {},
     "output_type": "execute_result"
    }
   ],
   "source": [
    "df_raw_x_dummy = pd.get_dummies(df_raw_x)\n",
    "df_raw_x_dummy.head()\n",
    "df_raw_x_dummy.shape"
   ]
  },
  {
   "cell_type": "code",
   "execution_count": 77,
   "metadata": {},
   "outputs": [
    {
     "name": "stdout",
     "output_type": "stream",
     "text": [
      "train data X size: (476, 12)\n",
      "train data Y size: (476,)\n",
      "test data X size: (205, 12)\n",
      "test data Y size: (205,)\n"
     ]
    }
   ],
   "source": [
    "# train_test_split (7:3으로 트레인과 테스트 데이터가 나눠진다.)\n",
    "df_train_x, df_test_x, df_train_y, df_test_y = train_test_split(df_raw_x_dummy, df_raw_y, \n",
    "                                                                test_size=0.3, random_state=1234)\n",
    "print(\"train data X size: {}\".format(df_train_x.shape))\n",
    "print(\"train data Y size: {}\".format(df_train_y.shape))\n",
    "print(\"test data X size: {}\".format(df_test_x.shape))\n",
    "print(\"test data Y size: {}\".format(df_test_y.shape))"
   ]
  },
  {
   "cell_type": "code",
   "execution_count": 82,
   "metadata": {},
   "outputs": [
    {
     "name": "stdout",
     "output_type": "stream",
     "text": [
      "Accuracy on training set: 1.000\n",
      "Accuracy on test set: 0.937\n"
     ]
    }
   ],
   "source": [
    "tree_graph = DecisionTreeClassifier(random_state=1234)\n",
    "tree_graph.fit(df_train_x, df_train_y)\n",
    "\n",
    "# Train 데이터 정확도\n",
    "print(\"Accuracy on training set: {:.3f}\".format(tree_graph.score(df_train_x, df_train_y)))\n",
    "#test데이터 정확도\n",
    "print(\"Accuracy on test set: {:.3f}\".format(tree_graph.score(df_test_x, df_test_y)))"
   ]
  },
  {
   "cell_type": "code",
   "execution_count": 84,
   "metadata": {},
   "outputs": [
    {
     "name": "stdout",
     "output_type": "stream",
     "text": [
      "Accuracy:0.937\n",
      "\n",
      "Confusion Matrix: \n",
      "[[128   9]\n",
      " [  4  64]]\n"
     ]
    }
   ],
   "source": [
    "tree_pred = tree_graph.predict(df_test_x)\n",
    "\n",
    "print(\"Accuracy:{0:.3f}\\n\".format(tree_graph.score(df_test_x, df_test_y)))\n",
    "print(\"Confusion Matrix: \\n{}\".format(confusion_matrix(df_test_y, tree_pred)))"
   ]
  },
  {
   "cell_type": "markdown",
   "metadata": {},
   "source": [
    "- 정확도 96프로"
   ]
  },
  {
   "cell_type": "code",
   "execution_count": 88,
   "metadata": {},
   "outputs": [
    {
     "data": {
      "text/html": [
       "<div>\n",
       "<style scoped>\n",
       "    .dataframe tbody tr th:only-of-type {\n",
       "        vertical-align: middle;\n",
       "    }\n",
       "\n",
       "    .dataframe tbody tr th {\n",
       "        vertical-align: top;\n",
       "    }\n",
       "\n",
       "    .dataframe thead th {\n",
       "        text-align: right;\n",
       "    }\n",
       "</style>\n",
       "<table border=\"1\" class=\"dataframe\">\n",
       "  <thead>\n",
       "    <tr style=\"text-align: right;\">\n",
       "      <th></th>\n",
       "      <th>Feature</th>\n",
       "      <th>Importance</th>\n",
       "    </tr>\n",
       "  </thead>\n",
       "  <tbody>\n",
       "    <tr>\n",
       "      <th>8</th>\n",
       "      <td>ROLLING_TEMP_T5</td>\n",
       "      <td>0.852</td>\n",
       "    </tr>\n",
       "    <tr>\n",
       "      <th>4</th>\n",
       "      <td>FUR_HZ_TEMP</td>\n",
       "      <td>0.081</td>\n",
       "    </tr>\n",
       "    <tr>\n",
       "      <th>9</th>\n",
       "      <td>ROLLING_DESCALING</td>\n",
       "      <td>0.023</td>\n",
       "    </tr>\n",
       "    <tr>\n",
       "      <th>0</th>\n",
       "      <td>PT_THK</td>\n",
       "      <td>0.018</td>\n",
       "    </tr>\n",
       "    <tr>\n",
       "      <th>7</th>\n",
       "      <td>FUR_TIME</td>\n",
       "      <td>0.015</td>\n",
       "    </tr>\n",
       "    <tr>\n",
       "      <th>3</th>\n",
       "      <td>PT_WGT</td>\n",
       "      <td>0.012</td>\n",
       "    </tr>\n",
       "    <tr>\n",
       "      <th>1</th>\n",
       "      <td>PT_WDTH</td>\n",
       "      <td>0.000</td>\n",
       "    </tr>\n",
       "    <tr>\n",
       "      <th>2</th>\n",
       "      <td>PT_LTH</td>\n",
       "      <td>0.000</td>\n",
       "    </tr>\n",
       "    <tr>\n",
       "      <th>5</th>\n",
       "      <td>FUR_HZ_TIME</td>\n",
       "      <td>0.000</td>\n",
       "    </tr>\n",
       "    <tr>\n",
       "      <th>6</th>\n",
       "      <td>FUR_SZ_TIME</td>\n",
       "      <td>0.000</td>\n",
       "    </tr>\n",
       "    <tr>\n",
       "      <th>10</th>\n",
       "      <td>STEEL_KIND_C</td>\n",
       "      <td>0.000</td>\n",
       "    </tr>\n",
       "    <tr>\n",
       "      <th>11</th>\n",
       "      <td>STEEL_KIND_T</td>\n",
       "      <td>0.000</td>\n",
       "    </tr>\n",
       "  </tbody>\n",
       "</table>\n",
       "</div>"
      ],
      "text/plain": [
       "              Feature  Importance\n",
       "8     ROLLING_TEMP_T5       0.852\n",
       "4         FUR_HZ_TEMP       0.081\n",
       "9   ROLLING_DESCALING       0.023\n",
       "0              PT_THK       0.018\n",
       "7            FUR_TIME       0.015\n",
       "3              PT_WGT       0.012\n",
       "1             PT_WDTH       0.000\n",
       "2              PT_LTH       0.000\n",
       "5         FUR_HZ_TIME       0.000\n",
       "6         FUR_SZ_TIME       0.000\n",
       "10       STEEL_KIND_C       0.000\n",
       "11       STEEL_KIND_T       0.000"
      ]
     },
     "execution_count": 88,
     "metadata": {},
     "output_type": "execute_result"
    }
   ],
   "source": [
    "df_importance = pd.DataFrame()\n",
    "df_importance[\"Feature\"]=v_feature_name\n",
    "df_importance[\"Importance\"] = tree_graph.feature_importances_\n",
    "df_importance.sort_values(\"Importance\", ascending=False, inplace = True)\n",
    "df_importance.round(3)"
   ]
  },
  {
   "cell_type": "code",
   "execution_count": 89,
   "metadata": {},
   "outputs": [
    {
     "data": {
      "text/plain": [
       "Text(0, 0.5, '변수')"
      ]
     },
     "execution_count": 89,
     "metadata": {},
     "output_type": "execute_result"
    },
    {
     "data": {
      "image/png": "[encoded data removed]",
      "text/plain": [
       "<Figure size 432x288 with 1 Axes>"
      ]
     },
     "metadata": {
      "needs_background": "light"
     },
     "output_type": "display_data"
    }
   ],
   "source": [
    "df_importance.sort_values(\"Importance\", ascending= True, inplace=True)\n",
    "coordinates=range(len(df_importance))\n",
    "plt.barh(y=coordinates, width = df_importance[\"Importance\"])\n",
    "plt.yticks(coordinates, df_importance[\"Feature\"])\n",
    "plt.xlabel(\"변수 중요도\")\n",
    "plt.ylabel(\"변수\")"
   ]
  },
  {
   "cell_type": "code",
   "execution_count": 91,
   "metadata": {},
   "outputs": [
    {
     "data": {
      "image/svg+xml": [
       "<?xml version=\"1.0\" encoding=\"UTF-8\" standalone=\"no\"?>\n",
       "<!DOCTYPE svg PUBLIC \"-//W3C//DTD SVG 1.1//EN\"\n",
       " \"http://www.w3.org/Graphics/SVG/1.1/DTD/svg11.dtd\">\n",
       "<!-- Generated by graphviz version 2.40.1 (20161225.0304)\n",
       " -->\n",
       "<!-- Title: Tree Pages: 1 -->\n",
       "<svg width=\"532pt\" height=\"477pt\"\n",
       " viewBox=\"0.00 0.00 532.00 477.00\" xmlns=\"http://www.w3.org/2000/svg\" xmlns:xlink=\"http://www.w3.org/1999/xlink\">\n",
       "<g id=\"graph0\" class=\"graph\" transform=\"scale(1 1) rotate(0) translate(4 473)\">\n",
       "<title>Tree</title>\n",
       "<polygon fill=\"#ffffff\" stroke=\"transparent\" points=\"-4,4 -4,-473 528,-473 528,4 -4,4\"/>\n",
       "<!-- 0 -->\n",
       "<g id=\"node1\" class=\"node\">\n",
       "<title>0</title>\n",
       "<polygon fill=\"#efb083\" stroke=\"#000000\" points=\"437.5,-469 234.5,-469 234.5,-401 437.5,-401 437.5,-469\"/>\n",
       "<text text-anchor=\"middle\" x=\"336\" y=\"-453.8\" font-family=\"Times,serif\" font-size=\"14.00\" fill=\"#000000\">ROLLING_TEMP_T5 &lt;= 1000.5</text>\n",
       "<text text-anchor=\"middle\" x=\"336\" y=\"-438.8\" font-family=\"Times,serif\" font-size=\"14.00\" fill=\"#000000\">gini = 0.397</text>\n",
       "<text text-anchor=\"middle\" x=\"336\" y=\"-423.8\" font-family=\"Times,serif\" font-size=\"14.00\" fill=\"#000000\">samples = 476</text>\n",
       "<text text-anchor=\"middle\" x=\"336\" y=\"-408.8\" font-family=\"Times,serif\" font-size=\"14.00\" fill=\"#000000\">value = [346, 130]</text>\n",
       "</g>\n",
       "<!-- 1 -->\n",
       "<g id=\"node2\" class=\"node\">\n",
       "<title>1</title>\n",
       "<polygon fill=\"#e78c4a\" stroke=\"#000000\" points=\"344.5,-365 171.5,-365 171.5,-297 344.5,-297 344.5,-365\"/>\n",
       "<text text-anchor=\"middle\" x=\"258\" y=\"-349.8\" font-family=\"Times,serif\" font-size=\"14.00\" fill=\"#000000\">FUR_HZ_TEMP &lt;= 1192.5</text>\n",
       "<text text-anchor=\"middle\" x=\"258\" y=\"-334.8\" font-family=\"Times,serif\" font-size=\"14.00\" fill=\"#000000\">gini = 0.147</text>\n",
       "<text text-anchor=\"middle\" x=\"258\" y=\"-319.8\" font-family=\"Times,serif\" font-size=\"14.00\" fill=\"#000000\">samples = 376</text>\n",
       "<text text-anchor=\"middle\" x=\"258\" y=\"-304.8\" font-family=\"Times,serif\" font-size=\"14.00\" fill=\"#000000\">value = [346, 30]</text>\n",
       "</g>\n",
       "<!-- 0&#45;&gt;1 -->\n",
       "<g id=\"edge1\" class=\"edge\">\n",
       "<title>0&#45;&gt;1</title>\n",
       "<path fill=\"none\" stroke=\"#000000\" d=\"M310.4599,-400.9465C303.8607,-392.1475 296.6754,-382.5672 289.7995,-373.3993\"/>\n",
       "<polygon fill=\"#000000\" stroke=\"#000000\" points=\"292.3975,-371.03 283.5975,-365.13 286.7975,-375.23 292.3975,-371.03\"/>\n",
       "<text text-anchor=\"middle\" x=\"280.062\" y=\"-386.1787\" font-family=\"Times,serif\" font-size=\"14.00\" fill=\"#000000\">True</text>\n",
       "</g>\n",
       "<!-- 12 -->\n",
       "<g id=\"node13\" class=\"node\">\n",
       "<title>12</title>\n",
       "<polygon fill=\"#399de5\" stroke=\"#000000\" points=\"467.5,-357.5 362.5,-357.5 362.5,-304.5 467.5,-304.5 467.5,-357.5\"/>\n",
       "<text text-anchor=\"middle\" x=\"415\" y=\"-342.3\" font-family=\"Times,serif\" font-size=\"14.00\" fill=\"#000000\">gini = 0.0</text>\n",
       "<text text-anchor=\"middle\" x=\"415\" y=\"-327.3\" font-family=\"Times,serif\" font-size=\"14.00\" fill=\"#000000\">samples = 100</text>\n",
       "<text text-anchor=\"middle\" x=\"415\" y=\"-312.3\" font-family=\"Times,serif\" font-size=\"14.00\" fill=\"#000000\">value = [0, 100]</text>\n",
       "</g>\n",
       "<!-- 0&#45;&gt;12 -->\n",
       "<g id=\"edge12\" class=\"edge\">\n",
       "<title>0&#45;&gt;12</title>\n",
       "<path fill=\"none\" stroke=\"#000000\" d=\"M361.8676,-400.9465C370.4857,-389.6012 380.0906,-376.9567 388.7383,-365.5724\"/>\n",
       "<polygon fill=\"#000000\" stroke=\"#000000\" points=\"391.5763,-367.6224 394.8382,-357.5422 386.0021,-363.3882 391.5763,-367.6224\"/>\n",
       "<text text-anchor=\"middle\" x=\"398.222\" y=\"-378.6121\" font-family=\"Times,serif\" font-size=\"14.00\" fill=\"#000000\">False</text>\n",
       "</g>\n",
       "<!-- 2 -->\n",
       "<g id=\"node3\" class=\"node\">\n",
       "<title>2</title>\n",
       "<polygon fill=\"#e78845\" stroke=\"#000000\" points=\"267,-261 67,-261 67,-193 267,-193 267,-261\"/>\n",
       "<text text-anchor=\"middle\" x=\"167\" y=\"-245.8\" font-family=\"Times,serif\" font-size=\"14.00\" fill=\"#000000\">ROLLING_DESCALING &lt;= 5.5</text>\n",
       "<text text-anchor=\"middle\" x=\"167\" y=\"-230.8\" font-family=\"Times,serif\" font-size=\"14.00\" fill=\"#000000\">gini = 0.104</text>\n",
       "<text text-anchor=\"middle\" x=\"167\" y=\"-215.8\" font-family=\"Times,serif\" font-size=\"14.00\" fill=\"#000000\">samples = 363</text>\n",
       "<text text-anchor=\"middle\" x=\"167\" y=\"-200.8\" font-family=\"Times,serif\" font-size=\"14.00\" fill=\"#000000\">value = [343, 20]</text>\n",
       "</g>\n",
       "<!-- 1&#45;&gt;2 -->\n",
       "<g id=\"edge2\" class=\"edge\">\n",
       "<title>1&#45;&gt;2</title>\n",
       "<path fill=\"none\" stroke=\"#000000\" d=\"M228.2032,-296.9465C220.347,-287.968 211.7788,-278.1758 203.6087,-268.8385\"/>\n",
       "<polygon fill=\"#000000\" stroke=\"#000000\" points=\"206.0829,-266.351 196.8637,-261.13 200.8148,-270.9606 206.0829,-266.351\"/>\n",
       "</g>\n",
       "<!-- 7 -->\n",
       "<g id=\"node8\" class=\"node\">\n",
       "<title>7</title>\n",
       "<polygon fill=\"#74baed\" stroke=\"#000000\" points=\"413,-261 285,-261 285,-193 413,-193 413,-261\"/>\n",
       "<text text-anchor=\"middle\" x=\"349\" y=\"-245.8\" font-family=\"Times,serif\" font-size=\"14.00\" fill=\"#000000\">PT_THK &lt;= 18.365</text>\n",
       "<text text-anchor=\"middle\" x=\"349\" y=\"-230.8\" font-family=\"Times,serif\" font-size=\"14.00\" fill=\"#000000\">gini = 0.355</text>\n",
       "<text text-anchor=\"middle\" x=\"349\" y=\"-215.8\" font-family=\"Times,serif\" font-size=\"14.00\" fill=\"#000000\">samples = 13</text>\n",
       "<text text-anchor=\"middle\" x=\"349\" y=\"-200.8\" font-family=\"Times,serif\" font-size=\"14.00\" fill=\"#000000\">value = [3, 10]</text>\n",
       "</g>\n",
       "<!-- 1&#45;&gt;7 -->\n",
       "<g id=\"edge7\" class=\"edge\">\n",
       "<title>1&#45;&gt;7</title>\n",
       "<path fill=\"none\" stroke=\"#000000\" d=\"M287.7968,-296.9465C295.653,-287.968 304.2212,-278.1758 312.3913,-268.8385\"/>\n",
       "<polygon fill=\"#000000\" stroke=\"#000000\" points=\"315.1852,-270.9606 319.1363,-261.13 309.9171,-266.351 315.1852,-270.9606\"/>\n",
       "</g>\n",
       "<!-- 3 -->\n",
       "<g id=\"node4\" class=\"node\">\n",
       "<title>3</title>\n",
       "<polygon fill=\"#399de5\" stroke=\"#000000\" points=\"92,-149.5 0,-149.5 0,-96.5 92,-96.5 92,-149.5\"/>\n",
       "<text text-anchor=\"middle\" x=\"46\" y=\"-134.3\" font-family=\"Times,serif\" font-size=\"14.00\" fill=\"#000000\">gini = 0.0</text>\n",
       "<text text-anchor=\"middle\" x=\"46\" y=\"-119.3\" font-family=\"Times,serif\" font-size=\"14.00\" fill=\"#000000\">samples = 2</text>\n",
       "<text text-anchor=\"middle\" x=\"46\" y=\"-104.3\" font-family=\"Times,serif\" font-size=\"14.00\" fill=\"#000000\">value = [0, 2]</text>\n",
       "</g>\n",
       "<!-- 2&#45;&gt;3 -->\n",
       "<g id=\"edge3\" class=\"edge\">\n",
       "<title>2&#45;&gt;3</title>\n",
       "<path fill=\"none\" stroke=\"#000000\" d=\"M127.3801,-192.9465C113.6676,-181.1606 98.3239,-167.9726 84.6873,-156.2519\"/>\n",
       "<polygon fill=\"#000000\" stroke=\"#000000\" points=\"86.7459,-153.4061 76.8808,-149.5422 82.1831,-158.7147 86.7459,-153.4061\"/>\n",
       "</g>\n",
       "<!-- 4 -->\n",
       "<g id=\"node5\" class=\"node\">\n",
       "<title>4</title>\n",
       "<polygon fill=\"#e68843\" stroke=\"#000000\" points=\"248,-157 110,-157 110,-89 248,-89 248,-157\"/>\n",
       "<text text-anchor=\"middle\" x=\"179\" y=\"-141.8\" font-family=\"Times,serif\" font-size=\"14.00\" fill=\"#000000\">FUR_TIME &lt;= 226.0</text>\n",
       "<text text-anchor=\"middle\" x=\"179\" y=\"-126.8\" font-family=\"Times,serif\" font-size=\"14.00\" fill=\"#000000\">gini = 0.095</text>\n",
       "<text text-anchor=\"middle\" x=\"179\" y=\"-111.8\" font-family=\"Times,serif\" font-size=\"14.00\" fill=\"#000000\">samples = 361</text>\n",
       "<text text-anchor=\"middle\" x=\"179\" y=\"-96.8\" font-family=\"Times,serif\" font-size=\"14.00\" fill=\"#000000\">value = [343, 18]</text>\n",
       "</g>\n",
       "<!-- 2&#45;&gt;4 -->\n",
       "<g id=\"edge4\" class=\"edge\">\n",
       "<title>2&#45;&gt;4</title>\n",
       "<path fill=\"none\" stroke=\"#000000\" d=\"M170.9292,-192.9465C171.8824,-184.6863 172.9149,-175.7374 173.913,-167.0875\"/>\n",
       "<polygon fill=\"#000000\" stroke=\"#000000\" points=\"177.3925,-167.4653 175.0619,-157.13 170.4387,-166.6629 177.3925,-167.4653\"/>\n",
       "</g>\n",
       "<!-- 5 -->\n",
       "<g id=\"node6\" class=\"node\">\n",
       "<title>5</title>\n",
       "<polygon fill=\"#9ccef2\" stroke=\"#000000\" points=\"114,-53 22,-53 22,0 114,0 114,-53\"/>\n",
       "<text text-anchor=\"middle\" x=\"68\" y=\"-37.8\" font-family=\"Times,serif\" font-size=\"14.00\" fill=\"#000000\">gini = 0.444</text>\n",
       "<text text-anchor=\"middle\" x=\"68\" y=\"-22.8\" font-family=\"Times,serif\" font-size=\"14.00\" fill=\"#000000\">samples = 3</text>\n",
       "<text text-anchor=\"middle\" x=\"68\" y=\"-7.8\" font-family=\"Times,serif\" font-size=\"14.00\" fill=\"#000000\">value = [1, 2]</text>\n",
       "</g>\n",
       "<!-- 4&#45;&gt;5 -->\n",
       "<g id=\"edge5\" class=\"edge\">\n",
       "<title>4&#45;&gt;5</title>\n",
       "<path fill=\"none\" stroke=\"#000000\" d=\"M139.8656,-88.9777C129.0167,-79.546 117.2516,-69.3178 106.4426,-59.9208\"/>\n",
       "<polygon fill=\"#000000\" stroke=\"#000000\" points=\"108.6108,-57.1681 98.7677,-53.2485 104.0181,-62.4508 108.6108,-57.1681\"/>\n",
       "</g>\n",
       "<!-- 6 -->\n",
       "<g id=\"node7\" class=\"node\">\n",
       "<title>6</title>\n",
       "<polygon fill=\"#e68742\" stroke=\"#000000\" points=\"244,-53 132,-53 132,0 244,0 244,-53\"/>\n",
       "<text text-anchor=\"middle\" x=\"188\" y=\"-37.8\" font-family=\"Times,serif\" font-size=\"14.00\" fill=\"#000000\">gini = 0.085</text>\n",
       "<text text-anchor=\"middle\" x=\"188\" y=\"-22.8\" font-family=\"Times,serif\" font-size=\"14.00\" fill=\"#000000\">samples = 358</text>\n",
       "<text text-anchor=\"middle\" x=\"188\" y=\"-7.8\" font-family=\"Times,serif\" font-size=\"14.00\" fill=\"#000000\">value = [342, 16]</text>\n",
       "</g>\n",
       "<!-- 4&#45;&gt;6 -->\n",
       "<g id=\"edge6\" class=\"edge\">\n",
       "<title>4&#45;&gt;6</title>\n",
       "<path fill=\"none\" stroke=\"#000000\" d=\"M182.1731,-88.9777C182.9502,-80.6449 183.7854,-71.6903 184.5738,-63.2364\"/>\n",
       "<polygon fill=\"#000000\" stroke=\"#000000\" points=\"188.0615,-63.5303 185.5053,-53.2485 181.0917,-62.8802 188.0615,-63.5303\"/>\n",
       "</g>\n",
       "<!-- 8 -->\n",
       "<g id=\"node9\" class=\"node\">\n",
       "<title>8</title>\n",
       "<polygon fill=\"#4da7e8\" stroke=\"#000000\" points=\"413.5,-157 274.5,-157 274.5,-89 413.5,-89 413.5,-157\"/>\n",
       "<text text-anchor=\"middle\" x=\"344\" y=\"-141.8\" font-family=\"Times,serif\" font-size=\"14.00\" fill=\"#000000\">PT_WGT &lt;= 15060.0</text>\n",
       "<text text-anchor=\"middle\" x=\"344\" y=\"-126.8\" font-family=\"Times,serif\" font-size=\"14.00\" fill=\"#000000\">gini = 0.165</text>\n",
       "<text text-anchor=\"middle\" x=\"344\" y=\"-111.8\" font-family=\"Times,serif\" font-size=\"14.00\" fill=\"#000000\">samples = 11</text>\n",
       "<text text-anchor=\"middle\" x=\"344\" y=\"-96.8\" font-family=\"Times,serif\" font-size=\"14.00\" fill=\"#000000\">value = [1, 10]</text>\n",
       "</g>\n",
       "<!-- 7&#45;&gt;8 -->\n",
       "<g id=\"edge8\" class=\"edge\">\n",
       "<title>7&#45;&gt;8</title>\n",
       "<path fill=\"none\" stroke=\"#000000\" d=\"M347.3628,-192.9465C346.97,-184.776 346.5448,-175.9318 346.1332,-167.3697\"/>\n",
       "<polygon fill=\"#000000\" stroke=\"#000000\" points=\"349.6171,-166.9504 345.6409,-157.13 342.6252,-167.2866 349.6171,-166.9504\"/>\n",
       "</g>\n",
       "<!-- 11 -->\n",
       "<g id=\"node12\" class=\"node\">\n",
       "<title>11</title>\n",
       "<polygon fill=\"#e58139\" stroke=\"#000000\" points=\"524,-149.5 432,-149.5 432,-96.5 524,-96.5 524,-149.5\"/>\n",
       "<text text-anchor=\"middle\" x=\"478\" y=\"-134.3\" font-family=\"Times,serif\" font-size=\"14.00\" fill=\"#000000\">gini = 0.0</text>\n",
       "<text text-anchor=\"middle\" x=\"478\" y=\"-119.3\" font-family=\"Times,serif\" font-size=\"14.00\" fill=\"#000000\">samples = 2</text>\n",
       "<text text-anchor=\"middle\" x=\"478\" y=\"-104.3\" font-family=\"Times,serif\" font-size=\"14.00\" fill=\"#000000\">value = [2, 0]</text>\n",
       "</g>\n",
       "<!-- 7&#45;&gt;11 -->\n",
       "<g id=\"edge11\" class=\"edge\">\n",
       "<title>7&#45;&gt;11</title>\n",
       "<path fill=\"none\" stroke=\"#000000\" d=\"M391.2394,-192.9465C405.9952,-181.0504 422.5225,-167.726 437.162,-155.9237\"/>\n",
       "<polygon fill=\"#000000\" stroke=\"#000000\" points=\"439.4891,-158.5433 445.0775,-149.5422 435.0957,-153.0938 439.4891,-158.5433\"/>\n",
       "</g>\n",
       "<!-- 9 -->\n",
       "<g id=\"node10\" class=\"node\">\n",
       "<title>9</title>\n",
       "<polygon fill=\"#e58139\" stroke=\"#000000\" points=\"385,-53 293,-53 293,0 385,0 385,-53\"/>\n",
       "<text text-anchor=\"middle\" x=\"339\" y=\"-37.8\" font-family=\"Times,serif\" font-size=\"14.00\" fill=\"#000000\">gini = 0.0</text>\n",
       "<text text-anchor=\"middle\" x=\"339\" y=\"-22.8\" font-family=\"Times,serif\" font-size=\"14.00\" fill=\"#000000\">samples = 1</text>\n",
       "<text text-anchor=\"middle\" x=\"339\" y=\"-7.8\" font-family=\"Times,serif\" font-size=\"14.00\" fill=\"#000000\">value = [1, 0]</text>\n",
       "</g>\n",
       "<!-- 8&#45;&gt;9 -->\n",
       "<g id=\"edge9\" class=\"edge\">\n",
       "<title>8&#45;&gt;9</title>\n",
       "<path fill=\"none\" stroke=\"#000000\" d=\"M342.2372,-88.9777C341.8054,-80.6449 341.3415,-71.6903 340.9034,-63.2364\"/>\n",
       "<polygon fill=\"#000000\" stroke=\"#000000\" points=\"344.3988,-63.0539 340.3859,-53.2485 337.4082,-63.4162 344.3988,-63.0539\"/>\n",
       "</g>\n",
       "<!-- 10 -->\n",
       "<g id=\"node11\" class=\"node\">\n",
       "<title>10</title>\n",
       "<polygon fill=\"#399de5\" stroke=\"#000000\" points=\"501,-53 403,-53 403,0 501,0 501,-53\"/>\n",
       "<text text-anchor=\"middle\" x=\"452\" y=\"-37.8\" font-family=\"Times,serif\" font-size=\"14.00\" fill=\"#000000\">gini = 0.0</text>\n",
       "<text text-anchor=\"middle\" x=\"452\" y=\"-22.8\" font-family=\"Times,serif\" font-size=\"14.00\" fill=\"#000000\">samples = 10</text>\n",
       "<text text-anchor=\"middle\" x=\"452\" y=\"-7.8\" font-family=\"Times,serif\" font-size=\"14.00\" fill=\"#000000\">value = [0, 10]</text>\n",
       "</g>\n",
       "<!-- 8&#45;&gt;10 -->\n",
       "<g id=\"edge10\" class=\"edge\">\n",
       "<title>8&#45;&gt;10</title>\n",
       "<path fill=\"none\" stroke=\"#000000\" d=\"M382.0768,-88.9777C392.6324,-79.546 404.0796,-69.3178 414.5964,-59.9208\"/>\n",
       "<polygon fill=\"#000000\" stroke=\"#000000\" points=\"416.939,-62.5213 422.0639,-53.2485 412.2749,-57.3015 416.939,-62.5213\"/>\n",
       "</g>\n",
       "</g>\n",
       "</svg>\n"
      ],
      "text/plain": [
       "<graphviz.files.Source at 0x7f0987686100>"
      ]
     },
     "metadata": {},
     "output_type": "display_data"
    }
   ],
   "source": [
    "v_feature_name = df_train_x.columns\n",
    "\n",
    "# 분리노드의 최소 자료수 설정\n",
    "tree_graph = DecisionTreeClassifier(max_depth=4, random_state=1234)\n",
    "tree_graph.fit(df_train_x, df_train_y)\n",
    "\n",
    "## Tree 구조 생성 및 저장: 모델 시각화\n",
    "export_graphviz(tree_graph, out_file = \"tree_leaf.dot\", feature_names = v_feature_name,\n",
    "                impurity=True, filled = True) # filled 색으로 영향력 표시\n",
    "\n",
    "with open(\"tree_leaf.dot\") as f:\n",
    "    dot_graph = f.read()\n",
    "display(graphviz.Source(dot_graph))"
   ]
  },
  {
   "cell_type": "markdown",
   "metadata": {},
   "source": [
    "- ROLLING_TEMP_T5(압연온도), FUR_SZ_TEMP(가열로 균열대 온도), ROLLINT_DESCAILING, FUR_TIME 순으로 중요도가 나왔다.\n",
    "\n",
    "- ROLLING_TEMP_T5가 1000.5보다 클 경우 모두 불량으로 나왔다.\n",
    "- ROLLING_TEMP_T5가 1000.5보다 작은 경우  FUR_HZ_TEMP로 새로 분류를 진행한다.\n",
    "\n",
    "- FUR_HZ_TEMP가 1192.5이하일 때는 ROLLIN_DESCALING으로, 이상일 때는 PT_THK로 데이터를 분류한다.\n",
    "\n",
    "- 다음으로 ROLLING_DESCAILING이 5.5이상과 이하로 데이터를 추가 분류한다.\n"
   ]
  },
  {
   "cell_type": "markdown",
   "metadata": {},
   "source": [
    "# 3. 랜덤포레스트"
   ]
  },
  {
   "cell_type": "code",
   "execution_count": 92,
   "metadata": {},
   "outputs": [
    {
     "name": "stdout",
     "output_type": "stream",
     "text": [
      "Accuracy on training set: 1.000\n",
      "Accuracy on test set: 0.937\n",
      "Comfusion Matrix: \n",
      "[[136   1]\n",
      " [ 12  56]]\n"
     ]
    }
   ],
   "source": [
    "rf_uncustomized = RandomForestClassifier(random_state=1234)\n",
    "rf_uncustomized.fit(df_train_x, df_train_y)\n",
    "\n",
    "rf_pred = rf_uncustomized.predict(df_test_x)\n",
    "\n",
    "# Train 데이터 정확도\n",
    "print(\"Accuracy on training set: {:.3f}\".format(rf_uncustomized.score(df_train_x, df_train_y)))\n",
    "\n",
    "#test데이터 정확도\n",
    "print(\"Accuracy on test set: {:.3f}\".format(rf_uncustomized.score(df_test_x, df_test_y)))\n",
    "# confusion Matrix\n",
    "print(\"Comfusion Matrix: \\n{}\".format(confusion_matrix(df_test_y, rf_pred)))"
   ]
  },
  {
   "cell_type": "markdown",
   "metadata": {},
   "source": [
    "### 중요도"
   ]
  },
  {
   "cell_type": "code",
   "execution_count": 93,
   "metadata": {},
   "outputs": [
    {
     "data": {
      "text/html": [
       "<div>\n",
       "<style scoped>\n",
       "    .dataframe tbody tr th:only-of-type {\n",
       "        vertical-align: middle;\n",
       "    }\n",
       "\n",
       "    .dataframe tbody tr th {\n",
       "        vertical-align: top;\n",
       "    }\n",
       "\n",
       "    .dataframe thead th {\n",
       "        text-align: right;\n",
       "    }\n",
       "</style>\n",
       "<table border=\"1\" class=\"dataframe\">\n",
       "  <thead>\n",
       "    <tr style=\"text-align: right;\">\n",
       "      <th></th>\n",
       "      <th>Feature</th>\n",
       "      <th>Importance</th>\n",
       "    </tr>\n",
       "  </thead>\n",
       "  <tbody>\n",
       "    <tr>\n",
       "      <th>8</th>\n",
       "      <td>ROLLING_TEMP_T5</td>\n",
       "      <td>0.459</td>\n",
       "    </tr>\n",
       "    <tr>\n",
       "      <th>9</th>\n",
       "      <td>ROLLING_DESCALING</td>\n",
       "      <td>0.093</td>\n",
       "    </tr>\n",
       "    <tr>\n",
       "      <th>1</th>\n",
       "      <td>PT_WDTH</td>\n",
       "      <td>0.071</td>\n",
       "    </tr>\n",
       "    <tr>\n",
       "      <th>0</th>\n",
       "      <td>PT_THK</td>\n",
       "      <td>0.070</td>\n",
       "    </tr>\n",
       "    <tr>\n",
       "      <th>4</th>\n",
       "      <td>FUR_HZ_TEMP</td>\n",
       "      <td>0.064</td>\n",
       "    </tr>\n",
       "    <tr>\n",
       "      <th>2</th>\n",
       "      <td>PT_LTH</td>\n",
       "      <td>0.047</td>\n",
       "    </tr>\n",
       "    <tr>\n",
       "      <th>11</th>\n",
       "      <td>STEEL_KIND_T</td>\n",
       "      <td>0.046</td>\n",
       "    </tr>\n",
       "    <tr>\n",
       "      <th>3</th>\n",
       "      <td>PT_WGT</td>\n",
       "      <td>0.034</td>\n",
       "    </tr>\n",
       "    <tr>\n",
       "      <th>7</th>\n",
       "      <td>FUR_TIME</td>\n",
       "      <td>0.033</td>\n",
       "    </tr>\n",
       "    <tr>\n",
       "      <th>6</th>\n",
       "      <td>FUR_SZ_TIME</td>\n",
       "      <td>0.029</td>\n",
       "    </tr>\n",
       "    <tr>\n",
       "      <th>10</th>\n",
       "      <td>STEEL_KIND_C</td>\n",
       "      <td>0.027</td>\n",
       "    </tr>\n",
       "    <tr>\n",
       "      <th>5</th>\n",
       "      <td>FUR_HZ_TIME</td>\n",
       "      <td>0.027</td>\n",
       "    </tr>\n",
       "  </tbody>\n",
       "</table>\n",
       "</div>"
      ],
      "text/plain": [
       "              Feature  Importance\n",
       "8     ROLLING_TEMP_T5       0.459\n",
       "9   ROLLING_DESCALING       0.093\n",
       "1             PT_WDTH       0.071\n",
       "0              PT_THK       0.070\n",
       "4         FUR_HZ_TEMP       0.064\n",
       "2              PT_LTH       0.047\n",
       "11       STEEL_KIND_T       0.046\n",
       "3              PT_WGT       0.034\n",
       "7            FUR_TIME       0.033\n",
       "6         FUR_SZ_TIME       0.029\n",
       "10       STEEL_KIND_C       0.027\n",
       "5         FUR_HZ_TIME       0.027"
      ]
     },
     "execution_count": 93,
     "metadata": {},
     "output_type": "execute_result"
    }
   ],
   "source": [
    "v_feature_name = df_train_x.columns\n",
    "\n",
    "df_importance = pd.DataFrame()\n",
    "df_importance[\"Feature\"]=v_feature_name\n",
    "df_importance[\"Importance\"] = rf_uncustomized.feature_importances_\n",
    "\n",
    "df_importance.sort_values(\"Importance\", ascending=False, inplace = True)\n",
    "df_importance.round(3)"
   ]
  },
  {
   "cell_type": "code",
   "execution_count": 94,
   "metadata": {
    "scrolled": true
   },
   "outputs": [
    {
     "data": {
      "text/plain": [
       "Text(0, 0.5, '변수')"
      ]
     },
     "execution_count": 94,
     "metadata": {},
     "output_type": "execute_result"
    },
    {
     "data": {
      "image/png": "[encoded data removed]",
      "text/plain": [
       "<Figure size 432x288 with 1 Axes>"
      ]
     },
     "metadata": {
      "needs_background": "light"
     },
     "output_type": "display_data"
    }
   ],
   "source": [
    "df_importance.sort_values(\"Importance\", ascending= True, inplace=True)\n",
    "coordinates=range(len(df_importance))\n",
    "plt.barh(y=coordinates, width = df_importance[\"Importance\"])\n",
    "plt.yticks(coordinates, df_importance[\"Feature\"])\n",
    "plt.xlabel(\"변수 중요도\")\n",
    "plt.ylabel(\"변수\")"
   ]
  },
  {
   "cell_type": "markdown",
   "metadata": {},
   "source": [
    "# 4. 그레디언트 부스팅"
   ]
  },
  {
   "cell_type": "code",
   "execution_count": 95,
   "metadata": {},
   "outputs": [
    {
     "name": "stdout",
     "output_type": "stream",
     "text": [
      "Accuracy on training set: 1.000\n",
      "Accuracy on test set: 0.985\n",
      "Comfusion Matrix: \n",
      "[[136   1]\n",
      " [ 12  56]]\n"
     ]
    }
   ],
   "source": [
    "gb_uncustomized = GradientBoostingClassifier(random_state=1234)\n",
    "gb_uncustomized.fit(df_train_x, df_train_y)\n",
    "\n",
    "gb_pred = rf_uncustomized.predict(df_test_x)\n",
    "\n",
    "# Train 데이터 정확도\n",
    "print(\"Accuracy on training set: {:.3f}\".format(gb_uncustomized.score(df_train_x, df_train_y)))\n",
    "\n",
    "#test데이터 정확\n",
    "print(\"Accuracy on test set: {:.3f}\".format(gb_uncustomized.score(df_test_x, df_test_y)))\n",
    "\n",
    "# confusion Matrix\n",
    "print(\"Comfusion Matrix: \\n{}\".format(confusion_matrix(df_test_y, gb_pred)))"
   ]
  },
  {
   "cell_type": "markdown",
   "metadata": {},
   "source": [
    "- 테스트 데이터 99.5프로"
   ]
  },
  {
   "cell_type": "markdown",
   "metadata": {},
   "source": [
    "### 중요도"
   ]
  },
  {
   "cell_type": "code",
   "execution_count": 97,
   "metadata": {},
   "outputs": [
    {
     "data": {
      "text/html": [
       "<div>\n",
       "<style scoped>\n",
       "    .dataframe tbody tr th:only-of-type {\n",
       "        vertical-align: middle;\n",
       "    }\n",
       "\n",
       "    .dataframe tbody tr th {\n",
       "        vertical-align: top;\n",
       "    }\n",
       "\n",
       "    .dataframe thead th {\n",
       "        text-align: right;\n",
       "    }\n",
       "</style>\n",
       "<table border=\"1\" class=\"dataframe\">\n",
       "  <thead>\n",
       "    <tr style=\"text-align: right;\">\n",
       "      <th></th>\n",
       "      <th>Feature</th>\n",
       "      <th>Importance</th>\n",
       "    </tr>\n",
       "  </thead>\n",
       "  <tbody>\n",
       "    <tr>\n",
       "      <th>8</th>\n",
       "      <td>ROLLING_TEMP_T5</td>\n",
       "      <td>0.735</td>\n",
       "    </tr>\n",
       "    <tr>\n",
       "      <th>4</th>\n",
       "      <td>FUR_HZ_TEMP</td>\n",
       "      <td>0.082</td>\n",
       "    </tr>\n",
       "    <tr>\n",
       "      <th>0</th>\n",
       "      <td>PT_THK</td>\n",
       "      <td>0.061</td>\n",
       "    </tr>\n",
       "    <tr>\n",
       "      <th>9</th>\n",
       "      <td>ROLLING_DESCALING</td>\n",
       "      <td>0.053</td>\n",
       "    </tr>\n",
       "    <tr>\n",
       "      <th>1</th>\n",
       "      <td>PT_WDTH</td>\n",
       "      <td>0.019</td>\n",
       "    </tr>\n",
       "    <tr>\n",
       "      <th>7</th>\n",
       "      <td>FUR_TIME</td>\n",
       "      <td>0.019</td>\n",
       "    </tr>\n",
       "    <tr>\n",
       "      <th>3</th>\n",
       "      <td>PT_WGT</td>\n",
       "      <td>0.013</td>\n",
       "    </tr>\n",
       "    <tr>\n",
       "      <th>6</th>\n",
       "      <td>FUR_SZ_TIME</td>\n",
       "      <td>0.008</td>\n",
       "    </tr>\n",
       "    <tr>\n",
       "      <th>2</th>\n",
       "      <td>PT_LTH</td>\n",
       "      <td>0.007</td>\n",
       "    </tr>\n",
       "    <tr>\n",
       "      <th>5</th>\n",
       "      <td>FUR_HZ_TIME</td>\n",
       "      <td>0.003</td>\n",
       "    </tr>\n",
       "    <tr>\n",
       "      <th>10</th>\n",
       "      <td>STEEL_KIND_C</td>\n",
       "      <td>0.000</td>\n",
       "    </tr>\n",
       "    <tr>\n",
       "      <th>11</th>\n",
       "      <td>STEEL_KIND_T</td>\n",
       "      <td>0.000</td>\n",
       "    </tr>\n",
       "  </tbody>\n",
       "</table>\n",
       "</div>"
      ],
      "text/plain": [
       "              Feature  Importance\n",
       "8     ROLLING_TEMP_T5       0.735\n",
       "4         FUR_HZ_TEMP       0.082\n",
       "0              PT_THK       0.061\n",
       "9   ROLLING_DESCALING       0.053\n",
       "1             PT_WDTH       0.019\n",
       "7            FUR_TIME       0.019\n",
       "3              PT_WGT       0.013\n",
       "6         FUR_SZ_TIME       0.008\n",
       "2              PT_LTH       0.007\n",
       "5         FUR_HZ_TIME       0.003\n",
       "10       STEEL_KIND_C       0.000\n",
       "11       STEEL_KIND_T       0.000"
      ]
     },
     "execution_count": 97,
     "metadata": {},
     "output_type": "execute_result"
    }
   ],
   "source": [
    "v_feature_name = df_train_x.columns\n",
    "\n",
    "df_importance = pd.DataFrame()\n",
    "df_importance[\"Feature\"]=v_feature_name\n",
    "df_importance[\"Importance\"] = gb_uncustomized.feature_importances_\n",
    "\n",
    "df_importance.sort_values(\"Importance\", ascending=False, inplace = True)\n",
    "df_importance.round(3)"
   ]
  },
  {
   "cell_type": "code",
   "execution_count": 98,
   "metadata": {},
   "outputs": [
    {
     "data": {
      "text/plain": [
       "Text(0, 0.5, '변수')"
      ]
     },
     "execution_count": 98,
     "metadata": {},
     "output_type": "execute_result"
    },
    {
     "data": {
      "image/png": "[encoded data removed]",
      "text/plain": [
       "<Figure size 432x288 with 1 Axes>"
      ]
     },
     "metadata": {
      "needs_background": "light"
     },
     "output_type": "display_data"
    }
   ],
   "source": [
    "df_importance.sort_values(\"Importance\", ascending= True, inplace=True)\n",
    "coordinates=range(len(df_importance))\n",
    "plt.barh(y=coordinates, width = df_importance[\"Importance\"])\n",
    "plt.yticks(coordinates, df_importance[\"Feature\"])\n",
    "plt.xlabel(\"변수 중요도\")\n",
    "plt.ylabel(\"변수\")"
   ]
  },
  {
   "cell_type": "markdown",
   "metadata": {},
   "source": [
    "## 5. 정확도 및 Confusion Matrix"
   ]
  },
  {
   "cell_type": "code",
   "execution_count": 99,
   "metadata": {},
   "outputs": [
    {
     "name": "stdout",
     "output_type": "stream",
     "text": [
      "Accuracy:0.868\n",
      "\n",
      "Confusion Matrix: \n",
      "[[126  11]\n",
      " [ 16  52]]\n"
     ]
    }
   ],
   "source": [
    "# 로지스틱 회귀분석\n",
    "print(\"Accuracy:{0:.3f}\\n\".format(accuracy_score(df_test[\"SCALE\"], y_pred_class)))\n",
    "print(\"Confusion Matrix: \\n{}\".format(confusion_matrix(df_test[\"SCALE\"], y_pred_class)))"
   ]
  },
  {
   "cell_type": "code",
   "execution_count": 100,
   "metadata": {},
   "outputs": [
    {
     "name": "stdout",
     "output_type": "stream",
     "text": [
      "Accuracy:0.956\n",
      "\n",
      "Confusion Matrix: \n",
      "[[128   9]\n",
      " [  4  64]]\n"
     ]
    }
   ],
   "source": [
    "# 의사결정나무\n",
    "print(\"Accuracy:{0:.3f}\\n\".format(tree_graph.score(df_test_x, df_test_y)))\n",
    "print(\"Confusion Matrix: \\n{}\".format(confusion_matrix(df_test_y, tree_pred)))"
   ]
  },
  {
   "cell_type": "code",
   "execution_count": 101,
   "metadata": {},
   "outputs": [
    {
     "name": "stdout",
     "output_type": "stream",
     "text": [
      "Accuracy on test set: 0.937\n",
      "Comfusion Matrix: \n",
      "[[136   1]\n",
      " [ 12  56]]\n"
     ]
    }
   ],
   "source": [
    "# 랜덤포레스트\n",
    "\n",
    "print(\"Accuracy on test set: {:.3f}\".format(rf_uncustomized.score(df_test_x, df_test_y)))\n",
    "print(\"Comfusion Matrix: \\n{}\".format(confusion_matrix(df_test_y, rf_pred)))"
   ]
  },
  {
   "cell_type": "code",
   "execution_count": 102,
   "metadata": {},
   "outputs": [
    {
     "name": "stdout",
     "output_type": "stream",
     "text": [
      "Accuracy on test set: 0.985\n",
      "Comfusion Matrix: \n",
      "[[136   1]\n",
      " [ 12  56]]\n"
     ]
    }
   ],
   "source": [
    "# 그레디언트 부스팅\n",
    "print(\"Accuracy on test set: {:.3f}\".format(gb_uncustomized.score(df_test_x, df_test_y)))\n",
    "print(\"Comfusion Matrix: \\n{}\".format(confusion_matrix(df_test_y, gb_pred)))"
   ]
  },
  {
   "cell_type": "markdown",
   "metadata": {},
   "source": [
    "- 정확도를 비교해보면 그레디언트 부스팅의 성능이 가장 좋아 보이지만 Confusion Matrix의 결과는 유사하며, Tree를 통해 개선방안을 도출하기 용이하므로  최종 결론을 정리함에 있어서는 의사결정 나무를 활용하겠다."
   ]
  },
  {
   "cell_type": "code",
   "execution_count": null,
   "metadata": {},
   "outputs": [],
   "source": [
    "-"
   ]
  }
 ],
 "metadata": {
  "kernelspec": {
   "display_name": "Python 3",
   "language": "python",
   "name": "python3"
  },
  "language_info": {
   "codemirror_mode": {
    "name": "ipython",
    "version": 3
   },
   "file_extension": ".py",
   "mimetype": "text/x-python",
   "name": "python",
   "nbconvert_exporter": "python",
   "pygments_lexer": "ipython3",
   "version": "3.8.5"
  }
 },
 "nbformat": 4,
 "nbformat_minor": 4
}
