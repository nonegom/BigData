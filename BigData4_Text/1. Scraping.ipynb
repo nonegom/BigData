{
 "cells": [
  {
   "cell_type": "code",
   "execution_count": 1,
   "metadata": {},
   "outputs": [],
   "source": [
    "from bs4 import BeautifulSoup\n",
    "\n",
    "html = \"\"\"\n",
    "<ul> \n",
    "    <li>1교시</li>\n",
    "    <li>2교시</li>\n",
    "</ul>\n",
    "<ol> \n",
    "    <li>3교시</li>\n",
    "    <li>4교시</li>\n",
    "</ol>\n",
    "\"\"\"\n",
    "\n",
    "soup = BeautifulSoup(html, \"html5lib\")\n",
    "ls = soup.select(\"ol li\")"
   ]
  },
  {
   "cell_type": "code",
   "execution_count": 2,
   "metadata": {},
   "outputs": [
    {
     "data": {
      "text/plain": [
       "[<li>3교시</li>, <li>4교시</li>]"
      ]
     },
     "execution_count": 2,
     "metadata": {},
     "output_type": "execute_result"
    }
   ],
   "source": [
    "ls"
   ]
  },
  {
   "cell_type": "code",
   "execution_count": 22,
   "metadata": {},
   "outputs": [
    {
     "name": "stdout",
     "output_type": "stream",
     "text": [
      " 매출액 \n",
      " 100 \n",
      " 200 \n"
     ]
    }
   ],
   "source": [
    "html = \"\"\"\n",
    "<table>\n",
    "    <thead>\n",
    "        <tr>\n",
    "            <th> 재무정보 </th>\n",
    "            <th> 2018 </th>\n",
    "            <th> 2019 </th>\n",
    "        </tr>\n",
    "    </thead>\n",
    "    <tbody>\n",
    "        <tr>\n",
    "            <td> 매출액 </td>\n",
    "            <td> 100 </td>\n",
    "            <td> 200 </td>\n",
    "        </tr>  \n",
    "    </body>\n",
    "</table>\n",
    "\"\"\"\n",
    "soup = BeautifulSoup(html, \"html5lib\")\n",
    "soup_ls = soup.select(\"table tbody tr td\")\n",
    "# 텍스트 메소드를 통해 태그를 제거해줘야 한다.\n",
    "for word_text in soup_ls:\n",
    "    print(word_text.text)"
   ]
  },
  {
   "cell_type": "markdown",
   "metadata": {},
   "source": [
    "### nth-chind, nth-of-type\n",
    "- 최신 뷰티풀 숲에서는 nth-of-type로 대체해서 이용한다."
   ]
  },
  {
   "cell_type": "code",
   "execution_count": 32,
   "metadata": {},
   "outputs": [
    {
     "name": "stdout",
     "output_type": "stream",
     "text": [
      "[<td> 100 </td>]\n",
      "<td> 100 </td>\n",
      " 100 \n",
      "100\n"
     ]
    }
   ],
   "source": [
    "soup = BeautifulSoup(html, \"html5lib\")\n",
    "soup_ls = soup.select(\"table tbody tr td:nth-of-type(2)\")\n",
    "print(soup_ls)\n",
    "print(soup_ls[0])\n",
    "print(soup_ls[0].text)\n",
    "print(soup_ls[0].text.strip()) # strip(앞뒤 공백 제거 후 데이터만 추출[기억])"
   ]
  },
  {
   "cell_type": "code",
   "execution_count": 37,
   "metadata": {},
   "outputs": [
    {
     "name": "stdout",
     "output_type": "stream",
     "text": [
      "죠스바\n"
     ]
    }
   ],
   "source": [
    "html = \"\"\"\n",
    "<div>\n",
    "  <div class=\"snack\">\n",
    "    <div id=\"first\"> 양파링 </div>\n",
    "    <div id=\"second\"> 새우깡 </div>\n",
    "  </div>\n",
    "  <div class=\"icecream\">\n",
    "    <div> 빵빠레 </div>\n",
    "    <div> 죠스바 </div>\n",
    "  </div>\n",
    "</div>\n",
    "\"\"\"\n",
    "\n",
    "soup = BeautifulSoup(html, \"html5lib\")\n",
    "soup_ls = soup.select(\".icecream > div:nth-of-type(2)\")\n",
    "print(soup_ls[0].text.strip())"
   ]
  },
  {
   "cell_type": "code",
   "execution_count": 39,
   "metadata": {},
   "outputs": [
    {
     "name": "stdout",
     "output_type": "stream",
     "text": [
      "새우깡\n"
     ]
    }
   ],
   "source": [
    "soup = BeautifulSoup(html, \"html5lib\")\n",
    "soup_ls = soup.select(\"#second\")\n",
    "print(soup_ls[0].text.strip())"
   ]
  },
  {
   "cell_type": "code",
   "execution_count": null,
   "metadata": {},
   "outputs": [],
   "source": [
    "soup = BeautifulSoup(html, \"html5lib\")\n",
    "soup_ls = soup.select(\".icecream > div:nth-of-type(2)\")\n",
    "print(soup_ls[0].text.strip())"
   ]
  },
  {
   "cell_type": "markdown",
   "metadata": {},
   "source": [
    "## REQUEST\n",
    "### URL 링크 가져오기"
   ]
  },
  {
   "cell_type": "code",
   "execution_count": 52,
   "metadata": {},
   "outputs": [
    {
     "name": "stdout",
     "output_type": "stream",
     "text": [
      "비상체제 머리맞댄 고검장들...검찰 반발 확산 도화선될까\n",
      "기업 부도났는데…내 연말정산 환급금은?[Q&A]\n",
      "[단독] ‘사법 행정권 남용’ 연루 이민걸·이규진 판사 선고 23일로 또 연기\n",
      "\"말 못하는 아이가 살려달라 했다\" 학대 피해부모 청와대 청원\n",
      "남구준 국가수사본부장 \"LH 투기 의혹 검찰에 맡겨야? 동의하기 어렵다\"\n"
     ]
    }
   ],
   "source": [
    "import requests\n",
    "from bs4 import BeautifulSoup\n",
    "\n",
    "# html 페이지 가져오기\n",
    "headers = {\"User-Agent\":\"\"} # 크롤링 방지하는 사이트에서 User-Agent 확인을 위해 headers 설정\n",
    "url = \"https://news.naver.com/\"\n",
    "html = requests.get(url, headers = headers)\n",
    "html = html.text\n",
    "\n",
    "soup = BeautifulSoup(html, \"html5lib\")\n",
    "elements = soup.select(\"div.hdline_article_tit > a\")\n",
    "\n",
    "for word_list in elements:\n",
    "    print(word_list.text.strip())"
   ]
  },
  {
   "cell_type": "markdown",
   "metadata": {},
   "source": [
    "### 네이버 영화리뷰 댓글 4개 제목 스크래핑"
   ]
  },
  {
   "cell_type": "code",
   "execution_count": 68,
   "metadata": {},
   "outputs": [
    {
     "name": "stdout",
     "output_type": "stream",
     "text": [
      "<强재미!> 캐스팅 자체가 미친 영화! [배우중심 Charley 무비] 닥터 두리틀\n",
      "2019년 5월 26일 첫 리뷰\n",
      "톰이랑 로다주!!!\n",
      "영화 <닥터 두리틀> 후기-표지는 예쁜 동화\n"
     ]
    }
   ],
   "source": [
    "import requests\n",
    "from bs4 import BeautifulSoup\n",
    "\n",
    "headers = {\"User-Agent\":\"\"} # 크롤링 방지하는 사이트에서 User-Agent 확인을 위해 headers 설정\n",
    "url = \"https://movie.naver.com/movie/bi/mi/review.nhn?code=159866\"\n",
    "html = requests.get(url, headers=headers)\n",
    "movie_html = html.text\n",
    "\n",
    "soup = BeautifulSoup(movie_html, \"html5lib\")\n",
    "elements = soup.select(\"#reviewTab > div > div > ul  li  a  strong\")\n",
    "\n",
    "for word_list in elements[:4]:\n",
    "    print(word_list.text.strip())\n"
   ]
  },
  {
   "cell_type": "markdown",
   "metadata": {},
   "source": [
    "### 종목 토론실 5개 제"
   ]
  },
  {
   "cell_type": "code",
   "execution_count": 120,
   "metadata": {},
   "outputs": [
    {
     "name": "stdout",
     "output_type": "stream",
     "text": [
      "['엘에치 로 씨끄러운데', '상해증시-1.78%', '모간형!', '질질새네 ㅋㅋㅋ', '왐마...']\n"
     ]
    }
   ],
   "source": [
    "import requests\n",
    "from bs4 import BeautifulSoup\n",
    "\n",
    "headers = {\"User-Agent\":\"Mozilla/5.0 (X11; Linux x86_64) AppleWebKit/537.36 (KHTML, like Gecko) Chrome/86.0.4240.198 Whale/2.9.115.7 Safari/537.36\"} # 크롤링 방지하는 사이트에서 User-Agent 확인을 위해 headers 설정\n",
    "url = \"https://finance.naver.com/item/board.nhn?code=005490\"\n",
    "html = requests.get(url, headers=headers)\n",
    "finance_html = html.text\n",
    "finance_html\n",
    "\n",
    "soup = BeautifulSoup(finance_html, \"html5lib\")\n",
    "# elements = soup.select(\"#content > div.section.inner_sub > table.type2 > tbody .title\")\n",
    "elements = soup.find_all(\"td\", {\"class\":\"title\"})\n",
    "posco = []\n",
    "for word_list in elements[:5]:\n",
    "    posco.append(word_list.find(\"a\")[\"title\"].strip())\n",
    "print(posco)"
   ]
  },
  {
   "cell_type": "markdown",
   "metadata": {},
   "source": [
    "### 포스코 PER, PBR을 스크래핑하고 출력"
   ]
  },
  {
   "cell_type": "code",
   "execution_count": 98,
   "metadata": {},
   "outputs": [
    {
     "name": "stdout",
     "output_type": "stream",
     "text": [
      "29.45\n",
      "∞\n"
     ]
    }
   ],
   "source": [
    "import requests\n",
    "from bs4 import BeautifulSoup\n",
    "\n",
    "# 임시 user-agent 작성해서 사용\n",
    "headers = {\"User-Agent\": \"Mozilla/5.0 (Windows NT 10.0; Win64; x64)AppleWebKit/537.36 (KHTML, like Gecko) Chrome/73.0.3683.86 Safari/537.36\"}\n",
    "url = \"https://finance.naver.com/item/board.nhn?code=005490\"\n",
    "html = requests.get(url, headers = headers).text\n",
    "\n",
    "soup = BeautifulSoup(html,\"html5lib\") \n",
    "\n",
    "elements_per = soup.select(\"em#_per\")\n",
    "elements_pbr = soup.select(\"em#_pbr\")\n",
    "\n",
    "print(elements_per[0].text.strip())\n",
    "print(elements_pbr[0].text.strip())"
   ]
  },
  {
   "cell_type": "code",
   "execution_count": 103,
   "metadata": {},
   "outputs": [
    {
     "data": {
      "text/plain": [
       "[<em id=\"_pbr\">∞</em>]"
      ]
     },
     "execution_count": 103,
     "metadata": {},
     "output_type": "execute_result"
    }
   ],
   "source": [
    "elements_pbr"
   ]
  }
 ],
 "metadata": {
  "kernelspec": {
   "display_name": "Python 3",
   "language": "python",
   "name": "python3"
  },
  "language_info": {
   "codemirror_mode": {
    "name": "ipython",
    "version": 3
   },
   "file_extension": ".py",
   "mimetype": "text/x-python",
   "name": "python",
   "nbconvert_exporter": "python",
   "pygments_lexer": "ipython3",
   "version": "3.8.5"
  }
 },
 "nbformat": 4,
 "nbformat_minor": 4
}
