{
 "cells": [
  {
   "cell_type": "code",
   "execution_count": 38,
   "metadata": {},
   "outputs": [],
   "source": [
    "from bs4 import BeautifulSoup\n",
    "from selenium import webdriver\n",
    "import time"
   ]
  },
  {
   "cell_type": "markdown",
   "metadata": {},
   "source": [
    "### 사이트 버튼 클릭하기"
   ]
  },
  {
   "cell_type": "code",
   "execution_count": 15,
   "metadata": {},
   "outputs": [],
   "source": [
    "driver = webdriver.Chrome(\"/home/piai/chromedriver\")\n",
    "driver.get(\"https://www.naver.com\")\n",
    "selector = \"#NM_FAVORITE > div.group_nav > ul.list_nav.NM_FAVORITE_LIST > li:nth-child(1) > a\"\n",
    "ui = driver.find_element_by_css_selector(selector)\n",
    "ui.click()"
   ]
  },
  {
   "cell_type": "code",
   "execution_count": 19,
   "metadata": {},
   "outputs": [],
   "source": [
    "driver = webdriver.Chrome(\"/home/piai/chromedriver\")\n",
    "driver.get(\"https://www.naver.com\")\n",
    "selector = \"#NM_FAVORITE > div.group_nav > ul.list_nav.NM_FAVORITE_LIST > li:nth-child(9) > a\"\n",
    "driver.find_element_by_css_selector(selector).click()"
   ]
  },
  {
   "cell_type": "markdown",
   "metadata": {},
   "source": [
    "### 검색하기"
   ]
  },
  {
   "cell_type": "code",
   "execution_count": 25,
   "metadata": {},
   "outputs": [],
   "source": [
    "driver = webdriver.Chrome(\"/home/piai/chromedriver\")\n",
    "driver.get(\"https://www.naver.com\")\n",
    "driver.find_element_by_css_selector(\"#query\").send_keys(\"방탄소년단\")\n",
    "driver.find_element_by_css_selector(\"#search_btn\").click()"
   ]
  },
  {
   "cell_type": "markdown",
   "metadata": {},
   "source": [
    "### 아이유 공연 정보 가져오기"
   ]
  },
  {
   "cell_type": "code",
   "execution_count": 36,
   "metadata": {},
   "outputs": [],
   "source": [
    "# 아이유 검색\n",
    "\n",
    "driver = webdriver.Chrome(\"/home/piai/ch#allContent > div.ticketContent > div.searchPanel > ul > li:nth-child(1) > div.col.data > div.itemName > aromedriver\")\n",
    "driver.get(\"http://ticket.interpark.com/\")\n",
    "driver.find_element_by_css_selector(\"#Nav_SearchWord\").send_keys(\"아이유\")\n",
    "driver.find_element_by_css_selector(\"#AllSearch > fieldset > div.box > a\").click()"
   ]
  },
  {
   "cell_type": "code",
   "execution_count": 39,
   "metadata": {},
   "outputs": [
    {
     "name": "stdout",
     "output_type": "stream",
     "text": [
      "셀레니움 CSS 셀렉터를 이용한 스크래핑 결과 : 2019 아이유 11주년 팬미팅 ‘▶ ll ＆ U’ (PLAY, PAUSE AND U)\n",
      "BeautifulSoup를 이용한 스크래핑 결과 : 2019 아이유 11주년 팬미팅 ‘▶ ll ＆ U’ (PLAY, PAUSE AND U)\n"
     ]
    }
   ],
   "source": [
    "# 셀레니움 CSS 셀렉터를 활용해 text 속성값 가져와보기\n",
    "driver.implicitly_wait(5)\n",
    "driver.implicitly_wait(5)\n",
    "selector = \"#allContent > div.ticketContent > div.searchPanel > ul > li:nth-child(1) > div.col.data > div.itemName > a\"\n",
    "ui = driver.find_element_by_css_selector(selector)\n",
    "print(\"셀레니움 CSS 셀렉터를 이용한 스크래핑 결과 : {}\".format(ui.text))\n",
    "\n",
    "#페이지 전체의 HTML을 BeautifulSoup로 가져와 원하는 text 속성값만 가져와보기\n",
    "time.sleep(5)\n",
    "html = driver.page_source #현재 page의 주소를 반환함\n",
    "soup = BeautifulSoup(html, \"html5lib\") #html5lib 모듈 설치필요\n",
    "selector_for_bs = \"#allContent > div.ticketContent > div.searchPanel > ul > li:nth-of-type(1) > div.col.data > div.itemName > a\"\n",
    "result = soup.select(selector_for_bs)[0].text\n",
    "\n",
    "print(\"BeautifulSoup를 이용한 스크래핑 결과 : {}\".format(result))"
   ]
  },
  {
   "cell_type": "markdown",
   "metadata": {},
   "source": [
    "### 실습_기사제목 가져오기"
   ]
  },
  {
   "cell_type": "markdown",
   "metadata": {},
   "source": [
    "### 실습_Business Summary 제목 가져오기"
   ]
  },
  {
   "cell_type": "markdown",
   "metadata": {},
   "source": [
    "### 실습_제목을 파일에 출력"
   ]
  },
  {
   "cell_type": "code",
   "execution_count": null,
   "metadata": {},
   "outputs": [],
   "source": []
  }
 ],
 "metadata": {
  "kernelspec": {
   "display_name": "Python 3",
   "language": "python",
   "name": "python3"
  },
  "language_info": {
   "codemirror_mode": {
    "name": "ipython",
    "version": 3
   },
   "file_extension": ".py",
   "mimetype": "text/x-python",
   "name": "python",
   "nbconvert_exporter": "python",
   "pygments_lexer": "ipython3",
   "version": "3.8.5"
  }
 },
 "nbformat": 4,
 "nbformat_minor": 4
}
