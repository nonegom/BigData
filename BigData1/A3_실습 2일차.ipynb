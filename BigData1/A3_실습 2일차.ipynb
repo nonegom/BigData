{
 "cells": [
  {
   "cell_type": "code",
   "execution_count": 2,
   "metadata": {},
   "outputs": [],
   "source": [
    "import pandas as pd\n",
    "import numpy as np\n",
    "import matplotlib\n",
    "import matplotlib.pyplot as plt\n",
    "import seaborn as sns\n",
    "from scipy import stats\n",
    "import scipy.stats\n",
    "\n",
    "%matplotlib inline"
   ]
  },
  {
   "cell_type": "markdown",
   "metadata": {},
   "source": [
    "## 실습"
   ]
  },
  {
   "cell_type": "markdown",
   "metadata": {},
   "source": [
    "### 정규분포"
   ]
  },
  {
   "cell_type": "code",
   "execution_count": 3,
   "metadata": {},
   "outputs": [
    {
     "name": "stdout",
     "output_type": "stream",
     "text": [
      "180인 나의 키의 범위: 15.9%\n"
     ]
    }
   ],
   "source": [
    "mu  = 175\n",
    "sigma = 5\n",
    "x = 180\n",
    "prob2 = stats.norm.cdf(x, mu, sigma)\n",
    "print(\"{0}인 나의 키의 범위: {1:.1f}%\".format(x, (1-prob2)*100))"
   ]
  },
  {
   "cell_type": "code",
   "execution_count": 4,
   "metadata": {},
   "outputs": [
    {
     "name": "stdout",
     "output_type": "stream",
     "text": [
      "9km 이상 15km 이하를 달릴 확률: 68.3%\n",
      "15km 이상 달릴 확률: 15.9%\n"
     ]
    }
   ],
   "source": [
    "mu = 12\n",
    "sigma = 3\n",
    "x1 = 15\n",
    "x2 = 9\n",
    "\n",
    "prob1 = stats.norm.cdf(x1, mu, sigma)\n",
    "prob2 = stats.norm.cdf(x2, mu, sigma)\n",
    "print(\"{0}km 이상 {1}km 이하를 달릴 확률: {2:.1f}%\".format(x2, x1,(prob1-prob2)*100))\n",
    "print(\"{0}km 이상 달릴 확률: {1:.1f}%\".format(x1,(1-prob1)*100))"
   ]
  },
  {
   "cell_type": "markdown",
   "metadata": {},
   "source": [
    "### t분포"
   ]
  },
  {
   "cell_type": "code",
   "execution_count": 80,
   "metadata": {},
   "outputs": [
    {
     "name": "stdout",
     "output_type": "stream",
     "text": [
      "P(T<=t): 0.976\n"
     ]
    }
   ],
   "source": [
    "t = 2.0\n",
    "df = 100\n",
    "\n",
    "prob = stats.t.cdf(t, df) # t분포, t값과 자유도\n",
    "print(\"P(T<=t): {:.3f}\".format(prob))\n",
    "\n",
    "# 확률변수 t가 2이고 자유도가 100일 때 T<=t일 확률은 0.975이다."
   ]
  },
  {
   "cell_type": "markdown",
   "metadata": {},
   "source": [
    "### 카이제곱분포"
   ]
  },
  {
   "cell_type": "code",
   "execution_count": 82,
   "metadata": {},
   "outputs": [
    {
     "name": "stderr",
     "output_type": "stream",
     "text": [
      "/home/piai/anaconda3/lib/python3.8/site-packages/seaborn/distributions.py:2551: FutureWarning: `distplot` is a deprecated function and will be removed in a future version. Please adapt your code to use either `displot` (a figure-level function with similar flexibility) or `histplot` (an axes-level function for histograms).\n",
      "  warnings.warn(msg, FutureWarning)\n",
      "/home/piai/anaconda3/lib/python3.8/site-packages/seaborn/distributions.py:2551: FutureWarning: `distplot` is a deprecated function and will be removed in a future version. Please adapt your code to use either `displot` (a figure-level function with similar flexibility) or `histplot` (an axes-level function for histograms).\n",
      "  warnings.warn(msg, FutureWarning)\n"
     ]
    },
    {
     "data": {
      "text/plain": [
       "<AxesSubplot:>"
      ]
     },
     "execution_count": 82,
     "metadata": {},
     "output_type": "execute_result"
    },
    {
     "data": {
      "image/png": "[encoded data removed]",
      "text/plain": [
       "<Figure size 432x288 with 1 Axes>"
      ]
     },
     "metadata": {
      "needs_background": "light"
     },
     "output_type": "display_data"
    }
   ],
   "source": [
    "np.random.seed(seed = 1234)\n",
    "chisq_df3 = np.random.chisquare(df = 3, size = 1000)\n",
    "chisq_df50 = np.random.chisquare(df = 50, size = 1000)\n",
    "\n",
    "sns.distplot(chisq_df3, fit = stats.norm, kde = False)\n",
    "sns.distplot(chisq_df50, fit = stats.norm, kde = False)\n",
    "\n",
    "# 자유도가 변함에 따라 점점 정규분포와 유사한 모양을 그리게 된다."
   ]
  },
  {
   "cell_type": "code",
   "execution_count": 85,
   "metadata": {},
   "outputs": [
    {
     "name": "stdout",
     "output_type": "stream",
     "text": [
      "P(X<=x^2): 0.0656\n"
     ]
    }
   ],
   "source": [
    "chisq = 3\n",
    "df = 8\n",
    "\n",
    "prob = stats.chi2.cdf(chisq, df)\n",
    "print(\"P(X<=x^2): {:.4f}\".format(prob))\n",
    "\n",
    "# 학률변수 X^2 값이 3.0일 때 자유도가 8인 X^2분포에서 X<=x^2일 확률은 6.5%이다."
   ]
  },
  {
   "cell_type": "markdown",
   "metadata": {},
   "source": [
    "### F분포"
   ]
  },
  {
   "cell_type": "code",
   "execution_count": 86,
   "metadata": {},
   "outputs": [
    {
     "name": "stdout",
     "output_type": "stream",
     "text": [
      "P(X<=F):0.850\n"
     ]
    }
   ],
   "source": [
    "f = 1.5\n",
    "dfnum = 10\n",
    "dfnum2 = 100\n",
    "prob = stats.f.cdf(x=f, dfn = dfnum, dfd=dfnum2)\n",
    "print(\"P(X<=F):{:.3f}\".format(prob))\n",
    "\n",
    "# 자유도가 10, 100인 F분포에서 F값이 1.5일 떄 P(X<=F)는 85%이다."
   ]
  },
  {
   "cell_type": "markdown",
   "metadata": {},
   "source": [
    "### 와이블 분포"
   ]
  },
  {
   "cell_type": "code",
   "execution_count": 21,
   "metadata": {},
   "outputs": [
    {
     "name": "stdout",
     "output_type": "stream",
     "text": [
      "P(X>=x): 14.3% \n"
     ]
    }
   ],
   "source": [
    "x = 2500\n",
    "alpha = 5.2\n",
    "beta = 2200\n",
    "prob = stats.weibull_min.cdf(x, alpha, scale = beta)\n",
    "print(\"P(X>=x): {:.1f}% \".format((1-prob)*100))\n",
    "\n",
    "## 이 제품이 2500시간 이상 작동할 확률은 14.3%이다."
   ]
  },
  {
   "cell_type": "markdown",
   "metadata": {},
   "source": [
    "### 이항 분포"
   ]
  },
  {
   "cell_type": "code",
   "execution_count": 88,
   "metadata": {},
   "outputs": [
    {
     "name": "stdout",
     "output_type": "stream",
     "text": [
      "P(X=0) = 0.078\n",
      "P(X=1) = 0.259\n",
      "P(X=2) = 0.346\n",
      "P(X=3) = 0.230\n",
      "P(X=4) = 0.077\n",
      "P(X=5) = 0.010\n"
     ]
    }
   ],
   "source": [
    "n = 5\n",
    "for i in range(n+1):\n",
    "    prob = stats.binom.pmf(k=i, n=n, p=0.4)\n",
    "    print(\"P(X={0}) = {1:.3f}\".format(i, prob))\n",
    "    \n",
    "# 5대 차량의 불량대수가 각각 0, 1, 2, 3, 4, 5대가 나올 확률은 아래와 같다.\n",
    "# 불량대수가 2대가 나올 확률이 가장 높다."
   ]
  },
  {
   "cell_type": "markdown",
   "metadata": {},
   "source": [
    "### 포아송분포"
   ]
  },
  {
   "cell_type": "code",
   "execution_count": 89,
   "metadata": {},
   "outputs": [
    {
     "name": "stdout",
     "output_type": "stream",
     "text": [
      "2명의 손님이 도착할 확률: 22.4%\n",
      "1명 이하의 손님이 도착할 확률: 19.9%\n",
      "3명 이상의 손님이 도착할 확률: 57.7%\n"
     ]
    }
   ],
   "source": [
    "mu = 3\n",
    "prob = stats.poisson.pmf(2, mu)\n",
    "cdf_prob = stats.poisson.cdf(1, mu)\n",
    "cdf_prob2 = stats.poisson.cdf(2, mu)\n",
    "print(\"2명의 손님이 도착할 확률: {:.1f}%\".format(prob*100))\n",
    "print(\"1명 이하의 손님이 도착할 확률: {:.1f}%\".format(cdf_prob*100))\n",
    "print(\"3명 이상의 손님이 도착할 확률: {:.1f}%\".format((1-cdf_prob2)*100))\n",
    "\n",
    "# 한 상점에서 1시간 내에 손님이 1명 이하의 손님이 방문할 확률은 19.9%이고,\n",
    "# 2명의 손님이 방문할 확률은 22.4%\n",
    "# 3명 이상의 손님이 도착할 확률은 57.5%이다"
   ]
  },
  {
   "cell_type": "markdown",
   "metadata": {},
   "source": [
    "### 정규성 검정 "
   ]
  },
  {
   "cell_type": "code",
   "execution_count": 66,
   "metadata": {
    "collapsed": true
   },
   "outputs": [
    {
     "data": {
      "text/html": [
       "<div>\n",
       "<style scoped>\n",
       "    .dataframe tbody tr th:only-of-type {\n",
       "        vertical-align: middle;\n",
       "    }\n",
       "\n",
       "    .dataframe tbody tr th {\n",
       "        vertical-align: top;\n",
       "    }\n",
       "\n",
       "    .dataframe thead th {\n",
       "        text-align: right;\n",
       "    }\n",
       "</style>\n",
       "<table border=\"1\" class=\"dataframe\">\n",
       "  <thead>\n",
       "    <tr style=\"text-align: right;\">\n",
       "      <th></th>\n",
       "      <th>Mat_A</th>\n",
       "      <th>Mat_B</th>\n",
       "      <th>Total</th>\n",
       "      <th>Sub</th>\n",
       "    </tr>\n",
       "  </thead>\n",
       "  <tbody>\n",
       "    <tr>\n",
       "      <th>0</th>\n",
       "      <td>73.4</td>\n",
       "      <td>68.7</td>\n",
       "      <td>73.4</td>\n",
       "      <td>1</td>\n",
       "    </tr>\n",
       "    <tr>\n",
       "      <th>1</th>\n",
       "      <td>77.0</td>\n",
       "      <td>71.4</td>\n",
       "      <td>77.0</td>\n",
       "      <td>1</td>\n",
       "    </tr>\n",
       "    <tr>\n",
       "      <th>2</th>\n",
       "      <td>73.7</td>\n",
       "      <td>69.8</td>\n",
       "      <td>73.7</td>\n",
       "      <td>1</td>\n",
       "    </tr>\n",
       "    <tr>\n",
       "      <th>3</th>\n",
       "      <td>73.3</td>\n",
       "      <td>75.3</td>\n",
       "      <td>73.3</td>\n",
       "      <td>1</td>\n",
       "    </tr>\n",
       "    <tr>\n",
       "      <th>4</th>\n",
       "      <td>73.1</td>\n",
       "      <td>71.3</td>\n",
       "      <td>73.1</td>\n",
       "      <td>1</td>\n",
       "    </tr>\n",
       "    <tr>\n",
       "      <th>5</th>\n",
       "      <td>71.5</td>\n",
       "      <td>72.7</td>\n",
       "      <td>71.5</td>\n",
       "      <td>1</td>\n",
       "    </tr>\n",
       "    <tr>\n",
       "      <th>6</th>\n",
       "      <td>74.5</td>\n",
       "      <td>66.9</td>\n",
       "      <td>74.5</td>\n",
       "      <td>1</td>\n",
       "    </tr>\n",
       "    <tr>\n",
       "      <th>7</th>\n",
       "      <td>77.5</td>\n",
       "      <td>70.2</td>\n",
       "      <td>77.5</td>\n",
       "      <td>1</td>\n",
       "    </tr>\n",
       "    <tr>\n",
       "      <th>8</th>\n",
       "      <td>76.4</td>\n",
       "      <td>74.4</td>\n",
       "      <td>76.4</td>\n",
       "      <td>1</td>\n",
       "    </tr>\n",
       "    <tr>\n",
       "      <th>9</th>\n",
       "      <td>77.7</td>\n",
       "      <td>70.1</td>\n",
       "      <td>77.7</td>\n",
       "      <td>1</td>\n",
       "    </tr>\n",
       "    <tr>\n",
       "      <th>10</th>\n",
       "      <td>NaN</td>\n",
       "      <td>NaN</td>\n",
       "      <td>68.7</td>\n",
       "      <td>2</td>\n",
       "    </tr>\n",
       "    <tr>\n",
       "      <th>11</th>\n",
       "      <td>NaN</td>\n",
       "      <td>NaN</td>\n",
       "      <td>71.4</td>\n",
       "      <td>2</td>\n",
       "    </tr>\n",
       "    <tr>\n",
       "      <th>12</th>\n",
       "      <td>NaN</td>\n",
       "      <td>NaN</td>\n",
       "      <td>69.8</td>\n",
       "      <td>2</td>\n",
       "    </tr>\n",
       "    <tr>\n",
       "      <th>13</th>\n",
       "      <td>NaN</td>\n",
       "      <td>NaN</td>\n",
       "      <td>75.3</td>\n",
       "      <td>2</td>\n",
       "    </tr>\n",
       "    <tr>\n",
       "      <th>14</th>\n",
       "      <td>NaN</td>\n",
       "      <td>NaN</td>\n",
       "      <td>71.3</td>\n",
       "      <td>2</td>\n",
       "    </tr>\n",
       "    <tr>\n",
       "      <th>15</th>\n",
       "      <td>NaN</td>\n",
       "      <td>NaN</td>\n",
       "      <td>72.7</td>\n",
       "      <td>2</td>\n",
       "    </tr>\n",
       "    <tr>\n",
       "      <th>16</th>\n",
       "      <td>NaN</td>\n",
       "      <td>NaN</td>\n",
       "      <td>66.9</td>\n",
       "      <td>2</td>\n",
       "    </tr>\n",
       "    <tr>\n",
       "      <th>17</th>\n",
       "      <td>NaN</td>\n",
       "      <td>NaN</td>\n",
       "      <td>70.2</td>\n",
       "      <td>2</td>\n",
       "    </tr>\n",
       "    <tr>\n",
       "      <th>18</th>\n",
       "      <td>NaN</td>\n",
       "      <td>NaN</td>\n",
       "      <td>74.4</td>\n",
       "      <td>2</td>\n",
       "    </tr>\n",
       "    <tr>\n",
       "      <th>19</th>\n",
       "      <td>NaN</td>\n",
       "      <td>NaN</td>\n",
       "      <td>70.1</td>\n",
       "      <td>2</td>\n",
       "    </tr>\n",
       "  </tbody>\n",
       "</table>\n",
       "</div>"
      ],
      "text/plain": [
       "    Mat_A  Mat_B  Total  Sub\n",
       "0    73.4   68.7   73.4    1\n",
       "1    77.0   71.4   77.0    1\n",
       "2    73.7   69.8   73.7    1\n",
       "3    73.3   75.3   73.3    1\n",
       "4    73.1   71.3   73.1    1\n",
       "5    71.5   72.7   71.5    1\n",
       "6    74.5   66.9   74.5    1\n",
       "7    77.5   70.2   77.5    1\n",
       "8    76.4   74.4   76.4    1\n",
       "9    77.7   70.1   77.7    1\n",
       "10    NaN    NaN   68.7    2\n",
       "11    NaN    NaN   71.4    2\n",
       "12    NaN    NaN   69.8    2\n",
       "13    NaN    NaN   75.3    2\n",
       "14    NaN    NaN   71.3    2\n",
       "15    NaN    NaN   72.7    2\n",
       "16    NaN    NaN   66.9    2\n",
       "17    NaN    NaN   70.2    2\n",
       "18    NaN    NaN   74.4    2\n",
       "19    NaN    NaN   70.1    2"
      ]
     },
     "execution_count": 66,
     "metadata": {},
     "output_type": "execute_result"
    }
   ],
   "source": [
    "ds_mat = pd.read_csv(\"./Data/2sample_t_test.csv\",engine = \"python\")\n",
    "ds_mat"
   ]
  },
  {
   "cell_type": "code",
   "execution_count": 63,
   "metadata": {},
   "outputs": [
    {
     "name": "stdout",
     "output_type": "stream",
     "text": [
      "Shapiro-Wilk Test: statistic = nan, p-value=1.0\n"
     ]
    }
   ],
   "source": [
    "statistic, p = stats.shapiro(ds_mat['Mat_A'])\n",
    "print(\"Shapiro-Wilk Test: statistic = {}, p-value={}\".format(statistic, p))\n",
    "\n",
    "# 데이터 셋의 Nan 데이터가 있기 때문에 나올 수 없는 값이 나온다."
   ]
  },
  {
   "cell_type": "code",
   "execution_count": 90,
   "metadata": {},
   "outputs": [
    {
     "name": "stdout",
     "output_type": "stream",
     "text": [
      "Shapiro-Wilk Test: statistic = 0.9062636494636536, p-value=0.2562994360923767\n"
     ]
    }
   ],
   "source": [
    "statistic, p = stats.shapiro(ds_mat['Mat_A'][:10])\n",
    "print(\"Shapiro-Wilk Test: statistic = {}, p-value={}\".format(statistic, p))\n",
    "\n",
    "# P-value = 0.25이기 때문에 'Mat_A'는 H_0(귀무가설)을 따른다."
   ]
  },
  {
   "cell_type": "code",
   "execution_count": 91,
   "metadata": {},
   "outputs": [
    {
     "name": "stdout",
     "output_type": "stream",
     "text": [
      "Shapiro-Wilk Test: statistic = 0.9729753732681274, p-value=0.9169777035713196\n"
     ]
    }
   ],
   "source": [
    "statistic, p = stats.shapiro(ds_mat['Mat_B'][:10])\n",
    "print(\"Shapiro-Wilk Test: statistic = {}, p-value={}\".format(statistic, p))\n",
    "# P-value = 0.91이기 때문에 'Mat_B'는 H_0(귀무가설)을 따른다."
   ]
  },
  {
   "cell_type": "markdown",
   "metadata": {},
   "source": [
    "## 모평균 추정(표준편차 아는 경우)\n",
    "- 정규분포 사용한다."
   ]
  },
  {
   "cell_type": "code",
   "execution_count": 75,
   "metadata": {},
   "outputs": [],
   "source": [
    "df = pd.DataFrame({'Sample': [18, 18, 20, 21, 20, 23, 19, 18, 17, 21, \n",
    "                              22, 20, 20, 21, 20, 19, 19, 18, 17, 19]})"
   ]
  },
  {
   "cell_type": "code",
   "execution_count": 76,
   "metadata": {},
   "outputs": [
    {
     "name": "stdout",
     "output_type": "stream",
     "text": [
      "신뢰구간: ([17.83],[21.17])\n"
     ]
    }
   ],
   "source": [
    "lower, upper = stats.norm.interval(0.95, loc = np.mean(df), \n",
    "                                   scale = 3.8/np.sqrt(len(df)))\n",
    "print(\"신뢰구간: ({},{})\".format(lower.round(2), upper.round(2)))\n",
    "\n",
    "# 평균 무게에 대한 95%의 신뢰구간은 17.83 ~ 21.17이다."
   ]
  },
  {
   "cell_type": "markdown",
   "metadata": {},
   "source": [
    "## 모평균 추정(표준편차 모르는 경우)\n",
    "- t분포 사용한다."
   ]
  },
  {
   "cell_type": "code",
   "execution_count": 77,
   "metadata": {},
   "outputs": [
    {
     "data": {
      "text/plain": [
       "Sample    71.5\n",
       "dtype: float64"
      ]
     },
     "execution_count": 77,
     "metadata": {},
     "output_type": "execute_result"
    }
   ],
   "source": [
    "df = pd.DataFrame({'Sample': [73, 71, 74, 69, 70, 73, 70, 68, 75, 72, \n",
    "                             70, 72, 73, 70, 70, 72, 71, 70, 75, 72]})\n",
    "np.mean(df)"
   ]
  },
  {
   "cell_type": "code",
   "execution_count": 78,
   "metadata": {},
   "outputs": [
    {
     "name": "stdout",
     "output_type": "stream",
     "text": [
      "신뢰구간: ([70.6],[72.4])\n"
     ]
    }
   ],
   "source": [
    "lower, upper = stats.t.interval(0.95, len(df)-1, loc = np.mean(df), \n",
    "                                   scale = stats.sem(df)) # s/ sqrt(n)\n",
    "print(\"신뢰구간: ({},{})\".format(lower.round(2), upper.round(2)))\n",
    "\n",
    "# 모평균값 70kg/mm^2의 95% 신뢰구간 은 70.6 ~ 72.4이다."
   ]
  },
  {
   "cell_type": "markdown",
   "metadata": {},
   "source": [
    "### 모분산 신뢰구간 추정\n",
    "\n",
    "![](./img_1.jpg)"
   ]
  },
  {
   "cell_type": "markdown",
   "metadata": {},
   "source": [
    "### 모비율 신뢰구간 추정\n",
    "![](./img_2.jpg)"
   ]
  },
  {
   "cell_type": "code",
   "execution_count": null,
   "metadata": {},
   "outputs": [],
   "source": []
  }
 ],
 "metadata": {
  "kernelspec": {
   "display_name": "Python 3",
   "language": "python",
   "name": "python3"
  },
  "language_info": {
   "codemirror_mode": {
    "name": "ipython",
    "version": 3
   },
   "file_extension": ".py",
   "mimetype": "text/x-python",
   "name": "python",
   "nbconvert_exporter": "python",
   "pygments_lexer": "ipython3",
   "version": "3.8.5"
  }
 },
 "nbformat": 4,
 "nbformat_minor": 4
}
