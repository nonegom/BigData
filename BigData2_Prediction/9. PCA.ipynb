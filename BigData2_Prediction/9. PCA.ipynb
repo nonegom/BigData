{
 "cells": [
  {
   "cell_type": "code",
   "execution_count": 1,
   "metadata": {},
   "outputs": [
    {
     "name": "stderr",
     "output_type": "stream",
     "text": [
      "<frozen importlib._bootstrap>:219: RuntimeWarning: numpy.ufunc size changed, may indicate binary incompatibility. Expected 192 from C header, got 216 from PyObject\n",
      "<frozen importlib._bootstrap>:219: RuntimeWarning: numpy.ufunc size changed, may indicate binary incompatibility. Expected 192 from C header, got 216 from PyObject\n"
     ]
    }
   ],
   "source": [
    "import pandas as pd\n",
    "import numpy as np\n",
    "\n",
    "# 데이터 시각화 패키지\n",
    "import matplotlib\n",
    "import matplotlib.pyplot as plt\n",
    "import seaborn as sns\n",
    "\n",
    "# 데이터 split\n",
    "from sklearn.model_selection import train_test_split\n",
    "\n",
    "# 회귀분석\n",
    "import statsmodels.formula.api as smf\n",
    "import statsmodels.api as sm\n",
    "\n",
    "from sklearn.preprocessing import StandardScaler\n",
    "from sklearn.decomposition import PCA\n",
    "\n",
    "# from statsmodels.formula.api import ols\n",
    "# from sklearn.feature_selection import RFE\n",
    "\n",
    "# from sklearn.tree import DecisionTreeRegressor\n",
    "# # 앙상블 모델\n",
    "# from sklearn.ensemble import GradientBoostingRegressor as GBR\n",
    "# from sklearn.ensemble import RandomForestRegressor as RFR\n",
    "\n",
    "# from sklearn.model_selection import GridSearchCV\n",
    "\n",
    "# # 평가함수\n",
    "# from sklearn.metrics import mean_squared_error\n",
    "# from sklearn.metrics import mean_absolute_error\n",
    "\n",
    "# 주피터 노트북 사용시 그래프 자동 출력 옵션\n",
    "%matplotlib inline\n",
    "\n",
    "# 폰트 설정\n",
    "matplotlib.rc('font', family = \"NanumGothic\")\n",
    "plt.rc('font', family = \"NanumGothic\")\n",
    "plt.rcParams[\"font.family\"] = 'NanumGothic'\n",
    "plt.rcParams['axes.unicode_minus'] = False"
   ]
  },
  {
   "cell_type": "code",
   "execution_count": 2,
   "metadata": {},
   "outputs": [
    {
     "name": "stdout",
     "output_type": "stream",
     "text": [
      "<class 'pandas.core.frame.DataFrame'>\n",
      "RangeIndex: 30 entries, 0 to 29\n",
      "Data columns (total 7 columns):\n",
      " #   Column     Non-Null Count  Dtype\n",
      "---  ------     --------------  -----\n",
      " 0   EVAL       30 non-null     int64\n",
      " 1   DISSATIS   30 non-null     int64\n",
      " 2   PRIVILEGE  30 non-null     int64\n",
      " 3   CHANCE     30 non-null     int64\n",
      " 4   ADVANCE    30 non-null     int64\n",
      " 5   CRITISM    30 non-null     int64\n",
      " 6   PROMOTION  30 non-null     int64\n",
      "dtypes: int64(7)\n",
      "memory usage: 1.8 KB\n"
     ]
    }
   ],
   "source": [
    "df_raw = pd.read_csv(\"Data/직무능력평가.csv\")\n",
    "df_raw.info()"
   ]
  },
  {
   "cell_type": "code",
   "execution_count": 4,
   "metadata": {},
   "outputs": [
    {
     "data": {
      "text/html": [
       "<div>\n",
       "<style scoped>\n",
       "    .dataframe tbody tr th:only-of-type {\n",
       "        vertical-align: middle;\n",
       "    }\n",
       "\n",
       "    .dataframe tbody tr th {\n",
       "        vertical-align: top;\n",
       "    }\n",
       "\n",
       "    .dataframe thead th {\n",
       "        text-align: right;\n",
       "    }\n",
       "</style>\n",
       "<table border=\"1\" class=\"dataframe\">\n",
       "  <thead>\n",
       "    <tr style=\"text-align: right;\">\n",
       "      <th></th>\n",
       "      <th>DISSATIS</th>\n",
       "      <th>PRIVILEGE</th>\n",
       "      <th>CHANCE</th>\n",
       "      <th>ADVANCE</th>\n",
       "      <th>CRITISM</th>\n",
       "      <th>PROMOTION</th>\n",
       "    </tr>\n",
       "  </thead>\n",
       "  <tbody>\n",
       "    <tr>\n",
       "      <th>0</th>\n",
       "      <td>51</td>\n",
       "      <td>30</td>\n",
       "      <td>39</td>\n",
       "      <td>61</td>\n",
       "      <td>92</td>\n",
       "      <td>45</td>\n",
       "    </tr>\n",
       "    <tr>\n",
       "      <th>1</th>\n",
       "      <td>64</td>\n",
       "      <td>51</td>\n",
       "      <td>54</td>\n",
       "      <td>63</td>\n",
       "      <td>73</td>\n",
       "      <td>47</td>\n",
       "    </tr>\n",
       "    <tr>\n",
       "      <th>2</th>\n",
       "      <td>70</td>\n",
       "      <td>68</td>\n",
       "      <td>69</td>\n",
       "      <td>76</td>\n",
       "      <td>86</td>\n",
       "      <td>48</td>\n",
       "    </tr>\n",
       "    <tr>\n",
       "      <th>3</th>\n",
       "      <td>63</td>\n",
       "      <td>45</td>\n",
       "      <td>47</td>\n",
       "      <td>54</td>\n",
       "      <td>84</td>\n",
       "      <td>35</td>\n",
       "    </tr>\n",
       "    <tr>\n",
       "      <th>4</th>\n",
       "      <td>78</td>\n",
       "      <td>56</td>\n",
       "      <td>66</td>\n",
       "      <td>71</td>\n",
       "      <td>83</td>\n",
       "      <td>47</td>\n",
       "    </tr>\n",
       "  </tbody>\n",
       "</table>\n",
       "</div>"
      ],
      "text/plain": [
       "   DISSATIS  PRIVILEGE  CHANCE  ADVANCE  CRITISM  PROMOTION\n",
       "0        51         30      39       61       92         45\n",
       "1        64         51      54       63       73         47\n",
       "2        70         68      69       76       86         48\n",
       "3        63         45      47       54       84         35\n",
       "4        78         56      66       71       83         47"
      ]
     },
     "execution_count": 4,
     "metadata": {},
     "output_type": "execute_result"
    }
   ],
   "source": [
    "df_raw_y = df_raw[\"EVAL\"]\n",
    "df_raw_x = df_raw.drop(\"EVAL\", axis=1)\n",
    "df_raw_x.head()"
   ]
  },
  {
   "cell_type": "markdown",
   "metadata": {},
   "source": [
    "## 2) 선형관계 확인: 산점도 및 상관계수"
   ]
  },
  {
   "cell_type": "code",
   "execution_count": 6,
   "metadata": {
    "collapsed": true
   },
   "outputs": [
    {
     "data": {
      "text/plain": [
       "<seaborn.axisgrid.PairGrid at 0x7fd17a030310>"
      ]
     },
     "execution_count": 6,
     "metadata": {},
     "output_type": "execute_result"
    },
    {
     "data": {
      "image/png": "[encoded data removed]",
      "text/plain": [
       "<Figure size 1080x1080 with 42 Axes>"
      ]
     },
     "metadata": {
      "needs_background": "light"
     },
     "output_type": "display_data"
    }
   ],
   "source": [
    "# x들간의 관계분석\n",
    "sns.pairplot(df_raw_x)"
   ]
  },
  {
   "cell_type": "code",
   "execution_count": 7,
   "metadata": {},
   "outputs": [
    {
     "data": {
      "text/html": [
       "<div>\n",
       "<style scoped>\n",
       "    .dataframe tbody tr th:only-of-type {\n",
       "        vertical-align: middle;\n",
       "    }\n",
       "\n",
       "    .dataframe tbody tr th {\n",
       "        vertical-align: top;\n",
       "    }\n",
       "\n",
       "    .dataframe thead th {\n",
       "        text-align: right;\n",
       "    }\n",
       "</style>\n",
       "<table border=\"1\" class=\"dataframe\">\n",
       "  <thead>\n",
       "    <tr style=\"text-align: right;\">\n",
       "      <th></th>\n",
       "      <th>DISSATIS</th>\n",
       "      <th>PRIVILEGE</th>\n",
       "      <th>CHANCE</th>\n",
       "      <th>ADVANCE</th>\n",
       "      <th>CRITISM</th>\n",
       "      <th>PROMOTION</th>\n",
       "    </tr>\n",
       "  </thead>\n",
       "  <tbody>\n",
       "    <tr>\n",
       "      <th>DISSATIS</th>\n",
       "      <td>1.000</td>\n",
       "      <td>0.558</td>\n",
       "      <td>0.597</td>\n",
       "      <td>0.669</td>\n",
       "      <td>0.188</td>\n",
       "      <td>0.225</td>\n",
       "    </tr>\n",
       "    <tr>\n",
       "      <th>PRIVILEGE</th>\n",
       "      <td>0.558</td>\n",
       "      <td>1.000</td>\n",
       "      <td>0.493</td>\n",
       "      <td>0.445</td>\n",
       "      <td>0.147</td>\n",
       "      <td>0.343</td>\n",
       "    </tr>\n",
       "    <tr>\n",
       "      <th>CHANCE</th>\n",
       "      <td>0.597</td>\n",
       "      <td>0.493</td>\n",
       "      <td>1.000</td>\n",
       "      <td>0.640</td>\n",
       "      <td>0.116</td>\n",
       "      <td>0.532</td>\n",
       "    </tr>\n",
       "    <tr>\n",
       "      <th>ADVANCE</th>\n",
       "      <td>0.669</td>\n",
       "      <td>0.445</td>\n",
       "      <td>0.640</td>\n",
       "      <td>1.000</td>\n",
       "      <td>0.377</td>\n",
       "      <td>0.574</td>\n",
       "    </tr>\n",
       "    <tr>\n",
       "      <th>CRITISM</th>\n",
       "      <td>0.188</td>\n",
       "      <td>0.147</td>\n",
       "      <td>0.116</td>\n",
       "      <td>0.377</td>\n",
       "      <td>1.000</td>\n",
       "      <td>0.283</td>\n",
       "    </tr>\n",
       "    <tr>\n",
       "      <th>PROMOTION</th>\n",
       "      <td>0.225</td>\n",
       "      <td>0.343</td>\n",
       "      <td>0.532</td>\n",
       "      <td>0.574</td>\n",
       "      <td>0.283</td>\n",
       "      <td>1.000</td>\n",
       "    </tr>\n",
       "  </tbody>\n",
       "</table>\n",
       "</div>"
      ],
      "text/plain": [
       "           DISSATIS  PRIVILEGE  CHANCE  ADVANCE  CRITISM  PROMOTION\n",
       "DISSATIS      1.000      0.558   0.597    0.669    0.188      0.225\n",
       "PRIVILEGE     0.558      1.000   0.493    0.445    0.147      0.343\n",
       "CHANCE        0.597      0.493   1.000    0.640    0.116      0.532\n",
       "ADVANCE       0.669      0.445   0.640    1.000    0.377      0.574\n",
       "CRITISM       0.188      0.147   0.116    0.377    1.000      0.283\n",
       "PROMOTION     0.225      0.343   0.532    0.574    0.283      1.000"
      ]
     },
     "execution_count": 7,
     "metadata": {},
     "output_type": "execute_result"
    }
   ],
   "source": [
    "df_raw_x.corr().round(3)"
   ]
  },
  {
   "cell_type": "markdown",
   "metadata": {},
   "source": [
    "- DISSATIS와 세 개의 변수, CHANCE와 AVANCE 등에 높은 상관관계를 보인다."
   ]
  },
  {
   "cell_type": "markdown",
   "metadata": {},
   "source": [
    "## 3) 데이터 확인 및 scailing"
   ]
  },
  {
   "cell_type": "code",
   "execution_count": 10,
   "metadata": {},
   "outputs": [
    {
     "data": {
      "text/html": [
       "<div>\n",
       "<style scoped>\n",
       "    .dataframe tbody tr th:only-of-type {\n",
       "        vertical-align: middle;\n",
       "    }\n",
       "\n",
       "    .dataframe tbody tr th {\n",
       "        vertical-align: top;\n",
       "    }\n",
       "\n",
       "    .dataframe thead th {\n",
       "        text-align: right;\n",
       "    }\n",
       "</style>\n",
       "<table border=\"1\" class=\"dataframe\">\n",
       "  <thead>\n",
       "    <tr style=\"text-align: right;\">\n",
       "      <th></th>\n",
       "      <th>DISSATIS</th>\n",
       "      <th>PRIVILEGE</th>\n",
       "      <th>CHANCE</th>\n",
       "      <th>ADVANCE</th>\n",
       "      <th>CRITISM</th>\n",
       "      <th>PROMOTION</th>\n",
       "    </tr>\n",
       "  </thead>\n",
       "  <tbody>\n",
       "    <tr>\n",
       "      <th>count</th>\n",
       "      <td>30.000</td>\n",
       "      <td>30.000</td>\n",
       "      <td>30.000</td>\n",
       "      <td>30.000</td>\n",
       "      <td>30.000</td>\n",
       "      <td>30.000</td>\n",
       "    </tr>\n",
       "    <tr>\n",
       "      <th>mean</th>\n",
       "      <td>66.600</td>\n",
       "      <td>53.133</td>\n",
       "      <td>56.367</td>\n",
       "      <td>64.633</td>\n",
       "      <td>74.767</td>\n",
       "      <td>42.933</td>\n",
       "    </tr>\n",
       "    <tr>\n",
       "      <th>std</th>\n",
       "      <td>13.315</td>\n",
       "      <td>12.235</td>\n",
       "      <td>11.737</td>\n",
       "      <td>10.397</td>\n",
       "      <td>9.895</td>\n",
       "      <td>10.289</td>\n",
       "    </tr>\n",
       "    <tr>\n",
       "      <th>min</th>\n",
       "      <td>37.000</td>\n",
       "      <td>30.000</td>\n",
       "      <td>34.000</td>\n",
       "      <td>43.000</td>\n",
       "      <td>49.000</td>\n",
       "      <td>25.000</td>\n",
       "    </tr>\n",
       "    <tr>\n",
       "      <th>25%</th>\n",
       "      <td>58.500</td>\n",
       "      <td>45.000</td>\n",
       "      <td>47.000</td>\n",
       "      <td>58.250</td>\n",
       "      <td>69.250</td>\n",
       "      <td>35.000</td>\n",
       "    </tr>\n",
       "    <tr>\n",
       "      <th>50%</th>\n",
       "      <td>65.000</td>\n",
       "      <td>51.500</td>\n",
       "      <td>56.500</td>\n",
       "      <td>63.500</td>\n",
       "      <td>77.500</td>\n",
       "      <td>41.000</td>\n",
       "    </tr>\n",
       "    <tr>\n",
       "      <th>75%</th>\n",
       "      <td>77.000</td>\n",
       "      <td>62.500</td>\n",
       "      <td>66.750</td>\n",
       "      <td>71.000</td>\n",
       "      <td>80.000</td>\n",
       "      <td>47.750</td>\n",
       "    </tr>\n",
       "    <tr>\n",
       "      <th>max</th>\n",
       "      <td>90.000</td>\n",
       "      <td>83.000</td>\n",
       "      <td>75.000</td>\n",
       "      <td>88.000</td>\n",
       "      <td>92.000</td>\n",
       "      <td>72.000</td>\n",
       "    </tr>\n",
       "  </tbody>\n",
       "</table>\n",
       "</div>"
      ],
      "text/plain": [
       "       DISSATIS  PRIVILEGE  CHANCE  ADVANCE  CRITISM  PROMOTION\n",
       "count    30.000     30.000  30.000   30.000   30.000     30.000\n",
       "mean     66.600     53.133  56.367   64.633   74.767     42.933\n",
       "std      13.315     12.235  11.737   10.397    9.895     10.289\n",
       "min      37.000     30.000  34.000   43.000   49.000     25.000\n",
       "25%      58.500     45.000  47.000   58.250   69.250     35.000\n",
       "50%      65.000     51.500  56.500   63.500   77.500     41.000\n",
       "75%      77.000     62.500  66.750   71.000   80.000     47.750\n",
       "max      90.000     83.000  75.000   88.000   92.000     72.000"
      ]
     },
     "execution_count": 10,
     "metadata": {},
     "output_type": "execute_result"
    }
   ],
   "source": [
    "df_raw_x.describe().round(3)"
   ]
  },
  {
   "cell_type": "code",
   "execution_count": 13,
   "metadata": {},
   "outputs": [
    {
     "name": "stdout",
     "output_type": "stream",
     "text": [
      "Scaled Data: \n",
      " [[-1.192 -1.923 -1.505 -0.355  1.771  0.204]\n",
      " [-0.199 -0.177 -0.205 -0.16  -0.182  0.402]\n",
      " [ 0.26   1.236  1.095  1.112  1.155  0.501]\n",
      " [-0.275 -0.676 -0.812 -1.04   0.949 -0.784]\n",
      " [ 0.871  0.238  0.835  0.623  0.846  0.402]]\n",
      "Shape: \n",
      " (30, 6)\n"
     ]
    }
   ],
   "source": [
    "# 변수 이름 저장\n",
    "x_cols = df_raw_x.columns\n",
    "\n",
    "scaler = StandardScaler()\n",
    "nd_scaled = scaler.fit_transform(df_raw_x)\n",
    "\n",
    "# 변환된 데이터 및 형태 확인\n",
    "print(\"Scaled Data: \\n {}\".format(nd_scaled[:5].round(3)))\n",
    "print(\"Shape: \\n {}\".format(nd_scaled.shape))"
   ]
  },
  {
   "cell_type": "code",
   "execution_count": 15,
   "metadata": {},
   "outputs": [
    {
     "data": {
      "text/html": [
       "<div>\n",
       "<style scoped>\n",
       "    .dataframe tbody tr th:only-of-type {\n",
       "        vertical-align: middle;\n",
       "    }\n",
       "\n",
       "    .dataframe tbody tr th {\n",
       "        vertical-align: top;\n",
       "    }\n",
       "\n",
       "    .dataframe thead th {\n",
       "        text-align: right;\n",
       "    }\n",
       "</style>\n",
       "<table border=\"1\" class=\"dataframe\">\n",
       "  <thead>\n",
       "    <tr style=\"text-align: right;\">\n",
       "      <th></th>\n",
       "      <th>DISSATIS</th>\n",
       "      <th>PRIVILEGE</th>\n",
       "      <th>CHANCE</th>\n",
       "      <th>ADVANCE</th>\n",
       "      <th>CRITISM</th>\n",
       "      <th>PROMOTION</th>\n",
       "    </tr>\n",
       "  </thead>\n",
       "  <tbody>\n",
       "    <tr>\n",
       "      <th>0</th>\n",
       "      <td>-1.192</td>\n",
       "      <td>-1.923</td>\n",
       "      <td>-1.505</td>\n",
       "      <td>-0.355</td>\n",
       "      <td>1.771</td>\n",
       "      <td>0.204</td>\n",
       "    </tr>\n",
       "    <tr>\n",
       "      <th>1</th>\n",
       "      <td>-0.199</td>\n",
       "      <td>-0.177</td>\n",
       "      <td>-0.205</td>\n",
       "      <td>-0.160</td>\n",
       "      <td>-0.182</td>\n",
       "      <td>0.402</td>\n",
       "    </tr>\n",
       "    <tr>\n",
       "      <th>2</th>\n",
       "      <td>0.260</td>\n",
       "      <td>1.236</td>\n",
       "      <td>1.095</td>\n",
       "      <td>1.112</td>\n",
       "      <td>1.155</td>\n",
       "      <td>0.501</td>\n",
       "    </tr>\n",
       "    <tr>\n",
       "      <th>3</th>\n",
       "      <td>-0.275</td>\n",
       "      <td>-0.676</td>\n",
       "      <td>-0.812</td>\n",
       "      <td>-1.040</td>\n",
       "      <td>0.949</td>\n",
       "      <td>-0.784</td>\n",
       "    </tr>\n",
       "    <tr>\n",
       "      <th>4</th>\n",
       "      <td>0.871</td>\n",
       "      <td>0.238</td>\n",
       "      <td>0.835</td>\n",
       "      <td>0.623</td>\n",
       "      <td>0.846</td>\n",
       "      <td>0.402</td>\n",
       "    </tr>\n",
       "  </tbody>\n",
       "</table>\n",
       "</div>"
      ],
      "text/plain": [
       "   DISSATIS  PRIVILEGE  CHANCE  ADVANCE  CRITISM  PROMOTION\n",
       "0    -1.192     -1.923  -1.505   -0.355    1.771      0.204\n",
       "1    -0.199     -0.177  -0.205   -0.160   -0.182      0.402\n",
       "2     0.260      1.236   1.095    1.112    1.155      0.501\n",
       "3    -0.275     -0.676  -0.812   -1.040    0.949     -0.784\n",
       "4     0.871      0.238   0.835    0.623    0.846      0.402"
      ]
     },
     "execution_count": 15,
     "metadata": {},
     "output_type": "execute_result"
    }
   ],
   "source": [
    "# StandScale한 값 데이터프레임으로 변환\n",
    "df_scaled = pd.DataFrame(nd_scaled, columns=x_cols)\n",
    "df_scaled.head().round(3)"
   ]
  },
  {
   "cell_type": "code",
   "execution_count": 17,
   "metadata": {},
   "outputs": [
    {
     "data": {
      "text/html": [
       "<div>\n",
       "<style scoped>\n",
       "    .dataframe tbody tr th:only-of-type {\n",
       "        vertical-align: middle;\n",
       "    }\n",
       "\n",
       "    .dataframe tbody tr th {\n",
       "        vertical-align: top;\n",
       "    }\n",
       "\n",
       "    .dataframe thead th {\n",
       "        text-align: right;\n",
       "    }\n",
       "</style>\n",
       "<table border=\"1\" class=\"dataframe\">\n",
       "  <thead>\n",
       "    <tr style=\"text-align: right;\">\n",
       "      <th></th>\n",
       "      <th>DISSATIS</th>\n",
       "      <th>PRIVILEGE</th>\n",
       "      <th>CHANCE</th>\n",
       "      <th>ADVANCE</th>\n",
       "      <th>CRITISM</th>\n",
       "      <th>PROMOTION</th>\n",
       "    </tr>\n",
       "  </thead>\n",
       "  <tbody>\n",
       "    <tr>\n",
       "      <th>count</th>\n",
       "      <td>30.000</td>\n",
       "      <td>30.000</td>\n",
       "      <td>30.000</td>\n",
       "      <td>30.000</td>\n",
       "      <td>30.000</td>\n",
       "      <td>30.000</td>\n",
       "    </tr>\n",
       "    <tr>\n",
       "      <th>mean</th>\n",
       "      <td>0.000</td>\n",
       "      <td>-0.000</td>\n",
       "      <td>-0.000</td>\n",
       "      <td>-0.000</td>\n",
       "      <td>0.000</td>\n",
       "      <td>0.000</td>\n",
       "    </tr>\n",
       "    <tr>\n",
       "      <th>std</th>\n",
       "      <td>1.017</td>\n",
       "      <td>1.017</td>\n",
       "      <td>1.017</td>\n",
       "      <td>1.017</td>\n",
       "      <td>1.017</td>\n",
       "      <td>1.017</td>\n",
       "    </tr>\n",
       "    <tr>\n",
       "      <th>min</th>\n",
       "      <td>-2.261</td>\n",
       "      <td>-1.923</td>\n",
       "      <td>-1.938</td>\n",
       "      <td>-2.116</td>\n",
       "      <td>-2.649</td>\n",
       "      <td>-1.773</td>\n",
       "    </tr>\n",
       "    <tr>\n",
       "      <th>25%</th>\n",
       "      <td>-0.619</td>\n",
       "      <td>-0.676</td>\n",
       "      <td>-0.812</td>\n",
       "      <td>-0.624</td>\n",
       "      <td>-0.567</td>\n",
       "      <td>-0.784</td>\n",
       "    </tr>\n",
       "    <tr>\n",
       "      <th>50%</th>\n",
       "      <td>-0.122</td>\n",
       "      <td>-0.136</td>\n",
       "      <td>0.012</td>\n",
       "      <td>-0.111</td>\n",
       "      <td>0.281</td>\n",
       "      <td>-0.191</td>\n",
       "    </tr>\n",
       "    <tr>\n",
       "      <th>75%</th>\n",
       "      <td>0.794</td>\n",
       "      <td>0.779</td>\n",
       "      <td>0.900</td>\n",
       "      <td>0.623</td>\n",
       "      <td>0.538</td>\n",
       "      <td>0.476</td>\n",
       "    </tr>\n",
       "    <tr>\n",
       "      <th>max</th>\n",
       "      <td>1.787</td>\n",
       "      <td>2.483</td>\n",
       "      <td>1.615</td>\n",
       "      <td>2.286</td>\n",
       "      <td>1.771</td>\n",
       "      <td>2.873</td>\n",
       "    </tr>\n",
       "  </tbody>\n",
       "</table>\n",
       "</div>"
      ],
      "text/plain": [
       "       DISSATIS  PRIVILEGE  CHANCE  ADVANCE  CRITISM  PROMOTION\n",
       "count    30.000     30.000  30.000   30.000   30.000     30.000\n",
       "mean      0.000     -0.000  -0.000   -0.000    0.000      0.000\n",
       "std       1.017      1.017   1.017    1.017    1.017      1.017\n",
       "min      -2.261     -1.923  -1.938   -2.116   -2.649     -1.773\n",
       "25%      -0.619     -0.676  -0.812   -0.624   -0.567     -0.784\n",
       "50%      -0.122     -0.136   0.012   -0.111    0.281     -0.191\n",
       "75%       0.794      0.779   0.900    0.623    0.538      0.476\n",
       "max       1.787      2.483   1.615    2.286    1.771      2.873"
      ]
     },
     "execution_count": 17,
     "metadata": {},
     "output_type": "execute_result"
    }
   ],
   "source": [
    "# Scale 변환 데이터 요약 통계량\n",
    "\n",
    "df_scaled.describe().round(3)"
   ]
  },
  {
   "cell_type": "markdown",
   "metadata": {},
   "source": [
    "## 4) 주성분 분석\n",
    "- 변수가 6개이므로, 주성분1~주성분6 생성 및 저장"
   ]
  },
  {
   "cell_type": "code",
   "execution_count": 18,
   "metadata": {},
   "outputs": [
    {
     "name": "stdout",
     "output_type": "stream",
     "text": [
      "PCA Data: \n",
      " [[ 1.676 -2.739 -0.128 -0.503  0.243  0.226]\n",
      " [ 0.218 -0.126  0.431  0.087  0.196  0.194]\n",
      " [-2.105 -0.515 -0.277  0.491 -0.447 -0.632]\n",
      " [ 1.36  -0.861 -0.918  0.032 -0.401  0.441]\n",
      " [-1.512 -0.353 -0.327 -0.329 -0.327  0.212]]\n",
      "Shape: \n",
      " (30, 6)\n"
     ]
    }
   ],
   "source": [
    "pca = PCA(n_components=6)\n",
    "nd_pca = pca.fit_transform(df_scaled)\n",
    "\n",
    "# 생성된 주성분 점수 확인\n",
    "print(\"PCA Data: \\n {}\".format(nd_pca[:5].round(3)))\n",
    "print(\"Shape: \\n {}\".format(nd_pca.shape))"
   ]
  },
  {
   "cell_type": "markdown",
   "metadata": {},
   "source": [
    "### 주성분 점수 저장 및 해석"
   ]
  },
  {
   "cell_type": "code",
   "execution_count": 19,
   "metadata": {},
   "outputs": [
    {
     "data": {
      "text/html": [
       "<div>\n",
       "<style scoped>\n",
       "    .dataframe tbody tr th:only-of-type {\n",
       "        vertical-align: middle;\n",
       "    }\n",
       "\n",
       "    .dataframe tbody tr th {\n",
       "        vertical-align: top;\n",
       "    }\n",
       "\n",
       "    .dataframe thead th {\n",
       "        text-align: right;\n",
       "    }\n",
       "</style>\n",
       "<table border=\"1\" class=\"dataframe\">\n",
       "  <thead>\n",
       "    <tr style=\"text-align: right;\">\n",
       "      <th></th>\n",
       "      <th>Prin1</th>\n",
       "      <th>Prin2</th>\n",
       "      <th>Prin3</th>\n",
       "      <th>Prin4</th>\n",
       "      <th>Prin5</th>\n",
       "      <th>Prin6</th>\n",
       "    </tr>\n",
       "  </thead>\n",
       "  <tbody>\n",
       "    <tr>\n",
       "      <th>0</th>\n",
       "      <td>1.676</td>\n",
       "      <td>-2.739</td>\n",
       "      <td>-0.128</td>\n",
       "      <td>-0.503</td>\n",
       "      <td>0.243</td>\n",
       "      <td>0.226</td>\n",
       "    </tr>\n",
       "    <tr>\n",
       "      <th>1</th>\n",
       "      <td>0.218</td>\n",
       "      <td>-0.126</td>\n",
       "      <td>0.431</td>\n",
       "      <td>0.087</td>\n",
       "      <td>0.196</td>\n",
       "      <td>0.194</td>\n",
       "    </tr>\n",
       "    <tr>\n",
       "      <th>2</th>\n",
       "      <td>-2.105</td>\n",
       "      <td>-0.515</td>\n",
       "      <td>-0.277</td>\n",
       "      <td>0.491</td>\n",
       "      <td>-0.447</td>\n",
       "      <td>-0.632</td>\n",
       "    </tr>\n",
       "    <tr>\n",
       "      <th>3</th>\n",
       "      <td>1.360</td>\n",
       "      <td>-0.861</td>\n",
       "      <td>-0.918</td>\n",
       "      <td>0.032</td>\n",
       "      <td>-0.401</td>\n",
       "      <td>0.441</td>\n",
       "    </tr>\n",
       "    <tr>\n",
       "      <th>4</th>\n",
       "      <td>-1.512</td>\n",
       "      <td>-0.353</td>\n",
       "      <td>-0.327</td>\n",
       "      <td>-0.329</td>\n",
       "      <td>-0.327</td>\n",
       "      <td>0.212</td>\n",
       "    </tr>\n",
       "  </tbody>\n",
       "</table>\n",
       "</div>"
      ],
      "text/plain": [
       "   Prin1  Prin2  Prin3  Prin4  Prin5  Prin6\n",
       "0  1.676 -2.739 -0.128 -0.503  0.243  0.226\n",
       "1  0.218 -0.126  0.431  0.087  0.196  0.194\n",
       "2 -2.105 -0.515 -0.277  0.491 -0.447 -0.632\n",
       "3  1.360 -0.861 -0.918  0.032 -0.401  0.441\n",
       "4 -1.512 -0.353 -0.327 -0.329 -0.327  0.212"
      ]
     },
     "execution_count": 19,
     "metadata": {},
     "output_type": "execute_result"
    }
   ],
   "source": [
    "df_pca = pd.DataFrame(nd_pca, columns=[\"Prin1\", \"Prin2\",\"Prin3\",\"Prin4\",\"Prin5\",\"Prin6\"])\n",
    "df_pca.head().round(3)"
   ]
  },
  {
   "cell_type": "code",
   "execution_count": 20,
   "metadata": {
    "scrolled": true
   },
   "outputs": [
    {
     "data": {
      "text/html": [
       "<div>\n",
       "<style scoped>\n",
       "    .dataframe tbody tr th:only-of-type {\n",
       "        vertical-align: middle;\n",
       "    }\n",
       "\n",
       "    .dataframe tbody tr th {\n",
       "        vertical-align: top;\n",
       "    }\n",
       "\n",
       "    .dataframe thead th {\n",
       "        text-align: right;\n",
       "    }\n",
       "</style>\n",
       "<table border=\"1\" class=\"dataframe\">\n",
       "  <thead>\n",
       "    <tr style=\"text-align: right;\">\n",
       "      <th></th>\n",
       "      <th>DISSATIS</th>\n",
       "      <th>PRIVILEGE</th>\n",
       "      <th>CHANCE</th>\n",
       "      <th>ADVANCE</th>\n",
       "      <th>CRITISM</th>\n",
       "      <th>PROMOTION</th>\n",
       "      <th>Prin1</th>\n",
       "      <th>Prin2</th>\n",
       "      <th>Prin3</th>\n",
       "      <th>Prin4</th>\n",
       "      <th>Prin5</th>\n",
       "      <th>Prin6</th>\n",
       "    </tr>\n",
       "  </thead>\n",
       "  <tbody>\n",
       "    <tr>\n",
       "      <th>0</th>\n",
       "      <td>-1.192</td>\n",
       "      <td>-1.923</td>\n",
       "      <td>-1.505</td>\n",
       "      <td>-0.355</td>\n",
       "      <td>1.771</td>\n",
       "      <td>0.204</td>\n",
       "      <td>1.676</td>\n",
       "      <td>-2.739</td>\n",
       "      <td>-0.128</td>\n",
       "      <td>-0.503</td>\n",
       "      <td>0.243</td>\n",
       "      <td>0.226</td>\n",
       "    </tr>\n",
       "    <tr>\n",
       "      <th>1</th>\n",
       "      <td>-0.199</td>\n",
       "      <td>-0.177</td>\n",
       "      <td>-0.205</td>\n",
       "      <td>-0.160</td>\n",
       "      <td>-0.182</td>\n",
       "      <td>0.402</td>\n",
       "      <td>0.218</td>\n",
       "      <td>-0.126</td>\n",
       "      <td>0.431</td>\n",
       "      <td>0.087</td>\n",
       "      <td>0.196</td>\n",
       "      <td>0.194</td>\n",
       "    </tr>\n",
       "    <tr>\n",
       "      <th>2</th>\n",
       "      <td>0.260</td>\n",
       "      <td>1.236</td>\n",
       "      <td>1.095</td>\n",
       "      <td>1.112</td>\n",
       "      <td>1.155</td>\n",
       "      <td>0.501</td>\n",
       "      <td>-2.105</td>\n",
       "      <td>-0.515</td>\n",
       "      <td>-0.277</td>\n",
       "      <td>0.491</td>\n",
       "      <td>-0.447</td>\n",
       "      <td>-0.632</td>\n",
       "    </tr>\n",
       "    <tr>\n",
       "      <th>3</th>\n",
       "      <td>-0.275</td>\n",
       "      <td>-0.676</td>\n",
       "      <td>-0.812</td>\n",
       "      <td>-1.040</td>\n",
       "      <td>0.949</td>\n",
       "      <td>-0.784</td>\n",
       "      <td>1.360</td>\n",
       "      <td>-0.861</td>\n",
       "      <td>-0.918</td>\n",
       "      <td>0.032</td>\n",
       "      <td>-0.401</td>\n",
       "      <td>0.441</td>\n",
       "    </tr>\n",
       "    <tr>\n",
       "      <th>4</th>\n",
       "      <td>0.871</td>\n",
       "      <td>0.238</td>\n",
       "      <td>0.835</td>\n",
       "      <td>0.623</td>\n",
       "      <td>0.846</td>\n",
       "      <td>0.402</td>\n",
       "      <td>-1.512</td>\n",
       "      <td>-0.353</td>\n",
       "      <td>-0.327</td>\n",
       "      <td>-0.329</td>\n",
       "      <td>-0.327</td>\n",
       "      <td>0.212</td>\n",
       "    </tr>\n",
       "  </tbody>\n",
       "</table>\n",
       "</div>"
      ],
      "text/plain": [
       "   DISSATIS  PRIVILEGE  CHANCE  ADVANCE  CRITISM  PROMOTION  Prin1  Prin2  \\\n",
       "0    -1.192     -1.923  -1.505   -0.355    1.771      0.204  1.676 -2.739   \n",
       "1    -0.199     -0.177  -0.205   -0.160   -0.182      0.402  0.218 -0.126   \n",
       "2     0.260      1.236   1.095    1.112    1.155      0.501 -2.105 -0.515   \n",
       "3    -0.275     -0.676  -0.812   -1.040    0.949     -0.784  1.360 -0.861   \n",
       "4     0.871      0.238   0.835    0.623    0.846      0.402 -1.512 -0.353   \n",
       "\n",
       "   Prin3  Prin4  Prin5  Prin6  \n",
       "0 -0.128 -0.503  0.243  0.226  \n",
       "1  0.431  0.087  0.196  0.194  \n",
       "2 -0.277  0.491 -0.447 -0.632  \n",
       "3 -0.918  0.032 -0.401  0.441  \n",
       "4 -0.327 -0.329 -0.327  0.212  "
      ]
     },
     "execution_count": 20,
     "metadata": {},
     "output_type": "execute_result"
    }
   ],
   "source": [
    "# 주성분 분석용 데이터와 주성분 점수 결합\n",
    "df_scaled_pca = df_scaled.join(df_pca)\n",
    "df_scaled_pca.head().round(3)"
   ]
  },
  {
   "cell_type": "markdown",
   "metadata": {},
   "source": [
    "### 고유값 확인 및 주성분 개수 결정"
   ]
  },
  {
   "cell_type": "code",
   "execution_count": 22,
   "metadata": {},
   "outputs": [],
   "source": [
    "# 주성분 분석 통계량 저장: 주성분 번호, EigenValue, EigenValue ratio\n",
    "\n",
    "df_pca_stat = pd.DataFrame()\n",
    "df_pca_stat[\"PrinNo\"] = [i for i in range(1,7)]\n",
    "df_pca_stat[\"EigenValues\"] = pca.explained_variance_\n",
    "df_pca_stat[\"EigenValueRatio\"] = pca.explained_variance_ratio_\n",
    "df_pca_stat[\"CumEigenValueRatio\"] = np.cumsum(pca.explained_variance_ratio_)\n",
    "\n",
    "# 중요한 것을 끄집어낼 때 20% 정도는 필요가 없는 것으로 판단해서 버려도 괜찮은 것으로 본다."
   ]
  },
  {
   "cell_type": "code",
   "execution_count": 23,
   "metadata": {},
   "outputs": [
    {
     "data": {
      "text/html": [
       "<div>\n",
       "<style scoped>\n",
       "    .dataframe tbody tr th:only-of-type {\n",
       "        vertical-align: middle;\n",
       "    }\n",
       "\n",
       "    .dataframe tbody tr th {\n",
       "        vertical-align: top;\n",
       "    }\n",
       "\n",
       "    .dataframe thead th {\n",
       "        text-align: right;\n",
       "    }\n",
       "</style>\n",
       "<table border=\"1\" class=\"dataframe\">\n",
       "  <thead>\n",
       "    <tr style=\"text-align: right;\">\n",
       "      <th></th>\n",
       "      <th>PrinNo</th>\n",
       "      <th>EigenValues</th>\n",
       "      <th>EigenValueRatio</th>\n",
       "      <th>CumEigenValueRatio</th>\n",
       "    </tr>\n",
       "  </thead>\n",
       "  <tbody>\n",
       "    <tr>\n",
       "      <th>0</th>\n",
       "      <td>1</td>\n",
       "      <td>3.279</td>\n",
       "      <td>0.528</td>\n",
       "      <td>0.528</td>\n",
       "    </tr>\n",
       "    <tr>\n",
       "      <th>1</th>\n",
       "      <td>2</td>\n",
       "      <td>1.041</td>\n",
       "      <td>0.168</td>\n",
       "      <td>0.696</td>\n",
       "    </tr>\n",
       "    <tr>\n",
       "      <th>2</th>\n",
       "      <td>3</td>\n",
       "      <td>0.789</td>\n",
       "      <td>0.127</td>\n",
       "      <td>0.823</td>\n",
       "    </tr>\n",
       "    <tr>\n",
       "      <th>3</th>\n",
       "      <td>4</td>\n",
       "      <td>0.572</td>\n",
       "      <td>0.092</td>\n",
       "      <td>0.915</td>\n",
       "    </tr>\n",
       "    <tr>\n",
       "      <th>4</th>\n",
       "      <td>5</td>\n",
       "      <td>0.328</td>\n",
       "      <td>0.053</td>\n",
       "      <td>0.968</td>\n",
       "    </tr>\n",
       "    <tr>\n",
       "      <th>5</th>\n",
       "      <td>6</td>\n",
       "      <td>0.198</td>\n",
       "      <td>0.032</td>\n",
       "      <td>1.000</td>\n",
       "    </tr>\n",
       "  </tbody>\n",
       "</table>\n",
       "</div>"
      ],
      "text/plain": [
       "   PrinNo  EigenValues  EigenValueRatio  CumEigenValueRatio\n",
       "0       1        3.279            0.528               0.528\n",
       "1       2        1.041            0.168               0.696\n",
       "2       3        0.789            0.127               0.823\n",
       "3       4        0.572            0.092               0.915\n",
       "4       5        0.328            0.053               0.968\n",
       "5       6        0.198            0.032               1.000"
      ]
     },
     "execution_count": 23,
     "metadata": {},
     "output_type": "execute_result"
    }
   ],
   "source": [
    "df_pca_stat.round(3)"
   ]
  },
  {
   "cell_type": "markdown",
   "metadata": {},
   "source": [
    "- 직접 주성분선택: 상관계수 기준(고유값>=1)2개, 공분산 기준(고유값 누적비율 >= 0.8) 3개"
   ]
  },
  {
   "cell_type": "markdown",
   "metadata": {},
   "source": [
    "### Scree Plot 확인 및 주성분 개수 결정"
   ]
  },
  {
   "cell_type": "code",
   "execution_count": 26,
   "metadata": {},
   "outputs": [
    {
     "data": {
      "text/plain": [
       "<matplotlib.legend.Legend at 0x7fd1724a1070>"
      ]
     },
     "execution_count": 26,
     "metadata": {},
     "output_type": "execute_result"
    },
    {
     "data": {
      "image/png": "[encoded data removed]",
      "text/plain": [
       "<Figure size 432x288 with 1 Axes>"
      ]
     },
     "metadata": {
      "needs_background": "light"
     },
     "output_type": "display_data"
    }
   ],
   "source": [
    "plt.plot(df_pca_stat[\"PrinNo\"], df_pca_stat[\"EigenValues\"], label=\"고유값\")\n",
    "\n",
    "plt.ylabel(\"고유값(EigenValue)\")\n",
    "plt.xlabel(\"주성분 번호(PrinNo)\")\n",
    "plt.legend(loc=\"best\")"
   ]
  },
  {
   "cell_type": "markdown",
   "metadata": {},
   "source": [
    "※ 주성분 번호 \"2\"선택 -> 주성분 갯수 2개 결정"
   ]
  },
  {
   "cell_type": "code",
   "execution_count": 28,
   "metadata": {},
   "outputs": [
    {
     "data": {
      "text/plain": [
       "<matplotlib.legend.Legend at 0x7fd17219a730>"
      ]
     },
     "execution_count": 28,
     "metadata": {},
     "output_type": "execute_result"
    },
    {
     "data": {
      "image/png": "[encoded data removed]",
      "text/plain": [
       "<Figure size 432x288 with 1 Axes>"
      ]
     },
     "metadata": {
      "needs_background": "light"
     },
     "output_type": "display_data"
    }
   ],
   "source": [
    "# 고유값 비율과 누적 고유값 입력\n",
    "plt.plot(df_pca_stat[\"PrinNo\"], df_pca_stat[\"EigenValueRatio\"], label=\"고유값 비율\")\n",
    "plt.plot(df_pca_stat[\"PrinNo\"], df_pca_stat[\"CumEigenValueRatio\"], label=\"누적 고유값\")\n",
    "\n",
    "plt.ylabel(\"고유값 비율\")\n",
    "plt.xlabel(\"주성분 번호\")\n",
    "plt.legend(loc=\"best\")"
   ]
  },
  {
   "cell_type": "markdown",
   "metadata": {},
   "source": [
    "### 5) 고유벡터 확인 및 해석"
   ]
  },
  {
   "cell_type": "code",
   "execution_count": 30,
   "metadata": {},
   "outputs": [
    {
     "data": {
      "text/html": [
       "<div>\n",
       "<style scoped>\n",
       "    .dataframe tbody tr th:only-of-type {\n",
       "        vertical-align: middle;\n",
       "    }\n",
       "\n",
       "    .dataframe tbody tr th {\n",
       "        vertical-align: top;\n",
       "    }\n",
       "\n",
       "    .dataframe thead th {\n",
       "        text-align: right;\n",
       "    }\n",
       "</style>\n",
       "<table border=\"1\" class=\"dataframe\">\n",
       "  <thead>\n",
       "    <tr style=\"text-align: right;\">\n",
       "      <th></th>\n",
       "      <th>Feature</th>\n",
       "      <th>Prin1</th>\n",
       "      <th>Prin2</th>\n",
       "      <th>Prin3</th>\n",
       "      <th>Prin4</th>\n",
       "      <th>Prin5</th>\n",
       "      <th>Prin6</th>\n",
       "    </tr>\n",
       "  </thead>\n",
       "  <tbody>\n",
       "    <tr>\n",
       "      <th>0</th>\n",
       "      <td>DISSATIS</td>\n",
       "      <td>0.439</td>\n",
       "      <td>-0.313</td>\n",
       "      <td>0.445</td>\n",
       "      <td>0.316</td>\n",
       "      <td>-0.192</td>\n",
       "      <td>-0.612</td>\n",
       "    </tr>\n",
       "    <tr>\n",
       "      <th>1</th>\n",
       "      <td>PRIVILEGE</td>\n",
       "      <td>0.395</td>\n",
       "      <td>-0.309</td>\n",
       "      <td>0.217</td>\n",
       "      <td>-0.815</td>\n",
       "      <td>-0.038</td>\n",
       "      <td>0.190</td>\n",
       "    </tr>\n",
       "    <tr>\n",
       "      <th>2</th>\n",
       "      <td>CHANCE</td>\n",
       "      <td>0.461</td>\n",
       "      <td>-0.217</td>\n",
       "      <td>-0.272</td>\n",
       "      <td>0.225</td>\n",
       "      <td>0.776</td>\n",
       "      <td>0.118</td>\n",
       "    </tr>\n",
       "    <tr>\n",
       "      <th>3</th>\n",
       "      <td>ADVANCE</td>\n",
       "      <td>0.493</td>\n",
       "      <td>0.116</td>\n",
       "      <td>0.006</td>\n",
       "      <td>0.365</td>\n",
       "      <td>-0.460</td>\n",
       "      <td>0.631</td>\n",
       "    </tr>\n",
       "    <tr>\n",
       "      <th>4</th>\n",
       "      <td>CRITISM</td>\n",
       "      <td>0.225</td>\n",
       "      <td>0.802</td>\n",
       "      <td>0.457</td>\n",
       "      <td>-0.100</td>\n",
       "      <td>0.289</td>\n",
       "      <td>-0.058</td>\n",
       "    </tr>\n",
       "    <tr>\n",
       "      <th>5</th>\n",
       "      <td>PROMOTION</td>\n",
       "      <td>0.381</td>\n",
       "      <td>0.321</td>\n",
       "      <td>-0.687</td>\n",
       "      <td>-0.206</td>\n",
       "      <td>-0.255</td>\n",
       "      <td>-0.416</td>\n",
       "    </tr>\n",
       "  </tbody>\n",
       "</table>\n",
       "</div>"
      ],
      "text/plain": [
       "     Feature  Prin1  Prin2  Prin3  Prin4  Prin5  Prin6\n",
       "0   DISSATIS  0.439 -0.313  0.445  0.316 -0.192 -0.612\n",
       "1  PRIVILEGE  0.395 -0.309  0.217 -0.815 -0.038  0.190\n",
       "2     CHANCE  0.461 -0.217 -0.272  0.225  0.776  0.118\n",
       "3    ADVANCE  0.493  0.116  0.006  0.365 -0.460  0.631\n",
       "4    CRITISM  0.225  0.802  0.457 -0.100  0.289 -0.058\n",
       "5  PROMOTION  0.381  0.321 -0.687 -0.206 -0.255 -0.416"
      ]
     },
     "execution_count": 30,
     "metadata": {},
     "output_type": "execute_result"
    }
   ],
   "source": [
    "# 주성분 분석 데이터의 변수 이름 저장\n",
    "x_cols = pd.DataFrame({\"Feature\": df_raw_x.columns})\n",
    "\n",
    "# 파이썬 PCA분석시 SVD(Singular value decomposition) 연산 방식의 차이 반영\n",
    "df_eigenvector = pd.concat([x_cols, pd.DataFrame(pca.components_.T * -1,\n",
    "                           columns=[\"Prin1\", \"Prin2\",\"Prin3\",\n",
    "                                      \"Prin4\",\"Prin5\",\"Prin6\"])], axis=1)\n",
    "df_eigenvector.round(3)"
   ]
  },
  {
   "cell_type": "markdown",
   "metadata": {},
   "source": [
    "※ 고유값 확인 및 주성분 해석\n",
    "- 1주성분은 CHANCE와 ADVANCE의 양의 상관석\n",
    "- 2주성분은 불만처리와 특권 허용 간의 음의 연관성 확인"
   ]
  },
  {
   "cell_type": "code",
   "execution_count": 31,
   "metadata": {},
   "outputs": [
    {
     "data": {
      "text/plain": [
       "<seaborn.axisgrid.PairGrid at 0x7fd17183e2e0>"
      ]
     },
     "execution_count": 31,
     "metadata": {},
     "output_type": "execute_result"
    },
    {
     "data": {
      "image/png": "[encoded data removed]",
      "text/plain": [
       "<Figure size 1080x1080 with 42 Axes>"
      ]
     },
     "metadata": {
      "needs_background": "light"
     },
     "output_type": "display_data"
    }
   ],
   "source": [
    "sns.pairplot(df_pca)"
   ]
  },
  {
   "cell_type": "code",
   "execution_count": 33,
   "metadata": {},
   "outputs": [
    {
     "data": {
      "text/html": [
       "<div>\n",
       "<style scoped>\n",
       "    .dataframe tbody tr th:only-of-type {\n",
       "        vertical-align: middle;\n",
       "    }\n",
       "\n",
       "    .dataframe tbody tr th {\n",
       "        vertical-align: top;\n",
       "    }\n",
       "\n",
       "    .dataframe thead th {\n",
       "        text-align: right;\n",
       "    }\n",
       "</style>\n",
       "<table border=\"1\" class=\"dataframe\">\n",
       "  <thead>\n",
       "    <tr style=\"text-align: right;\">\n",
       "      <th></th>\n",
       "      <th>Prin1</th>\n",
       "      <th>Prin2</th>\n",
       "      <th>Prin3</th>\n",
       "      <th>Prin4</th>\n",
       "      <th>Prin5</th>\n",
       "      <th>Prin6</th>\n",
       "    </tr>\n",
       "  </thead>\n",
       "  <tbody>\n",
       "    <tr>\n",
       "      <th>Prin1</th>\n",
       "      <td>1.0</td>\n",
       "      <td>0.0</td>\n",
       "      <td>-0.0</td>\n",
       "      <td>-0.0</td>\n",
       "      <td>-0.0</td>\n",
       "      <td>0.0</td>\n",
       "    </tr>\n",
       "    <tr>\n",
       "      <th>Prin2</th>\n",
       "      <td>0.0</td>\n",
       "      <td>1.0</td>\n",
       "      <td>0.0</td>\n",
       "      <td>-0.0</td>\n",
       "      <td>-0.0</td>\n",
       "      <td>0.0</td>\n",
       "    </tr>\n",
       "    <tr>\n",
       "      <th>Prin3</th>\n",
       "      <td>-0.0</td>\n",
       "      <td>0.0</td>\n",
       "      <td>1.0</td>\n",
       "      <td>0.0</td>\n",
       "      <td>0.0</td>\n",
       "      <td>-0.0</td>\n",
       "    </tr>\n",
       "    <tr>\n",
       "      <th>Prin4</th>\n",
       "      <td>-0.0</td>\n",
       "      <td>-0.0</td>\n",
       "      <td>0.0</td>\n",
       "      <td>1.0</td>\n",
       "      <td>-0.0</td>\n",
       "      <td>-0.0</td>\n",
       "    </tr>\n",
       "    <tr>\n",
       "      <th>Prin5</th>\n",
       "      <td>-0.0</td>\n",
       "      <td>-0.0</td>\n",
       "      <td>0.0</td>\n",
       "      <td>-0.0</td>\n",
       "      <td>1.0</td>\n",
       "      <td>-0.0</td>\n",
       "    </tr>\n",
       "    <tr>\n",
       "      <th>Prin6</th>\n",
       "      <td>0.0</td>\n",
       "      <td>0.0</td>\n",
       "      <td>-0.0</td>\n",
       "      <td>-0.0</td>\n",
       "      <td>-0.0</td>\n",
       "      <td>1.0</td>\n",
       "    </tr>\n",
       "  </tbody>\n",
       "</table>\n",
       "</div>"
      ],
      "text/plain": [
       "       Prin1  Prin2  Prin3  Prin4  Prin5  Prin6\n",
       "Prin1    1.0    0.0   -0.0   -0.0   -0.0    0.0\n",
       "Prin2    0.0    1.0    0.0   -0.0   -0.0    0.0\n",
       "Prin3   -0.0    0.0    1.0    0.0    0.0   -0.0\n",
       "Prin4   -0.0   -0.0    0.0    1.0   -0.0   -0.0\n",
       "Prin5   -0.0   -0.0    0.0   -0.0    1.0   -0.0\n",
       "Prin6    0.0    0.0   -0.0   -0.0   -0.0    1.0"
      ]
     },
     "execution_count": 33,
     "metadata": {},
     "output_type": "execute_result"
    }
   ],
   "source": [
    "df_pca.corr().round(3)\n",
    "\n",
    "# 주성분은 서로 독립적. 상관계수 = 0"
   ]
  },
  {
   "cell_type": "markdown",
   "metadata": {},
   "source": [
    "## 5) 주성분 상관/회귀분석: 회귀분석"
   ]
  },
  {
   "cell_type": "markdown",
   "metadata": {},
   "source": [
    "### 1) 다중선형 회귀분석: 원천 데이터 활용"
   ]
  },
  {
   "cell_type": "code",
   "execution_count": 35,
   "metadata": {},
   "outputs": [
    {
     "name": "stdout",
     "output_type": "stream",
     "text": [
      "                            OLS Regression Results                            \n",
      "==============================================================================\n",
      "Dep. Variable:                   EVAL   R-squared:                       0.733\n",
      "Model:                            OLS   Adj. R-squared:                  0.663\n",
      "Method:                 Least Squares   F-statistic:                     10.50\n",
      "Date:                Wed, 03 Mar 2021   Prob (F-statistic):           1.24e-05\n",
      "Time:                        15:18:37   Log-Likelihood:                -97.250\n",
      "No. Observations:                  30   AIC:                             208.5\n",
      "Df Residuals:                      23   BIC:                             218.3\n",
      "Df Model:                           6                                         \n",
      "Covariance Type:            nonrobust                                         \n",
      "==============================================================================\n",
      "                 coef    std err          t      P>|t|      [0.025      0.975]\n",
      "------------------------------------------------------------------------------\n",
      "const         10.7871     11.589      0.931      0.362     -13.187      34.761\n",
      "DISSATIS       0.6132      0.161      3.809      0.001       0.280       0.946\n",
      "PRIVILEGE     -0.0731      0.136     -0.538      0.596      -0.354       0.208\n",
      "CHANCE         0.3203      0.169      1.901      0.070      -0.028       0.669\n",
      "ADVANCE        0.0817      0.221      0.369      0.715      -0.376       0.540\n",
      "CRITISM        0.0384      0.147      0.261      0.796      -0.266       0.342\n",
      "PROMOTION     -0.2171      0.178     -1.218      0.236      -0.586       0.152\n",
      "==============================================================================\n",
      "Omnibus:                        2.386   Durbin-Watson:                   1.795\n",
      "Prob(Omnibus):                  0.303   Jarque-Bera (JB):                1.255\n",
      "Skew:                          -0.081   Prob(JB):                        0.534\n",
      "Kurtosis:                       2.011   Cond. No.                     1.34e+03\n",
      "==============================================================================\n",
      "\n",
      "Notes:\n",
      "[1] Standard Errors assume that the covariance matrix of the errors is correctly specified.\n",
      "[2] The condition number is large, 1.34e+03. This might indicate that there are\n",
      "strong multicollinearity or other numerical problems.\n"
     ]
    }
   ],
   "source": [
    "# 원 데이터에 절편 추가\n",
    "df_raw_x_const = sm.add_constant(df_raw_x)\n",
    "\n",
    "# 회귀모델 생성\n",
    "reg_model = sm.OLS(df_raw_y, df_raw_x_const)\n",
    "\n",
    "# 회귀모델 적합\n",
    "reg_model = reg_model.fit()\n",
    "\n",
    "# 모델 성능 확인\n",
    "print(reg_model.summary())"
   ]
  },
  {
   "cell_type": "markdown",
   "metadata": {},
   "source": [
    "- Adj-R^2는 66.3%의 적확도\n",
    "- p-value가 높은게 있어 보인다."
   ]
  },
  {
   "cell_type": "markdown",
   "metadata": {},
   "source": [
    "### 2) Scale변환 데이터 활용"
   ]
  },
  {
   "cell_type": "code",
   "execution_count": 38,
   "metadata": {},
   "outputs": [
    {
     "name": "stdout",
     "output_type": "stream",
     "text": [
      "                            OLS Regression Results                            \n",
      "==============================================================================\n",
      "Dep. Variable:                   EVAL   R-squared:                       0.733\n",
      "Model:                            OLS   Adj. R-squared:                  0.663\n",
      "Method:                 Least Squares   F-statistic:                     10.50\n",
      "Date:                Wed, 03 Mar 2021   Prob (F-statistic):           1.24e-05\n",
      "Time:                        15:21:17   Log-Likelihood:                -97.250\n",
      "No. Observations:                  30   AIC:                             208.5\n",
      "Df Residuals:                      23   BIC:                             218.3\n",
      "Df Model:                           6                                         \n",
      "Covariance Type:            nonrobust                                         \n",
      "==============================================================================\n",
      "                 coef    std err          t      P>|t|      [0.025      0.975]\n",
      "------------------------------------------------------------------------------\n",
      "const         64.6333      1.290     50.087      0.000      61.964      67.303\n",
      "DISSATIS       8.0272      2.107      3.809      0.001       3.668      12.387\n",
      "PRIVILEGE     -0.8788      1.633     -0.538      0.596      -4.256       2.499\n",
      "CHANCE         3.6965      1.945      1.901      0.070      -0.326       7.719\n",
      "ADVANCE        0.8355      2.264      0.369      0.715      -3.848       5.519\n",
      "CRITISM        0.3734      1.430      0.261      0.796      -2.585       3.332\n",
      "PROMOTION     -2.1957      1.803     -1.218      0.236      -5.925       1.534\n",
      "==============================================================================\n",
      "Omnibus:                        2.386   Durbin-Watson:                   1.795\n",
      "Prob(Omnibus):                  0.303   Jarque-Bera (JB):                1.255\n",
      "Skew:                          -0.081   Prob(JB):                        0.534\n",
      "Kurtosis:                       2.011   Cond. No.                         4.07\n",
      "==============================================================================\n",
      "\n",
      "Notes:\n",
      "[1] Standard Errors assume that the covariance matrix of the errors is correctly specified.\n"
     ]
    }
   ],
   "source": [
    "# 상수항 추가\n",
    "df_scaled_const = sm.add_constant(df_scaled)\n",
    "\n",
    "reg_model = sm.OLS(df_raw_y, df_scaled_const)\n",
    "reg_model = reg_model.fit()\n",
    "\n",
    "print(reg_model.summary())"
   ]
  },
  {
   "cell_type": "markdown",
   "metadata": {},
   "source": [
    "### 3) 다중선형 주성분 회귀분석: 주성분 점수 데이터 활용"
   ]
  },
  {
   "cell_type": "code",
   "execution_count": 40,
   "metadata": {},
   "outputs": [],
   "source": [
    "x_var = [\"Prin1\", \"Prin2\", \"Prin3\"]"
   ]
  },
  {
   "cell_type": "code",
   "execution_count": 41,
   "metadata": {},
   "outputs": [
    {
     "name": "stdout",
     "output_type": "stream",
     "text": [
      "                            OLS Regression Results                            \n",
      "==============================================================================\n",
      "Dep. Variable:                   EVAL   R-squared:                       0.624\n",
      "Model:                            OLS   Adj. R-squared:                  0.580\n",
      "Method:                 Least Squares   F-statistic:                     14.36\n",
      "Date:                Wed, 03 Mar 2021   Prob (F-statistic):           1.02e-05\n",
      "Time:                        15:22:32   Log-Likelihood:                -102.38\n",
      "No. Observations:                  30   AIC:                             212.8\n",
      "Df Residuals:                      26   BIC:                             218.4\n",
      "Df Model:                           3                                         \n",
      "Covariance Type:            nonrobust                                         \n",
      "==============================================================================\n",
      "                 coef    std err          t      P>|t|      [0.025      0.975]\n",
      "------------------------------------------------------------------------------\n",
      "const         64.6333      1.440     44.890      0.000      61.674      67.593\n",
      "Prin1         -4.5451      0.809     -5.620      0.000      -6.208      -2.883\n",
      "Prin2          3.3489      1.435      2.333      0.028       0.399       6.299\n",
      "Prin3         -4.0601      1.648     -2.463      0.021      -7.448      -0.672\n",
      "==============================================================================\n",
      "Omnibus:                        1.252   Durbin-Watson:                   2.154\n",
      "Prob(Omnibus):                  0.535   Jarque-Bera (JB):                1.044\n",
      "Skew:                          -0.237   Prob(JB):                        0.593\n",
      "Kurtosis:                       2.219   Cond. No.                         2.04\n",
      "==============================================================================\n",
      "\n",
      "Notes:\n",
      "[1] Standard Errors assume that the covariance matrix of the errors is correctly specified.\n"
     ]
    }
   ],
   "source": [
    "df_scaled_const = sm.add_constant(df_pca[x_var])\n",
    "\n",
    "reg_model = sm.OLS(df_raw_y, df_scaled_const)\n",
    "reg_model = reg_model.fit()\n",
    "\n",
    "print(reg_model.summary())"
   ]
  },
  {
   "cell_type": "markdown",
   "metadata": {},
   "source": [
    "- 변수 3개로 58%의 설명력을 갖는다. 단 P-value가 전부 유의미하게 나왔다.\n",
    "- 전체 설명변수 이용한 모델보다 3개 주성분을 이용한 회귀모델의 설명력이 약 11% 저하되었다.\n",
    "    - 기여율이 약한 주성분 3개르 제외하여 설명력 저하됨.\n",
    "- 주성분 회귀분석의 회귀계수는 모두 유의하다.\n",
    "\n",
    "\n",
    "- 만약 해석 시에는 주성분 분석한 것임을 고려해서 해석을 진행해야 한다."
   ]
  },
  {
   "cell_type": "code",
   "execution_count": null,
   "metadata": {},
   "outputs": [],
   "source": []
  }
 ],
 "metadata": {
  "kernelspec": {
   "display_name": "Python 3",
   "language": "python",
   "name": "python3"
  },
  "language_info": {
   "codemirror_mode": {
    "name": "ipython",
    "version": 3
   },
   "file_extension": ".py",
   "mimetype": "text/x-python",
   "name": "python",
   "nbconvert_exporter": "python",
   "pygments_lexer": "ipython3",
   "version": "3.8.5"
  }
 },
 "nbformat": 4,
 "nbformat_minor": 4
}
