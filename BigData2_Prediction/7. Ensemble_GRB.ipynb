{
 "cells": [
  {
   "cell_type": "code",
   "execution_count": 1,
   "metadata": {},
   "outputs": [],
   "source": [
    "import pandas as pd\n",
    "import numpy as np\n",
    "\n",
    "# 데이터 시각화 패키지\n",
    "import matplotlib\n",
    "import matplotlib.pyplot as plt\n",
    "import seaborn as sns\n",
    "\n",
    "# 가설검정 및 통계 분석 패키지\n",
    "from scipy import stats\n",
    "\n",
    "# 선형모델 formula ( y ~ x1 + x2 + ...)\n",
    "import statsmodels.formula.api as smf\n",
    "from statsmodels.formula.api import ols\n",
    "\n",
    "from sklearn.linear_model import LinearRegression\n",
    "from statsmodels.api import qqplot, add_constant\n",
    "\n",
    "from statsmodels.stats.proportion import proportions_ztest\n",
    "from statsmodels.stats.anova import anova_lm\n",
    "\n",
    "# 변수 선택법(후진제거법)\n",
    "from sklearn.feature_selection import RFE\n",
    "\n",
    "# 다중공선성 확인\n",
    "from statsmodels.stats.outliers_influence import variance_inflation_factor\n",
    "\n",
    "# Scale변환 -> 표준화 회귀계수 산출\n",
    "## coefficient를 표준화해서 비교해본다.\n",
    "from sklearn.preprocessing import StandardScaler\n",
    "\n",
    "# grhpviz\n",
    "from sklearn.tree import export_graphviz\n",
    "\n",
    "import graphviz\n",
    "\n",
    "from sklearn.model_selection import train_test_split\n",
    "\n",
    "# 앙상블 모델\n",
    "from sklearn.ensemble import GradientBoostingRegressor as GBR\n",
    "\n",
    "from sklearn.model_selection import GridSearchCV\n",
    "\n",
    "\n",
    "# 주피터 노트북 사용시 그래프 자동 출력 옵션\n",
    "%matplotlib inline\n",
    "\n",
    "# 폰트 설정\n",
    "matplotlib.rc('font', family = \"NanumGothic\")\n",
    "plt.rc('font', family = \"NanumGothic\")\n",
    "plt.rcParams[\"font.family\"] = 'NanumGothic'\n",
    "plt.rcParams['axes.unicode_minus'] = False"
   ]
  },
  {
   "cell_type": "code",
   "execution_count": 2,
   "metadata": {},
   "outputs": [],
   "source": [
    "df_raw = pd.read_csv(\"./Data/체질검사.csv\")\n",
    "\n",
    "df_raw_y = df_raw[\"FAT\"]\n",
    "df_raw_x = df_raw.drop(\"FAT\", axis=1, inplace = False)"
   ]
  },
  {
   "cell_type": "markdown",
   "metadata": {},
   "source": [
    "- train_test_split (7:3으로 트레인과 테스트 데이터가 나눠진다.)"
   ]
  },
  {
   "cell_type": "code",
   "execution_count": 3,
   "metadata": {},
   "outputs": [
    {
     "name": "stdout",
     "output_type": "stream",
     "text": [
      "train data X size: (176, 13)\n",
      "train data Y size: (176,)\n",
      "test data X size: (76, 13)\n",
      "test data Y size: (76,)\n"
     ]
    }
   ],
   "source": [
    "df_train_x, df_test_x, df_train_y, df_test_y = train_test_split(df_raw_x, df_raw_y, \n",
    "                                                                test_size=0.3, random_state=1234)\n",
    "\n",
    "print(\"train data X size: {}\".format(df_train_x.shape))\n",
    "print(\"train data Y size: {}\".format(df_train_y.shape))\n",
    "print(\"test data X size: {}\".format(df_test_x.shape))\n",
    "print(\"test data Y size: {}\".format(df_test_y.shape))"
   ]
  },
  {
   "cell_type": "markdown",
   "metadata": {},
   "source": [
    "# Gradient Boosting Regression"
   ]
  },
  {
   "cell_type": "code",
   "execution_count": 1,
   "metadata": {
    "collapsed": true
   },
   "outputs": [
    {
     "ename": "NameError",
     "evalue": "name 'GBR' is not defined",
     "output_type": "error",
     "traceback": [
      "\u001b[0;31m---------------------------------------------------------------------------\u001b[0m",
      "\u001b[0;31mNameError\u001b[0m                                 Traceback (most recent call last)",
      "\u001b[0;32m<ipython-input-1-225f7e9f3698>\u001b[0m in \u001b[0;36m<module>\u001b[0;34m\u001b[0m\n\u001b[0;32m----> 1\u001b[0;31m \u001b[0mgb_uncustomized\u001b[0m \u001b[0;34m=\u001b[0m \u001b[0mGBR\u001b[0m\u001b[0;34m(\u001b[0m\u001b[0mrandom_state\u001b[0m\u001b[0;34m=\u001b[0m\u001b[0;36m1234\u001b[0m\u001b[0;34m)\u001b[0m\u001b[0;34m\u001b[0m\u001b[0;34m\u001b[0m\u001b[0m\n\u001b[0m\u001b[1;32m      2\u001b[0m \u001b[0mgb_uncustomized\u001b[0m\u001b[0;34m.\u001b[0m\u001b[0mfit\u001b[0m\u001b[0;34m(\u001b[0m\u001b[0mdf_train_x\u001b[0m\u001b[0;34m,\u001b[0m \u001b[0mdf_train_y\u001b[0m\u001b[0;34m)\u001b[0m\u001b[0;34m\u001b[0m\u001b[0;34m\u001b[0m\u001b[0m\n\u001b[1;32m      3\u001b[0m \u001b[0;34m\u001b[0m\u001b[0m\n\u001b[1;32m      4\u001b[0m \u001b[0;31m# Train 데이터 설명력\u001b[0m\u001b[0;34m\u001b[0m\u001b[0;34m\u001b[0m\u001b[0;34m\u001b[0m\u001b[0m\n\u001b[1;32m      5\u001b[0m \u001b[0mprint\u001b[0m\u001b[0;34m(\u001b[0m\u001b[0;34m\"Score on training set: {:.3f}\"\u001b[0m\u001b[0;34m.\u001b[0m\u001b[0mformat\u001b[0m\u001b[0;34m(\u001b[0m\u001b[0mgb_uncustomized\u001b[0m\u001b[0;34m.\u001b[0m\u001b[0mscore\u001b[0m\u001b[0;34m(\u001b[0m\u001b[0mdf_train_x\u001b[0m\u001b[0;34m,\u001b[0m \u001b[0mdf_train_y\u001b[0m\u001b[0;34m)\u001b[0m\u001b[0;34m)\u001b[0m\u001b[0;34m)\u001b[0m\u001b[0;34m\u001b[0m\u001b[0;34m\u001b[0m\u001b[0m\n",
      "\u001b[0;31mNameError\u001b[0m: name 'GBR' is not defined"
     ]
    }
   ],
   "source": [
    "gb_uncustomized = GBR(random_state=1234)\n",
    "gb_uncustomized.fit(df_train_x, df_train_y)\n",
    "\n",
    "# Train 데이터 설명력\n",
    "print(\"Score on training set: {:.3f}\".format(gb_uncustomized.score(df_train_x, df_train_y)))\n",
    "\n",
    "#test데이터 설명력\n",
    "print(\"Score on test set: {:.3f}\".format(gb_uncustomized.score(df_test_x, df_test_y)))"
   ]
  },
  {
   "cell_type": "markdown",
   "metadata": {},
   "source": [
    "※ test데이터의 설명력이 상대적으로 낮음: 과대적합"
   ]
  },
  {
   "cell_type": "markdown",
   "metadata": {},
   "source": [
    "## 2. 파라미터 변경"
   ]
  },
  {
   "cell_type": "markdown",
   "metadata": {},
   "source": [
    "- n_estimators: 트리 수 변경에 따른 모델 성능"
   ]
  },
  {
   "cell_type": "code",
   "execution_count": 7,
   "metadata": {},
   "outputs": [],
   "source": [
    "train_score = []; test_score = []\n",
    "\n",
    "para_n_tree = [n_tree * 10 for n_tree in range(1, 11)]\n",
    "\n",
    "for v_n_estimators in para_n_tree:\n",
    "    gb = GBR(random_state=1234, n_estimators = v_n_estimators)\n",
    "    gb.fit(df_train_x, df_train_y)\n",
    "    train_score.append(gb.score(df_train_x, df_train_y))\n",
    "    test_score.append(gb.score(df_test_x, df_test_y))\n",
    "    \n",
    "# 결과 저장\n",
    "df_score_leaf = pd.DataFrame()\n",
    "df_score_leaf[\"n_estimators\"] = para_n_tree\n",
    "df_score_leaf[\"TrainScore\"] = train_score\n",
    "df_score_leaf[\"TestScore\"] = test_score"
   ]
  },
  {
   "cell_type": "code",
   "execution_count": 8,
   "metadata": {},
   "outputs": [
    {
     "data": {
      "text/html": [
       "<div>\n",
       "<style scoped>\n",
       "    .dataframe tbody tr th:only-of-type {\n",
       "        vertical-align: middle;\n",
       "    }\n",
       "\n",
       "    .dataframe tbody tr th {\n",
       "        vertical-align: top;\n",
       "    }\n",
       "\n",
       "    .dataframe thead th {\n",
       "        text-align: right;\n",
       "    }\n",
       "</style>\n",
       "<table border=\"1\" class=\"dataframe\">\n",
       "  <thead>\n",
       "    <tr style=\"text-align: right;\">\n",
       "      <th></th>\n",
       "      <th>n_estimators</th>\n",
       "      <th>TrainScore</th>\n",
       "      <th>TestScore</th>\n",
       "    </tr>\n",
       "  </thead>\n",
       "  <tbody>\n",
       "    <tr>\n",
       "      <th>0</th>\n",
       "      <td>10</td>\n",
       "      <td>0.712</td>\n",
       "      <td>0.512</td>\n",
       "    </tr>\n",
       "    <tr>\n",
       "      <th>1</th>\n",
       "      <td>20</td>\n",
       "      <td>0.850</td>\n",
       "      <td>0.589</td>\n",
       "    </tr>\n",
       "    <tr>\n",
       "      <th>2</th>\n",
       "      <td>30</td>\n",
       "      <td>0.897</td>\n",
       "      <td>0.600</td>\n",
       "    </tr>\n",
       "    <tr>\n",
       "      <th>3</th>\n",
       "      <td>40</td>\n",
       "      <td>0.921</td>\n",
       "      <td>0.599</td>\n",
       "    </tr>\n",
       "    <tr>\n",
       "      <th>4</th>\n",
       "      <td>50</td>\n",
       "      <td>0.942</td>\n",
       "      <td>0.587</td>\n",
       "    </tr>\n",
       "    <tr>\n",
       "      <th>5</th>\n",
       "      <td>60</td>\n",
       "      <td>0.954</td>\n",
       "      <td>0.586</td>\n",
       "    </tr>\n",
       "    <tr>\n",
       "      <th>6</th>\n",
       "      <td>70</td>\n",
       "      <td>0.963</td>\n",
       "      <td>0.587</td>\n",
       "    </tr>\n",
       "    <tr>\n",
       "      <th>7</th>\n",
       "      <td>80</td>\n",
       "      <td>0.970</td>\n",
       "      <td>0.581</td>\n",
       "    </tr>\n",
       "    <tr>\n",
       "      <th>8</th>\n",
       "      <td>90</td>\n",
       "      <td>0.976</td>\n",
       "      <td>0.582</td>\n",
       "    </tr>\n",
       "    <tr>\n",
       "      <th>9</th>\n",
       "      <td>100</td>\n",
       "      <td>0.981</td>\n",
       "      <td>0.581</td>\n",
       "    </tr>\n",
       "  </tbody>\n",
       "</table>\n",
       "</div>"
      ],
      "text/plain": [
       "   n_estimators  TrainScore  TestScore\n",
       "0            10       0.712      0.512\n",
       "1            20       0.850      0.589\n",
       "2            30       0.897      0.600\n",
       "3            40       0.921      0.599\n",
       "4            50       0.942      0.587\n",
       "5            60       0.954      0.586\n",
       "6            70       0.963      0.587\n",
       "7            80       0.970      0.581\n",
       "8            90       0.976      0.582\n",
       "9           100       0.981      0.581"
      ]
     },
     "execution_count": 8,
     "metadata": {},
     "output_type": "execute_result"
    }
   ],
   "source": [
    "df_score_leaf.round(3)\n",
    "\n",
    "# Train과 Test Score의 Gap이 크다면 모델이 불안정한 것으로 볼 수 있다."
   ]
  },
  {
   "cell_type": "code",
   "execution_count": 9,
   "metadata": {},
   "outputs": [
    {
     "data": {
      "text/plain": [
       "<matplotlib.legend.Legend at 0x7f09865b10d0>"
      ]
     },
     "execution_count": 9,
     "metadata": {},
     "output_type": "execute_result"
    },
    {
     "data": {
      "image/png": "[encoded data removed]",
      "text/plain": [
       "<Figure size 432x288 with 1 Axes>"
      ]
     },
     "metadata": {
      "needs_background": "light"
     },
     "output_type": "display_data"
    }
   ],
   "source": [
    "plt.plot(para_n_tree, train_score, linestyle=\"-\", label = \"Train Score\")\n",
    "plt.plot(para_n_tree, test_score, linestyle=\"--\", label = \"Test Score\")\n",
    "plt.xlabel(\"n_estimators\")\n",
    "plt.ylabel(\"score\")\n",
    "plt.legend()"
   ]
  },
  {
   "cell_type": "markdown",
   "metadata": {},
   "source": [
    "- 30정도가 괜찮아 보인다."
   ]
  },
  {
   "cell_type": "markdown",
   "metadata": {},
   "source": [
    "- min_samples_leaf: 잎사귀 노드의 최소 자료 수"
   ]
  },
  {
   "cell_type": "code",
   "execution_count": 18,
   "metadata": {},
   "outputs": [],
   "source": [
    "train_score = []; test_score = []\n",
    "\n",
    "para_leaf = [n_leaf * 1 for n_leaf in range(1, 21)]\n",
    "\n",
    "for v_min_samples_leaf in para_leaf:\n",
    "    gb = GBR(random_state=1234, n_estimators = 30, min_samples_leaf = v_min_samples_leaf)\n",
    "    gb.fit(df_train_x, df_train_y)\n",
    "    train_score.append(gb.score(df_train_x, df_train_y))\n",
    "    test_score.append(gb.score(df_test_x, df_test_y))\n",
    "    \n",
    "# 결과 저장\n",
    "df_score_leaf = pd.DataFrame()\n",
    "df_score_leaf[\"MinSamplesLeaf\"] = para_leaf\n",
    "df_score_leaf[\"TrainScore\"] = train_score\n",
    "df_score_leaf[\"TestScore\"] = test_score"
   ]
  },
  {
   "cell_type": "code",
   "execution_count": 19,
   "metadata": {},
   "outputs": [
    {
     "data": {
      "text/html": [
       "<div>\n",
       "<style scoped>\n",
       "    .dataframe tbody tr th:only-of-type {\n",
       "        vertical-align: middle;\n",
       "    }\n",
       "\n",
       "    .dataframe tbody tr th {\n",
       "        vertical-align: top;\n",
       "    }\n",
       "\n",
       "    .dataframe thead th {\n",
       "        text-align: right;\n",
       "    }\n",
       "</style>\n",
       "<table border=\"1\" class=\"dataframe\">\n",
       "  <thead>\n",
       "    <tr style=\"text-align: right;\">\n",
       "      <th></th>\n",
       "      <th>MinSamplesLeaf</th>\n",
       "      <th>TrainScore</th>\n",
       "      <th>TestScore</th>\n",
       "    </tr>\n",
       "  </thead>\n",
       "  <tbody>\n",
       "    <tr>\n",
       "      <th>0</th>\n",
       "      <td>1</td>\n",
       "      <td>0.897</td>\n",
       "      <td>0.600</td>\n",
       "    </tr>\n",
       "    <tr>\n",
       "      <th>1</th>\n",
       "      <td>2</td>\n",
       "      <td>0.899</td>\n",
       "      <td>0.599</td>\n",
       "    </tr>\n",
       "    <tr>\n",
       "      <th>2</th>\n",
       "      <td>3</td>\n",
       "      <td>0.896</td>\n",
       "      <td>0.594</td>\n",
       "    </tr>\n",
       "    <tr>\n",
       "      <th>3</th>\n",
       "      <td>4</td>\n",
       "      <td>0.893</td>\n",
       "      <td>0.586</td>\n",
       "    </tr>\n",
       "    <tr>\n",
       "      <th>4</th>\n",
       "      <td>5</td>\n",
       "      <td>0.890</td>\n",
       "      <td>0.604</td>\n",
       "    </tr>\n",
       "    <tr>\n",
       "      <th>5</th>\n",
       "      <td>6</td>\n",
       "      <td>0.888</td>\n",
       "      <td>0.596</td>\n",
       "    </tr>\n",
       "    <tr>\n",
       "      <th>6</th>\n",
       "      <td>7</td>\n",
       "      <td>0.884</td>\n",
       "      <td>0.590</td>\n",
       "    </tr>\n",
       "    <tr>\n",
       "      <th>7</th>\n",
       "      <td>8</td>\n",
       "      <td>0.874</td>\n",
       "      <td>0.610</td>\n",
       "    </tr>\n",
       "    <tr>\n",
       "      <th>8</th>\n",
       "      <td>9</td>\n",
       "      <td>0.879</td>\n",
       "      <td>0.598</td>\n",
       "    </tr>\n",
       "    <tr>\n",
       "      <th>9</th>\n",
       "      <td>10</td>\n",
       "      <td>0.873</td>\n",
       "      <td>0.587</td>\n",
       "    </tr>\n",
       "    <tr>\n",
       "      <th>10</th>\n",
       "      <td>11</td>\n",
       "      <td>0.870</td>\n",
       "      <td>0.620</td>\n",
       "    </tr>\n",
       "    <tr>\n",
       "      <th>11</th>\n",
       "      <td>12</td>\n",
       "      <td>0.865</td>\n",
       "      <td>0.597</td>\n",
       "    </tr>\n",
       "    <tr>\n",
       "      <th>12</th>\n",
       "      <td>13</td>\n",
       "      <td>0.862</td>\n",
       "      <td>0.606</td>\n",
       "    </tr>\n",
       "    <tr>\n",
       "      <th>13</th>\n",
       "      <td>14</td>\n",
       "      <td>0.852</td>\n",
       "      <td>0.600</td>\n",
       "    </tr>\n",
       "    <tr>\n",
       "      <th>14</th>\n",
       "      <td>15</td>\n",
       "      <td>0.847</td>\n",
       "      <td>0.605</td>\n",
       "    </tr>\n",
       "    <tr>\n",
       "      <th>15</th>\n",
       "      <td>16</td>\n",
       "      <td>0.845</td>\n",
       "      <td>0.600</td>\n",
       "    </tr>\n",
       "    <tr>\n",
       "      <th>16</th>\n",
       "      <td>17</td>\n",
       "      <td>0.841</td>\n",
       "      <td>0.589</td>\n",
       "    </tr>\n",
       "    <tr>\n",
       "      <th>17</th>\n",
       "      <td>18</td>\n",
       "      <td>0.838</td>\n",
       "      <td>0.588</td>\n",
       "    </tr>\n",
       "    <tr>\n",
       "      <th>18</th>\n",
       "      <td>19</td>\n",
       "      <td>0.840</td>\n",
       "      <td>0.589</td>\n",
       "    </tr>\n",
       "    <tr>\n",
       "      <th>19</th>\n",
       "      <td>20</td>\n",
       "      <td>0.831</td>\n",
       "      <td>0.595</td>\n",
       "    </tr>\n",
       "  </tbody>\n",
       "</table>\n",
       "</div>"
      ],
      "text/plain": [
       "    MinSamplesLeaf  TrainScore  TestScore\n",
       "0                1       0.897      0.600\n",
       "1                2       0.899      0.599\n",
       "2                3       0.896      0.594\n",
       "3                4       0.893      0.586\n",
       "4                5       0.890      0.604\n",
       "5                6       0.888      0.596\n",
       "6                7       0.884      0.590\n",
       "7                8       0.874      0.610\n",
       "8                9       0.879      0.598\n",
       "9               10       0.873      0.587\n",
       "10              11       0.870      0.620\n",
       "11              12       0.865      0.597\n",
       "12              13       0.862      0.606\n",
       "13              14       0.852      0.600\n",
       "14              15       0.847      0.605\n",
       "15              16       0.845      0.600\n",
       "16              17       0.841      0.589\n",
       "17              18       0.838      0.588\n",
       "18              19       0.840      0.589\n",
       "19              20       0.831      0.595"
      ]
     },
     "execution_count": 19,
     "metadata": {},
     "output_type": "execute_result"
    }
   ],
   "source": [
    "# 모델 설명력 확인\n",
    "df_score_leaf.round(3)"
   ]
  },
  {
   "cell_type": "code",
   "execution_count": 20,
   "metadata": {},
   "outputs": [
    {
     "data": {
      "text/plain": [
       "<matplotlib.legend.Legend at 0x7f09864a0ca0>"
      ]
     },
     "execution_count": 20,
     "metadata": {},
     "output_type": "execute_result"
    },
    {
     "data": {
      "image/png": "[encoded data removed]",
      "text/plain": [
       "<Figure size 432x288 with 1 Axes>"
      ]
     },
     "metadata": {
      "needs_background": "light"
     },
     "output_type": "display_data"
    }
   ],
   "source": [
    "plt.plot(para_leaf, train_score, linestyle=\"-\", label = \"Train Score\")\n",
    "plt.plot(para_leaf, test_score, linestyle=\"--\", label = \"Test Score\")\n",
    "plt.xlabel(\"min samples leaf\")\n",
    "plt.ylabel(\"score\")\n",
    "plt.legend()\n"
   ]
  },
  {
   "cell_type": "markdown",
   "metadata": {},
   "source": [
    "- 11정도에서 가장 괜찮아 보인다."
   ]
  },
  {
   "cell_type": "markdown",
   "metadata": {},
   "source": [
    "- min_samples_split: 분리 노드의 최소 자료 수 변경"
   ]
  },
  {
   "cell_type": "code",
   "execution_count": 21,
   "metadata": {},
   "outputs": [],
   "source": [
    "train_score = []; test_score = []\n",
    "\n",
    "para_split = [n_split * 2 for n_split in range(2, 21)]\n",
    "\n",
    "for v_min_samples_split in para_split:\n",
    "    gb = GBR(random_state=1234, n_estimators = 30, min_samples_leaf = 11, \n",
    "             min_samples_split=v_min_samples_split)\n",
    "    gb.fit(df_train_x, df_train_y)\n",
    "    train_score.append(gb.score(df_train_x, df_train_y))\n",
    "    test_score.append(gb.score(df_test_x, df_test_y))\n",
    "    \n",
    "# 결과 저장\n",
    "df_score_leaf = pd.DataFrame()\n",
    "df_score_leaf[\"MinSamplesSplit\"] = para_split\n",
    "df_score_leaf[\"TrainScore\"] = train_score\n",
    "df_score_leaf[\"TestScore\"] = test_score"
   ]
  },
  {
   "cell_type": "code",
   "execution_count": 22,
   "metadata": {},
   "outputs": [
    {
     "data": {
      "text/html": [
       "<div>\n",
       "<style scoped>\n",
       "    .dataframe tbody tr th:only-of-type {\n",
       "        vertical-align: middle;\n",
       "    }\n",
       "\n",
       "    .dataframe tbody tr th {\n",
       "        vertical-align: top;\n",
       "    }\n",
       "\n",
       "    .dataframe thead th {\n",
       "        text-align: right;\n",
       "    }\n",
       "</style>\n",
       "<table border=\"1\" class=\"dataframe\">\n",
       "  <thead>\n",
       "    <tr style=\"text-align: right;\">\n",
       "      <th></th>\n",
       "      <th>MinSamplesSplit</th>\n",
       "      <th>TrainScore</th>\n",
       "      <th>TestScore</th>\n",
       "    </tr>\n",
       "  </thead>\n",
       "  <tbody>\n",
       "    <tr>\n",
       "      <th>0</th>\n",
       "      <td>4</td>\n",
       "      <td>0.870</td>\n",
       "      <td>0.620</td>\n",
       "    </tr>\n",
       "    <tr>\n",
       "      <th>1</th>\n",
       "      <td>6</td>\n",
       "      <td>0.870</td>\n",
       "      <td>0.620</td>\n",
       "    </tr>\n",
       "    <tr>\n",
       "      <th>2</th>\n",
       "      <td>8</td>\n",
       "      <td>0.870</td>\n",
       "      <td>0.620</td>\n",
       "    </tr>\n",
       "    <tr>\n",
       "      <th>3</th>\n",
       "      <td>10</td>\n",
       "      <td>0.870</td>\n",
       "      <td>0.620</td>\n",
       "    </tr>\n",
       "    <tr>\n",
       "      <th>4</th>\n",
       "      <td>12</td>\n",
       "      <td>0.870</td>\n",
       "      <td>0.620</td>\n",
       "    </tr>\n",
       "    <tr>\n",
       "      <th>5</th>\n",
       "      <td>14</td>\n",
       "      <td>0.870</td>\n",
       "      <td>0.620</td>\n",
       "    </tr>\n",
       "    <tr>\n",
       "      <th>6</th>\n",
       "      <td>16</td>\n",
       "      <td>0.870</td>\n",
       "      <td>0.620</td>\n",
       "    </tr>\n",
       "    <tr>\n",
       "      <th>7</th>\n",
       "      <td>18</td>\n",
       "      <td>0.870</td>\n",
       "      <td>0.620</td>\n",
       "    </tr>\n",
       "    <tr>\n",
       "      <th>8</th>\n",
       "      <td>20</td>\n",
       "      <td>0.870</td>\n",
       "      <td>0.620</td>\n",
       "    </tr>\n",
       "    <tr>\n",
       "      <th>9</th>\n",
       "      <td>22</td>\n",
       "      <td>0.870</td>\n",
       "      <td>0.620</td>\n",
       "    </tr>\n",
       "    <tr>\n",
       "      <th>10</th>\n",
       "      <td>24</td>\n",
       "      <td>0.868</td>\n",
       "      <td>0.614</td>\n",
       "    </tr>\n",
       "    <tr>\n",
       "      <th>11</th>\n",
       "      <td>26</td>\n",
       "      <td>0.868</td>\n",
       "      <td>0.617</td>\n",
       "    </tr>\n",
       "    <tr>\n",
       "      <th>12</th>\n",
       "      <td>28</td>\n",
       "      <td>0.863</td>\n",
       "      <td>0.617</td>\n",
       "    </tr>\n",
       "    <tr>\n",
       "      <th>13</th>\n",
       "      <td>30</td>\n",
       "      <td>0.860</td>\n",
       "      <td>0.617</td>\n",
       "    </tr>\n",
       "    <tr>\n",
       "      <th>14</th>\n",
       "      <td>32</td>\n",
       "      <td>0.862</td>\n",
       "      <td>0.611</td>\n",
       "    </tr>\n",
       "    <tr>\n",
       "      <th>15</th>\n",
       "      <td>34</td>\n",
       "      <td>0.855</td>\n",
       "      <td>0.616</td>\n",
       "    </tr>\n",
       "    <tr>\n",
       "      <th>16</th>\n",
       "      <td>36</td>\n",
       "      <td>0.853</td>\n",
       "      <td>0.608</td>\n",
       "    </tr>\n",
       "    <tr>\n",
       "      <th>17</th>\n",
       "      <td>38</td>\n",
       "      <td>0.854</td>\n",
       "      <td>0.610</td>\n",
       "    </tr>\n",
       "    <tr>\n",
       "      <th>18</th>\n",
       "      <td>40</td>\n",
       "      <td>0.854</td>\n",
       "      <td>0.617</td>\n",
       "    </tr>\n",
       "  </tbody>\n",
       "</table>\n",
       "</div>"
      ],
      "text/plain": [
       "    MinSamplesSplit  TrainScore  TestScore\n",
       "0                 4       0.870      0.620\n",
       "1                 6       0.870      0.620\n",
       "2                 8       0.870      0.620\n",
       "3                10       0.870      0.620\n",
       "4                12       0.870      0.620\n",
       "5                14       0.870      0.620\n",
       "6                16       0.870      0.620\n",
       "7                18       0.870      0.620\n",
       "8                20       0.870      0.620\n",
       "9                22       0.870      0.620\n",
       "10               24       0.868      0.614\n",
       "11               26       0.868      0.617\n",
       "12               28       0.863      0.617\n",
       "13               30       0.860      0.617\n",
       "14               32       0.862      0.611\n",
       "15               34       0.855      0.616\n",
       "16               36       0.853      0.608\n",
       "17               38       0.854      0.610\n",
       "18               40       0.854      0.617"
      ]
     },
     "execution_count": 22,
     "metadata": {},
     "output_type": "execute_result"
    }
   ],
   "source": [
    "# 모델 설명력 확인\n",
    "df_score_leaf.round(3)"
   ]
  },
  {
   "cell_type": "code",
   "execution_count": 23,
   "metadata": {},
   "outputs": [
    {
     "data": {
      "text/plain": [
       "<matplotlib.legend.Legend at 0x7f0986408d30>"
      ]
     },
     "execution_count": 23,
     "metadata": {},
     "output_type": "execute_result"
    },
    {
     "data": {
      "image/png": "[encoded data removed]",
      "text/plain": [
       "<Figure size 432x288 with 1 Axes>"
      ]
     },
     "metadata": {
      "needs_background": "light"
     },
     "output_type": "display_data"
    }
   ],
   "source": [
    "plt.plot(para_split, train_score, linestyle=\"-\", label = \"Train Score\")\n",
    "plt.plot(para_split, test_score, linestyle=\"--\", label = \"Test Score\")\n",
    "plt.xlabel(\"min samples split\")\n",
    "plt.ylabel(\"score\")\n",
    "plt.legend()"
   ]
  },
  {
   "cell_type": "markdown",
   "metadata": {},
   "source": [
    "※ 분리 노드 최소 자료 수 증가에 따라 모델의 설명력은 감소한다.  따라서 데이터의 성능변화를 고려해 13~14정도를 선정한다."
   ]
  },
  {
   "cell_type": "markdown",
   "metadata": {},
   "source": [
    "- MaxDepth: 최대 깊이 변경에 따른 모델 성능"
   ]
  },
  {
   "cell_type": "code",
   "execution_count": 33,
   "metadata": {},
   "outputs": [],
   "source": [
    "train_score = []; test_score = []\n",
    "\n",
    "para_depth = [depth for depth in range(1, 11)]\n",
    "\n",
    "for v_max_depth in para_depth:\n",
    "    gb = GBR(random_state=1234, n_estimators = 30, min_samples_leaf = 11, \n",
    "             min_samples_split=22, max_depth=v_max_depth)\n",
    "    gb.fit(df_train_x, df_train_y)\n",
    "    train_score.append(gb.score(df_train_x, df_train_y))\n",
    "    test_score.append(gb.score(df_test_x, df_test_y))\n",
    "    \n",
    "# 결과 저장\n",
    "df_score_leaf = pd.DataFrame()\n",
    "df_score_leaf[\"Maxdepth\"] = para_depth\n",
    "df_score_leaf[\"TrainScore\"] = train_score\n",
    "df_score_leaf[\"TestScore\"] = test_score"
   ]
  },
  {
   "cell_type": "code",
   "execution_count": 34,
   "metadata": {},
   "outputs": [
    {
     "data": {
      "text/html": [
       "<div>\n",
       "<style scoped>\n",
       "    .dataframe tbody tr th:only-of-type {\n",
       "        vertical-align: middle;\n",
       "    }\n",
       "\n",
       "    .dataframe tbody tr th {\n",
       "        vertical-align: top;\n",
       "    }\n",
       "\n",
       "    .dataframe thead th {\n",
       "        text-align: right;\n",
       "    }\n",
       "</style>\n",
       "<table border=\"1\" class=\"dataframe\">\n",
       "  <thead>\n",
       "    <tr style=\"text-align: right;\">\n",
       "      <th></th>\n",
       "      <th>Maxdepth</th>\n",
       "      <th>TrainScore</th>\n",
       "      <th>TestScore</th>\n",
       "    </tr>\n",
       "  </thead>\n",
       "  <tbody>\n",
       "    <tr>\n",
       "      <th>0</th>\n",
       "      <td>1</td>\n",
       "      <td>0.703</td>\n",
       "      <td>0.592</td>\n",
       "    </tr>\n",
       "    <tr>\n",
       "      <th>1</th>\n",
       "      <td>2</td>\n",
       "      <td>0.800</td>\n",
       "      <td>0.600</td>\n",
       "    </tr>\n",
       "    <tr>\n",
       "      <th>2</th>\n",
       "      <td>3</td>\n",
       "      <td>0.870</td>\n",
       "      <td>0.620</td>\n",
       "    </tr>\n",
       "    <tr>\n",
       "      <th>3</th>\n",
       "      <td>4</td>\n",
       "      <td>0.900</td>\n",
       "      <td>0.629</td>\n",
       "    </tr>\n",
       "    <tr>\n",
       "      <th>4</th>\n",
       "      <td>5</td>\n",
       "      <td>0.913</td>\n",
       "      <td>0.613</td>\n",
       "    </tr>\n",
       "    <tr>\n",
       "      <th>5</th>\n",
       "      <td>6</td>\n",
       "      <td>0.917</td>\n",
       "      <td>0.614</td>\n",
       "    </tr>\n",
       "    <tr>\n",
       "      <th>6</th>\n",
       "      <td>7</td>\n",
       "      <td>0.920</td>\n",
       "      <td>0.613</td>\n",
       "    </tr>\n",
       "    <tr>\n",
       "      <th>7</th>\n",
       "      <td>8</td>\n",
       "      <td>0.920</td>\n",
       "      <td>0.615</td>\n",
       "    </tr>\n",
       "    <tr>\n",
       "      <th>8</th>\n",
       "      <td>9</td>\n",
       "      <td>0.921</td>\n",
       "      <td>0.609</td>\n",
       "    </tr>\n",
       "    <tr>\n",
       "      <th>9</th>\n",
       "      <td>10</td>\n",
       "      <td>0.922</td>\n",
       "      <td>0.616</td>\n",
       "    </tr>\n",
       "  </tbody>\n",
       "</table>\n",
       "</div>"
      ],
      "text/plain": [
       "   Maxdepth  TrainScore  TestScore\n",
       "0         1       0.703      0.592\n",
       "1         2       0.800      0.600\n",
       "2         3       0.870      0.620\n",
       "3         4       0.900      0.629\n",
       "4         5       0.913      0.613\n",
       "5         6       0.917      0.614\n",
       "6         7       0.920      0.613\n",
       "7         8       0.920      0.615\n",
       "8         9       0.921      0.609\n",
       "9        10       0.922      0.616"
      ]
     },
     "execution_count": 34,
     "metadata": {},
     "output_type": "execute_result"
    }
   ],
   "source": [
    "# 모델 설명력 확인\n",
    "df_score_leaf.round(3)"
   ]
  },
  {
   "cell_type": "code",
   "execution_count": 35,
   "metadata": {
    "scrolled": true
   },
   "outputs": [
    {
     "data": {
      "text/plain": [
       "<matplotlib.legend.Legend at 0x7f09852a5ee0>"
      ]
     },
     "execution_count": 35,
     "metadata": {},
     "output_type": "execute_result"
    },
    {
     "data": {
      "image/png": "[encoded data removed]",
      "text/plain": [
       "<Figure size 432x288 with 1 Axes>"
      ]
     },
     "metadata": {
      "needs_background": "light"
     },
     "output_type": "display_data"
    }
   ],
   "source": [
    "plt.plot(para_depth, train_score, linestyle=\"-\", label = \"Train Score\")\n",
    "plt.plot(para_depth, test_score, linestyle=\"--\", label = \"Test Score\")\n",
    "plt.xlabel(\"maxdepth\")\n",
    "plt.ylabel(\"score\")\n",
    "plt.legend()"
   ]
  },
  {
   "cell_type": "markdown",
   "metadata": {},
   "source": [
    "※ 4정도로 가져가면 좋아 보인다."
   ]
  },
  {
   "cell_type": "markdown",
   "metadata": {},
   "source": [
    "Learning_rate(학습률)"
   ]
  },
  {
   "cell_type": "code",
   "execution_count": 36,
   "metadata": {},
   "outputs": [],
   "source": [
    "train_score = []; test_score = []\n",
    "\n",
    "para_lr = [lr*0.1 for lr in range(1, 10)]\n",
    "\n",
    "for v_learning_rate in para_lr:\n",
    "    gb = GBR(random_state=1234, n_estimators = 30, min_samples_leaf = 11, \n",
    "             min_samples_split=22, max_depth=4, learning_rate=v_learning_rate)\n",
    "    gb.fit(df_train_x, df_train_y)\n",
    "    train_score.append(gb.score(df_train_x, df_train_y))\n",
    "    test_score.append(gb.score(df_test_x, df_test_y))\n",
    "    \n",
    "# 결과 저장\n",
    "df_score_leaf = pd.DataFrame()\n",
    "df_score_leaf[\"LearningRate\"] = para_lr\n",
    "df_score_leaf[\"TrainScore\"] = train_score\n",
    "df_score_leaf[\"TestScore\"] = test_score"
   ]
  },
  {
   "cell_type": "code",
   "execution_count": 37,
   "metadata": {},
   "outputs": [
    {
     "data": {
      "text/html": [
       "<div>\n",
       "<style scoped>\n",
       "    .dataframe tbody tr th:only-of-type {\n",
       "        vertical-align: middle;\n",
       "    }\n",
       "\n",
       "    .dataframe tbody tr th {\n",
       "        vertical-align: top;\n",
       "    }\n",
       "\n",
       "    .dataframe thead th {\n",
       "        text-align: right;\n",
       "    }\n",
       "</style>\n",
       "<table border=\"1\" class=\"dataframe\">\n",
       "  <thead>\n",
       "    <tr style=\"text-align: right;\">\n",
       "      <th></th>\n",
       "      <th>Maxdepth</th>\n",
       "      <th>TrainScore</th>\n",
       "      <th>TestScore</th>\n",
       "    </tr>\n",
       "  </thead>\n",
       "  <tbody>\n",
       "    <tr>\n",
       "      <th>0</th>\n",
       "      <td>0.1</td>\n",
       "      <td>0.900</td>\n",
       "      <td>0.629</td>\n",
       "    </tr>\n",
       "    <tr>\n",
       "      <th>1</th>\n",
       "      <td>0.2</td>\n",
       "      <td>0.940</td>\n",
       "      <td>0.588</td>\n",
       "    </tr>\n",
       "    <tr>\n",
       "      <th>2</th>\n",
       "      <td>0.3</td>\n",
       "      <td>0.966</td>\n",
       "      <td>0.566</td>\n",
       "    </tr>\n",
       "    <tr>\n",
       "      <th>3</th>\n",
       "      <td>0.4</td>\n",
       "      <td>0.981</td>\n",
       "      <td>0.539</td>\n",
       "    </tr>\n",
       "    <tr>\n",
       "      <th>4</th>\n",
       "      <td>0.5</td>\n",
       "      <td>0.984</td>\n",
       "      <td>0.533</td>\n",
       "    </tr>\n",
       "    <tr>\n",
       "      <th>5</th>\n",
       "      <td>0.6</td>\n",
       "      <td>0.990</td>\n",
       "      <td>0.527</td>\n",
       "    </tr>\n",
       "    <tr>\n",
       "      <th>6</th>\n",
       "      <td>0.7</td>\n",
       "      <td>0.993</td>\n",
       "      <td>0.478</td>\n",
       "    </tr>\n",
       "    <tr>\n",
       "      <th>7</th>\n",
       "      <td>0.8</td>\n",
       "      <td>0.994</td>\n",
       "      <td>0.437</td>\n",
       "    </tr>\n",
       "    <tr>\n",
       "      <th>8</th>\n",
       "      <td>0.9</td>\n",
       "      <td>0.997</td>\n",
       "      <td>0.464</td>\n",
       "    </tr>\n",
       "  </tbody>\n",
       "</table>\n",
       "</div>"
      ],
      "text/plain": [
       "   Maxdepth  TrainScore  TestScore\n",
       "0       0.1       0.900      0.629\n",
       "1       0.2       0.940      0.588\n",
       "2       0.3       0.966      0.566\n",
       "3       0.4       0.981      0.539\n",
       "4       0.5       0.984      0.533\n",
       "5       0.6       0.990      0.527\n",
       "6       0.7       0.993      0.478\n",
       "7       0.8       0.994      0.437\n",
       "8       0.9       0.997      0.464"
      ]
     },
     "execution_count": 37,
     "metadata": {},
     "output_type": "execute_result"
    }
   ],
   "source": [
    "# 모델 설명력 확인\n",
    "df_score_leaf.round(3)"
   ]
  },
  {
   "cell_type": "code",
   "execution_count": 38,
   "metadata": {
    "scrolled": true
   },
   "outputs": [
    {
     "data": {
      "text/plain": [
       "<matplotlib.legend.Legend at 0x7f0985517760>"
      ]
     },
     "execution_count": 38,
     "metadata": {},
     "output_type": "execute_result"
    },
    {
     "data": {
      "image/png": "[encoded data removed]",
      "text/plain": [
       "<Figure size 432x288 with 1 Axes>"
      ]
     },
     "metadata": {
      "needs_background": "light"
     },
     "output_type": "display_data"
    }
   ],
   "source": [
    "plt.plot(para_lr, train_score, linestyle=\"-\", label = \"Train Score\")\n",
    "plt.plot(para_lr, test_score, linestyle=\"--\", label = \"Test Score\")\n",
    "plt.xlabel(\"LearningRate\")\n",
    "plt.ylabel(\"score\")\n",
    "plt.legend()"
   ]
  },
  {
   "cell_type": "markdown",
   "metadata": {},
   "source": [
    "※ 학습률 증가에 따라 모델의 설명력은 증가하는데, 반면 test데이터의 성능은 급격하게 저하되므로 0.1을 선택한다."
   ]
  },
  {
   "cell_type": "markdown",
   "metadata": {},
   "source": [
    "## 3. 결론 도출"
   ]
  },
  {
   "cell_type": "code",
   "execution_count": 39,
   "metadata": {},
   "outputs": [
    {
     "name": "stdout",
     "output_type": "stream",
     "text": [
      "Score on training set: 0.900\n",
      "Score on test set: 0.629\n"
     ]
    }
   ],
   "source": [
    "gb_final = GBR(random_state=1234, n_estimators = 30, min_samples_leaf = 11, \n",
    "             min_samples_split=22, max_depth=4, learning_rate=0.1)\n",
    "gb_final.fit(df_train_x, df_train_y)\n",
    "\n",
    "# Train 데이터 설명력\n",
    "print(\"Score on training set: {:.3f}\".format(gb_final.score(df_train_x, df_train_y)))\n",
    "\n",
    "#test데이터 설명력\n",
    "print(\"Score on test set: {:.3f}\".format(gb_final.score(df_test_x, df_test_y)))"
   ]
  },
  {
   "cell_type": "markdown",
   "metadata": {},
   "source": [
    "※ 파라미터 튜닝 전과 test셋이 차이가 난다. 파라미터 튜닝으로 성능을 올릴 수 있었다."
   ]
  },
  {
   "cell_type": "markdown",
   "metadata": {},
   "source": [
    "## 4. 결론 도출_설명변수 중요도\n",
    "- feature_importances_: 설명변수의 중요도"
   ]
  },
  {
   "cell_type": "code",
   "execution_count": 41,
   "metadata": {},
   "outputs": [
    {
     "data": {
      "text/html": [
       "<div>\n",
       "<style scoped>\n",
       "    .dataframe tbody tr th:only-of-type {\n",
       "        vertical-align: middle;\n",
       "    }\n",
       "\n",
       "    .dataframe tbody tr th {\n",
       "        vertical-align: top;\n",
       "    }\n",
       "\n",
       "    .dataframe thead th {\n",
       "        text-align: right;\n",
       "    }\n",
       "</style>\n",
       "<table border=\"1\" class=\"dataframe\">\n",
       "  <thead>\n",
       "    <tr style=\"text-align: right;\">\n",
       "      <th></th>\n",
       "      <th>Feature</th>\n",
       "      <th>Importance</th>\n",
       "    </tr>\n",
       "  </thead>\n",
       "  <tbody>\n",
       "    <tr>\n",
       "      <th>5</th>\n",
       "      <td>ABDOMEN</td>\n",
       "      <td>0.775</td>\n",
       "    </tr>\n",
       "    <tr>\n",
       "      <th>2</th>\n",
       "      <td>HEIGHT</td>\n",
       "      <td>0.038</td>\n",
       "    </tr>\n",
       "    <tr>\n",
       "      <th>12</th>\n",
       "      <td>WRIST</td>\n",
       "      <td>0.025</td>\n",
       "    </tr>\n",
       "    <tr>\n",
       "      <th>3</th>\n",
       "      <td>NECK</td>\n",
       "      <td>0.023</td>\n",
       "    </tr>\n",
       "    <tr>\n",
       "      <th>6</th>\n",
       "      <td>HIP</td>\n",
       "      <td>0.021</td>\n",
       "    </tr>\n",
       "    <tr>\n",
       "      <th>4</th>\n",
       "      <td>CHEST</td>\n",
       "      <td>0.021</td>\n",
       "    </tr>\n",
       "    <tr>\n",
       "      <th>0</th>\n",
       "      <td>AGE</td>\n",
       "      <td>0.021</td>\n",
       "    </tr>\n",
       "    <tr>\n",
       "      <th>7</th>\n",
       "      <td>THIGH</td>\n",
       "      <td>0.020</td>\n",
       "    </tr>\n",
       "    <tr>\n",
       "      <th>8</th>\n",
       "      <td>KNEE</td>\n",
       "      <td>0.017</td>\n",
       "    </tr>\n",
       "    <tr>\n",
       "      <th>10</th>\n",
       "      <td>BICEPS</td>\n",
       "      <td>0.014</td>\n",
       "    </tr>\n",
       "    <tr>\n",
       "      <th>1</th>\n",
       "      <td>WEIGHT</td>\n",
       "      <td>0.012</td>\n",
       "    </tr>\n",
       "    <tr>\n",
       "      <th>9</th>\n",
       "      <td>ANKLE</td>\n",
       "      <td>0.007</td>\n",
       "    </tr>\n",
       "    <tr>\n",
       "      <th>11</th>\n",
       "      <td>FOREARM</td>\n",
       "      <td>0.005</td>\n",
       "    </tr>\n",
       "  </tbody>\n",
       "</table>\n",
       "</div>"
      ],
      "text/plain": [
       "    Feature  Importance\n",
       "5   ABDOMEN       0.775\n",
       "2    HEIGHT       0.038\n",
       "12    WRIST       0.025\n",
       "3      NECK       0.023\n",
       "6       HIP       0.021\n",
       "4     CHEST       0.021\n",
       "0       AGE       0.021\n",
       "7     THIGH       0.020\n",
       "8      KNEE       0.017\n",
       "10   BICEPS       0.014\n",
       "1    WEIGHT       0.012\n",
       "9     ANKLE       0.007\n",
       "11  FOREARM       0.005"
      ]
     },
     "execution_count": 41,
     "metadata": {},
     "output_type": "execute_result"
    }
   ],
   "source": [
    "v_feature_name = df_train_x.columns\n",
    "df_importance = pd.DataFrame()\n",
    "df_importance[\"Feature\"]=v_feature_name\n",
    "df_importance[\"Importance\"] = gb_final.feature_importances_\n",
    "\n",
    "df_importance.sort_values(\"Importance\", ascending=False, inplace = True)\n",
    "df_importance.round(3)"
   ]
  },
  {
   "cell_type": "code",
   "execution_count": 42,
   "metadata": {},
   "outputs": [
    {
     "data": {
      "text/plain": [
       "Text(0, 0.5, '변수(feature)')"
      ]
     },
     "execution_count": 42,
     "metadata": {},
     "output_type": "execute_result"
    },
    {
     "data": {
      "image/png": "[encoded data removed]",
      "text/plain": [
       "<Figure size 432x288 with 1 Axes>"
      ]
     },
     "metadata": {
      "needs_background": "light"
     },
     "output_type": "display_data"
    }
   ],
   "source": [
    "df_importance.sort_values(\"Importance\", ascending= True, inplace=True)\n",
    "coordinates=range(len(df_importance))\n",
    "plt.barh(y=coordinates, width = df_importance[\"Importance\"])\n",
    "plt.yticks(coordinates, df_importance[\"Feature\"])\n",
    "plt.xlabel(\"변수 중요도(Importance)\")\n",
    "plt.ylabel(\"변수(feature)\")"
   ]
  },
  {
   "cell_type": "markdown",
   "metadata": {},
   "source": [
    "※ 중요설명변수: 복부둘레, 키, 손목 둘레 순으로 영향이 크다고 해석할 수 있다. 단, 계산된 변수 중요도 값이 낮거나 0이더라도 선택되는 데이터예 따라 중요도가 변경될 수 있다."
   ]
  },
  {
   "cell_type": "code",
   "execution_count": null,
   "metadata": {},
   "outputs": [],
   "source": []
  }
 ],
 "metadata": {
  "kernelspec": {
   "display_name": "Python 3",
   "language": "python",
   "name": "python3"
  },
  "language_info": {
   "codemirror_mode": {
    "name": "ipython",
    "version": 3
   },
   "file_extension": ".py",
   "mimetype": "text/x-python",
   "name": "python",
   "nbconvert_exporter": "python",
   "pygments_lexer": "ipython3",
   "version": "3.8.5"
  }
 },
 "nbformat": 4,
 "nbformat_minor": 4
}
