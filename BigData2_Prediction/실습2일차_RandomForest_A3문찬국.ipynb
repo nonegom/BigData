{
 "cells": [
  {
   "cell_type": "code",
   "execution_count": 8,
   "metadata": {},
   "outputs": [],
   "source": [
    "import pandas as pd\n",
    "import numpy as np\n",
    "\n",
    "# 데이터 시각화 패키지\n",
    "import matplotlib\n",
    "import matplotlib.pyplot as plt\n",
    "import seaborn as sns\n",
    "\n",
    "# 가설검정 및 통계 분석 패키지\n",
    "from scipy import stats\n",
    "\n",
    "# 선형모델 formula ( y ~ x1 + x2 + ...)\n",
    "import statsmodels.formula.api as smf\n",
    "from statsmodels.formula.api import ols\n",
    "\n",
    "from sklearn.linear_model import LinearRegression\n",
    "from statsmodels.api import qqplot, add_constant\n",
    "\n",
    "from statsmodels.stats.proportion import proportions_ztest\n",
    "from statsmodels.stats.anova import anova_lm\n",
    "\n",
    "# 변수 선택법(후진제거법)\n",
    "from sklearn.feature_selection import RFE\n",
    "\n",
    "# 다중공선성 확인\n",
    "from statsmodels.stats.outliers_influence import variance_inflation_factor\n",
    "\n",
    "# Scale변환 -> 표준화 회귀계수 산출\n",
    "## coefficient를 표준화해서 비교해본다.\n",
    "from sklearn.preprocessing import StandardScaler\n",
    "\n",
    "from sklearn.ensemble import RandomForestRegressor as RFR\n",
    "from sklearn.ensemble import GradientBoostingRegressor as GBR\n",
    "\n",
    "# grhpviz\n",
    "from sklearn.tree import export_graphviz\n",
    "\n",
    "import graphviz\n",
    "\n",
    "from sklearn.model_selection import train_test_split\n",
    "\n",
    "from sklearn.tree import DecisionTreeRegressor\n",
    "\n",
    "from sklearn.model_selection import GridSearchCV\n",
    "\n",
    "\n",
    "# 주피터 노트북 사용시 그래프 자동 출력 옵션\n",
    "%matplotlib inline\n",
    "\n",
    "matplotlib.rc('font', family = \"NanumGothic\")\n",
    "plt.rc('font', family = \"NanumGothic\")\n",
    "plt.rcParams[\"font.family\"] = 'NanumGothic'\n",
    "plt.rcParams['axes.unicode_minus'] = False"
   ]
  },
  {
   "cell_type": "markdown",
   "metadata": {},
   "source": [
    "## 랜덤포레스트_예측\n",
    "- 콘크리트 강도를 예측하는 의사결정나무 모델\n",
    "- prediction method를 이용해 예측값 구하기\n",
    "- mse와 mae 산출 후 비교"
   ]
  },
  {
   "cell_type": "markdown",
   "metadata": {},
   "source": [
    "### 1) 데이터 구성"
   ]
  },
  {
   "cell_type": "code",
   "execution_count": 2,
   "metadata": {},
   "outputs": [
    {
     "data": {
      "text/html": [
       "<div>\n",
       "<style scoped>\n",
       "    .dataframe tbody tr th:only-of-type {\n",
       "        vertical-align: middle;\n",
       "    }\n",
       "\n",
       "    .dataframe tbody tr th {\n",
       "        vertical-align: top;\n",
       "    }\n",
       "\n",
       "    .dataframe thead th {\n",
       "        text-align: right;\n",
       "    }\n",
       "</style>\n",
       "<table border=\"1\" class=\"dataframe\">\n",
       "  <thead>\n",
       "    <tr style=\"text-align: right;\">\n",
       "      <th></th>\n",
       "      <th>cement</th>\n",
       "      <th>blast_furnace_slag</th>\n",
       "      <th>fly_ash</th>\n",
       "      <th>water</th>\n",
       "      <th>superplasticizer</th>\n",
       "      <th>coarse_aggregate</th>\n",
       "      <th>fine_aggregate</th>\n",
       "      <th>age</th>\n",
       "      <th>strength</th>\n",
       "    </tr>\n",
       "  </thead>\n",
       "  <tbody>\n",
       "    <tr>\n",
       "      <th>0</th>\n",
       "      <td>540.0</td>\n",
       "      <td>0.0</td>\n",
       "      <td>0.0</td>\n",
       "      <td>162.0</td>\n",
       "      <td>2.5</td>\n",
       "      <td>1040.0</td>\n",
       "      <td>676.0</td>\n",
       "      <td>28</td>\n",
       "      <td>79.99</td>\n",
       "    </tr>\n",
       "    <tr>\n",
       "      <th>1</th>\n",
       "      <td>540.0</td>\n",
       "      <td>0.0</td>\n",
       "      <td>0.0</td>\n",
       "      <td>162.0</td>\n",
       "      <td>2.5</td>\n",
       "      <td>1055.0</td>\n",
       "      <td>676.0</td>\n",
       "      <td>28</td>\n",
       "      <td>61.89</td>\n",
       "    </tr>\n",
       "    <tr>\n",
       "      <th>2</th>\n",
       "      <td>332.5</td>\n",
       "      <td>142.5</td>\n",
       "      <td>0.0</td>\n",
       "      <td>228.0</td>\n",
       "      <td>0.0</td>\n",
       "      <td>932.0</td>\n",
       "      <td>594.0</td>\n",
       "      <td>270</td>\n",
       "      <td>40.27</td>\n",
       "    </tr>\n",
       "    <tr>\n",
       "      <th>3</th>\n",
       "      <td>332.5</td>\n",
       "      <td>142.5</td>\n",
       "      <td>0.0</td>\n",
       "      <td>228.0</td>\n",
       "      <td>0.0</td>\n",
       "      <td>932.0</td>\n",
       "      <td>594.0</td>\n",
       "      <td>365</td>\n",
       "      <td>41.05</td>\n",
       "    </tr>\n",
       "    <tr>\n",
       "      <th>4</th>\n",
       "      <td>198.6</td>\n",
       "      <td>132.4</td>\n",
       "      <td>0.0</td>\n",
       "      <td>192.0</td>\n",
       "      <td>0.0</td>\n",
       "      <td>978.4</td>\n",
       "      <td>825.5</td>\n",
       "      <td>360</td>\n",
       "      <td>44.30</td>\n",
       "    </tr>\n",
       "  </tbody>\n",
       "</table>\n",
       "</div>"
      ],
      "text/plain": [
       "   cement  blast_furnace_slag  fly_ash  water  superplasticizer  \\\n",
       "0   540.0                 0.0      0.0  162.0               2.5   \n",
       "1   540.0                 0.0      0.0  162.0               2.5   \n",
       "2   332.5               142.5      0.0  228.0               0.0   \n",
       "3   332.5               142.5      0.0  228.0               0.0   \n",
       "4   198.6               132.4      0.0  192.0               0.0   \n",
       "\n",
       "   coarse_aggregate  fine_aggregate  age  strength  \n",
       "0            1040.0           676.0   28     79.99  \n",
       "1            1055.0           676.0   28     61.89  \n",
       "2             932.0           594.0  270     40.27  \n",
       "3             932.0           594.0  365     41.05  \n",
       "4             978.4           825.5  360     44.30  "
      ]
     },
     "execution_count": 2,
     "metadata": {},
     "output_type": "execute_result"
    }
   ],
   "source": [
    "df_raw = pd.read_csv(\"./Data/Concrete.csv\")\n",
    "df_raw.head()"
   ]
  },
  {
   "cell_type": "code",
   "execution_count": 3,
   "metadata": {},
   "outputs": [
    {
     "name": "stdout",
     "output_type": "stream",
     "text": [
      "<class 'pandas.core.frame.DataFrame'>\n",
      "RangeIndex: 1030 entries, 0 to 1029\n",
      "Data columns (total 9 columns):\n",
      " #   Column              Non-Null Count  Dtype  \n",
      "---  ------              --------------  -----  \n",
      " 0   cement              1030 non-null   float64\n",
      " 1   blast_furnace_slag  1030 non-null   float64\n",
      " 2   fly_ash             1030 non-null   float64\n",
      " 3   water               1030 non-null   float64\n",
      " 4   superplasticizer    1030 non-null   float64\n",
      " 5   coarse_aggregate    1030 non-null   float64\n",
      " 6   fine_aggregate      1030 non-null   float64\n",
      " 7   age                 1030 non-null   int64  \n",
      " 8   strength            1030 non-null   float64\n",
      "dtypes: float64(8), int64(1)\n",
      "memory usage: 72.5 KB\n"
     ]
    }
   ],
   "source": [
    "df_raw.info()"
   ]
  },
  {
   "cell_type": "code",
   "execution_count": 4,
   "metadata": {},
   "outputs": [],
   "source": [
    "# 설명 변수, 목표변수 분리\n",
    "df_raw_x = df_raw.drop(\"strength\", axis=1, inplace = False)\n",
    "df_raw_y = df_raw[\"strength\"]"
   ]
  },
  {
   "cell_type": "code",
   "execution_count": 6,
   "metadata": {},
   "outputs": [
    {
     "name": "stdout",
     "output_type": "stream",
     "text": [
      "train data X size: (618, 8)\n",
      "train data Y size: (618,)\n",
      "test data X size: (412, 8)\n",
      "test data Y size: (412,)\n"
     ]
    }
   ],
   "source": [
    "df_train_x, df_test_x, df_train_y, df_test_y = train_test_split(df_raw_x, df_raw_y, \n",
    "                                                                test_size=0.4, random_state=1234)\n",
    "print(\"train data X size: {}\".format(df_train_x.shape))\n",
    "print(\"train data Y size: {}\".format(df_train_y.shape))\n",
    "print(\"test data X size: {}\".format(df_test_x.shape))\n",
    "print(\"test data Y size: {}\".format(df_test_y.shape))"
   ]
  },
  {
   "cell_type": "code",
   "execution_count": 9,
   "metadata": {},
   "outputs": [
    {
     "name": "stdout",
     "output_type": "stream",
     "text": [
      "Score on training set: 0.980\n",
      "Score on test set: 0.904\n"
     ]
    }
   ],
   "source": [
    "rf_uncustomized = RFR(random_state=1234)\n",
    "rf_uncustomized.fit(df_train_x, df_train_y)\n",
    "\n",
    "# Train 데이터 설명력\n",
    "print(\"Score on training set: {:.3f}\".format(rf_uncustomized.score(df_train_x, df_train_y)))\n",
    "\n",
    "#test데이터 설명력\n",
    "print(\"Score on test set: {:.3f}\".format(rf_uncustomized.score(df_test_x, df_test_y)))"
   ]
  },
  {
   "cell_type": "markdown",
   "metadata": {},
   "source": [
    "※ training set에 과적합이 발생한 것으로 보인다. 따라서 과적합을 \n",
    "해결할 수 있도록 모델의 파라미터를 조절할 필요가 있어보인다."
   ]
  },
  {
   "cell_type": "code",
   "execution_count": 14,
   "metadata": {},
   "outputs": [
    {
     "name": "stdout",
     "output_type": "stream",
     "text": [
      "best estimator model: \n",
      "RandomForestRegressor(max_depth=9, min_samples_split=6, n_estimators=40)\n",
      "best parmater: \n",
      "{'criterion': 'mse', 'max_depth': 9, 'min_samples_leaf': 1, 'min_samples_split': 6, 'n_estimators': 40}\n",
      "nbest score: \n",
      "0.864\n"
     ]
    }
   ],
   "source": [
    "estimator = RFR()\n",
    "\n",
    "# 트리 수 변경에 따른 모델 성능\n",
    "para_n_tree = [n_tree * 10 for n_tree in range(1, 6)]\n",
    "# 리프 노드 수\n",
    "para_leaf = [n_leaf * 1 for n_leaf in range(1, 10)]\n",
    "# 스플릿 최소 자료 수\n",
    "para_split = [n_leaf * 2 for n_leaf in range(2, 10)]\n",
    "# 트리 깊이\n",
    "para_depth = [depth for depth in range(1, 10)]\n",
    "\n",
    "\n",
    "# criterion은 mae와 mse만 비교\n",
    "param_grid = {\"criterion\": [\"mse\"],\"n_estimators\": para_n_tree,\n",
    "              \"max_depth\": para_depth, \"min_samples_split\": para_split, \n",
    "              \"min_samples_leaf\": para_leaf}\n",
    "\n",
    "grid_dt = GridSearchCV(estimator, param_grid, scoring=\"r2\", n_jobs=-1)\n",
    "grid_dt.fit(df_train_x, df_train_y)\n",
    "\n",
    "print(\"best estimator model: \\n{}\".format(grid_dt.best_estimator_))\n",
    "print(\"best parmater: \\n{}\".format(grid_dt.best_params_))\n",
    "print(\"nbest score: \\n{}\".format(grid_dt.best_score_.round(3)))"
   ]
  },
  {
   "cell_type": "code",
   "execution_count": 18,
   "metadata": {},
   "outputs": [
    {
     "data": {
      "text/plain": [
       "[1, 2, 3, 4, 5, 6, 7, 8, 9]"
      ]
     },
     "execution_count": 18,
     "metadata": {},
     "output_type": "execute_result"
    }
   ],
   "source": [
    "para_leaf"
   ]
  },
  {
   "cell_type": "markdown",
   "metadata": {},
   "source": [
    "- mae와 mse를 같이 넣고 그리드 서치를 돌리면 너무 시간이 오래 걸려 아래에서 MSE와 MAE별도 비교\n",
    "- 랜덤포레스트의 최적의 모델과 최적의 파라미터는 다음과 같다.\n",
    "    - 모델 : mse\n",
    "    - 깊이: 9\n",
    "    - 트리 수 변경에 따른 모델 성능: 40\n",
    "    - 최소 이파리 노드: 1\n",
    "    - 최소 스플릿: 6"
   ]
  },
  {
   "cell_type": "markdown",
   "metadata": {},
   "source": [
    "## 3)  MSE와 MAE비교\n",
    "- estimator model을 mae와 mse로 나눠서 각 파라미터를 넣어 확인해보도록 하겠다."
   ]
  },
  {
   "cell_type": "code",
   "execution_count": 20,
   "metadata": {},
   "outputs": [
    {
     "name": "stdout",
     "output_type": "stream",
     "text": [
      "MSE Score on training set: 0.967\n",
      "MSE Score on test set: 0.898\n",
      "\n",
      "MAE Score on training set: 0.962\n",
      "MAE Score on test set: 0.893\n"
     ]
    }
   ],
   "source": [
    "### MSE\n",
    "mse_tree_final = RFR(criterion=\"mse\", min_samples_leaf= 1, n_estimators= 40,\n",
    "                                       min_samples_split=4, max_depth=9,random_state=1234)\n",
    "mse_tree_final.fit(df_train_x, df_train_y)\n",
    "\n",
    "# Train 데이터 설명력\n",
    "print(\"MSE Score on training set: {:.3f}\".format(mse_tree_final.score(df_train_x, df_train_y)))\n",
    "#test데이터 설명력\n",
    "print(\"MSE Score on test set: {:.3f}\".format(mse_tree_final.score(df_test_x, df_test_y)))\n",
    "\n",
    "print(\"\")\n",
    "### MAE\n",
    "mae_tree_final = RFR(criterion=\"mae\", min_samples_leaf= 1, n_estimators= 40,\n",
    "                                       min_samples_split=4, max_depth=9,random_state=1234)\n",
    "mae_tree_final.fit(df_train_x, df_train_y)\n",
    "\n",
    "# Train 데이터 설명력\n",
    "print(\"MAE Score on training set: {:.3f}\".format(mae_tree_final.score(df_train_x, df_train_y)))\n",
    "#test데이터 설명력\n",
    "print(\"MAE Score on test set: {:.3f}\".format(mae_tree_final.score(df_test_x, df_test_y)))"
   ]
  },
  {
   "cell_type": "markdown",
   "metadata": {},
   "source": [
    "- MSE의 성능이 MAE성능보다 training set과 test set에서 다 높은 성능을 보여준다."
   ]
  },
  {
   "cell_type": "markdown",
   "metadata": {},
   "source": [
    "## 4) 최종모델 선정 및 결과"
   ]
  },
  {
   "cell_type": "code",
   "execution_count": 26,
   "metadata": {},
   "outputs": [
    {
     "name": "stdout",
     "output_type": "stream",
     "text": [
      "Score on training set: 0.967\n",
      "Score on test set: 0.898\n"
     ]
    }
   ],
   "source": [
    "# 최종모델\n",
    "rf_final = RFR(random_state=1234, n_estimators = 40, min_samples_leaf = 1, \n",
    "             min_samples_split=4, max_depth=9 )\n",
    "rf_final.fit(df_train_x, df_train_y)\n",
    "prediction = rf_final.predict(df_test_x)\n",
    "\n",
    "# Train 데이터 설명력\n",
    "print(\"Score on training set: {:.3f}\".format(rf_final.score(df_train_x, df_train_y)))\n",
    "\n",
    "#test데이터 설명력\n",
    "print(\"Score on test set: {:.3f}\".format(rf_final.score(df_test_x, df_test_y)))"
   ]
  },
  {
   "cell_type": "code",
   "execution_count": 30,
   "metadata": {},
   "outputs": [
    {
     "data": {
      "text/plain": [
       "5.256"
      ]
     },
     "execution_count": 30,
     "metadata": {},
     "output_type": "execute_result"
    }
   ],
   "source": [
    "### 평가함수\n",
    "from sklearn.metrics import mean_squared_error\n",
    "\n",
    "def root_mean_squared_error(y_true, y_pred):\n",
    "    return np.sqrt(mean_squared_error(y_true, y_pred))\n",
    "\n",
    "root_mean_squared_error(df_test_y, prediction).round(3)"
   ]
  },
  {
   "cell_type": "code",
   "execution_count": 28,
   "metadata": {},
   "outputs": [
    {
     "data": {
      "text/html": [
       "<div>\n",
       "<style scoped>\n",
       "    .dataframe tbody tr th:only-of-type {\n",
       "        vertical-align: middle;\n",
       "    }\n",
       "\n",
       "    .dataframe tbody tr th {\n",
       "        vertical-align: top;\n",
       "    }\n",
       "\n",
       "    .dataframe thead th {\n",
       "        text-align: right;\n",
       "    }\n",
       "</style>\n",
       "<table border=\"1\" class=\"dataframe\">\n",
       "  <thead>\n",
       "    <tr style=\"text-align: right;\">\n",
       "      <th></th>\n",
       "      <th>Feature</th>\n",
       "      <th>Importance</th>\n",
       "    </tr>\n",
       "  </thead>\n",
       "  <tbody>\n",
       "    <tr>\n",
       "      <th>7</th>\n",
       "      <td>age</td>\n",
       "      <td>0.350</td>\n",
       "    </tr>\n",
       "    <tr>\n",
       "      <th>0</th>\n",
       "      <td>cement</td>\n",
       "      <td>0.266</td>\n",
       "    </tr>\n",
       "    <tr>\n",
       "      <th>3</th>\n",
       "      <td>water</td>\n",
       "      <td>0.155</td>\n",
       "    </tr>\n",
       "    <tr>\n",
       "      <th>4</th>\n",
       "      <td>superplasticizer</td>\n",
       "      <td>0.079</td>\n",
       "    </tr>\n",
       "    <tr>\n",
       "      <th>1</th>\n",
       "      <td>blast_furnace_slag</td>\n",
       "      <td>0.052</td>\n",
       "    </tr>\n",
       "    <tr>\n",
       "      <th>6</th>\n",
       "      <td>fine_aggregate</td>\n",
       "      <td>0.044</td>\n",
       "    </tr>\n",
       "    <tr>\n",
       "      <th>5</th>\n",
       "      <td>coarse_aggregate</td>\n",
       "      <td>0.033</td>\n",
       "    </tr>\n",
       "    <tr>\n",
       "      <th>2</th>\n",
       "      <td>fly_ash</td>\n",
       "      <td>0.022</td>\n",
       "    </tr>\n",
       "  </tbody>\n",
       "</table>\n",
       "</div>"
      ],
      "text/plain": [
       "              Feature  Importance\n",
       "7                 age       0.350\n",
       "0              cement       0.266\n",
       "3               water       0.155\n",
       "4    superplasticizer       0.079\n",
       "1  blast_furnace_slag       0.052\n",
       "6      fine_aggregate       0.044\n",
       "5    coarse_aggregate       0.033\n",
       "2             fly_ash       0.022"
      ]
     },
     "execution_count": 28,
     "metadata": {},
     "output_type": "execute_result"
    }
   ],
   "source": [
    "## 설명변수 중요도\n",
    "v_feature_name = df_train_x.columns\n",
    "df_importance = pd.DataFrame()\n",
    "df_importance[\"Feature\"]=v_feature_name\n",
    "df_importance[\"Importance\"] = rf_final.feature_importances_\n",
    "\n",
    "df_importance.sort_values(\"Importance\", ascending=False, inplace = True)\n",
    "df_importance.round(3)"
   ]
  },
  {
   "cell_type": "code",
   "execution_count": 29,
   "metadata": {},
   "outputs": [
    {
     "data": {
      "text/plain": [
       "Text(0, 0.5, '변수(feature)')"
      ]
     },
     "execution_count": 29,
     "metadata": {},
     "output_type": "execute_result"
    },
    {
     "data": {
      "image/png": "[encoded data removed]",
      "text/plain": [
       "<Figure size 432x288 with 1 Axes>"
      ]
     },
     "metadata": {
      "needs_background": "light"
     },
     "output_type": "display_data"
    }
   ],
   "source": [
    "df_importance.sort_values(\"Importance\", ascending= True, inplace=True)\n",
    "coordinates=range(len(df_importance))\n",
    "plt.barh(y=coordinates, width = df_importance[\"Importance\"])\n",
    "plt.yticks(coordinates, df_importance[\"Feature\"])\n",
    "plt.xlabel(\"변수 중요도(Importance)\")\n",
    "plt.ylabel(\"변수(feature)\")"
   ]
  },
  {
   "cell_type": "markdown",
   "metadata": {},
   "source": [
    "- Decision Tree Regressor 모델의 테스트 점수는 0.898로 꽤나 정확한 것으로 보인다.\n",
    "    - Score on training set: 0.967\n",
    "    - Score on test set: 0.898\n",
    "    \n",
    "    초기 점수\n",
    "    - Score on training set: 0.980\n",
    "    - Score on test set: 0.904\n",
    "\n",
    "\n",
    "- GridSearch로 파라미터를 적용시킨 모델은 기존 모델보다 training set점수는 0.23 정도 줄었고, test set의 정확도는 0.006 정도 줄어들었음을 확인할 수 있다. 일종의 과적합을 잡았다고 할 수 있을 것으로 보인다.\n",
    "\n",
    "- 변수 중요도는 age, cement, water 순서라고 할 수 있기에, 시멘트의 강도에 영향을 가장 크게 미치는 변수는 age, cement, water의 양으로 보여진다.\n",
    "\n",
    "- RMSE는 5.256 정도로 나타난다. (수업 미진행으로 해석 보류)"
   ]
  },
  {
   "cell_type": "code",
   "execution_count": null,
   "metadata": {},
   "outputs": [],
   "source": []
  }
 ],
 "metadata": {
  "kernelspec": {
   "display_name": "Python 3",
   "language": "python",
   "name": "python3"
  },
  "language_info": {
   "codemirror_mode": {
    "name": "ipython",
    "version": 3
   },
   "file_extension": ".py",
   "mimetype": "text/x-python",
   "name": "python",
   "nbconvert_exporter": "python",
   "pygments_lexer": "ipython3",
   "version": "3.8.5"
  }
 },
 "nbformat": 4,
 "nbformat_minor": 4
}
